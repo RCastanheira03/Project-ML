import yaml
import pandas as pd
from pathlib import Path

config_path = Path("../config.yaml")

with open(config_path, "r") as f:
    config = yaml.safe_load(f)

csv_relative_path = config["data"]["raw_data_csv"]["raw_data"]

csv_path = config_path.parent / csv_relative_path

df = pd.read_csv(csv_path)



