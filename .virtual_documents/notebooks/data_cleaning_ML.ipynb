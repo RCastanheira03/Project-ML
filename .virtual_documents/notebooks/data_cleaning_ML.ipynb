import pandas as pd
import yaml
from pathlib import Path

config_path = Path("../config.yaml")

with open(config_path, "r") as f:
    config = yaml.safe_load(f)

csv_relative_path = config["data"]["raw_data_csv"]["raw_data"]

csv_path = config_path.parent / csv_relative_path

df = pd.read_csv(csv_path)
df


#https://www.kaggle.com/datasets/nehalbirla/vehicle-dataset-from-cardekho?select=car+details+v4.csv


from sklearn.preprocessing import OneHotEncoder

encoder = OneHotEncoder(drop='first', sparse_output=False)
encoded = encoder.fit_transform(df[['fuel', 'seller_type', 'transmission']])

encoded_df = pd.DataFrame(encoded, columns=encoder.get_feature_names_out(['fuel', 'seller_type', 'transmission']))
df = pd.concat([df.drop(['fuel', 'seller_type', 'transmission'], axis=1), encoded_df], axis=1)


df['brand'] = df['name'].str.split().str[0]
df.drop('name', axis=1, inplace=True)


encoder = OneHotEncoder(drop='first', sparse_output=False)
encoded = encoder.fit_transform(df[['brand']])

#Create new DataFrame with encoded brand columns
encoded_df = pd.DataFrame(encoded, columns=encoder.get_feature_names_out(['brand']), index=df.index)

#Concatenate encoded columns back to original df
df = pd.concat([df.drop('brand', axis=1), encoded_df], axis=1)



df['car_age'] = 2025 - df['year']
df.drop('year', axis=1, inplace=True)


df['owner'].unique()


from sklearn.preprocessing import OrdinalEncoder

encoder = OrdinalEncoder(categories=[['First Owner', 'Second Owner', 'Third Owner', 'Fourth & Above Owner', 'Test Drive Car']])
df[['owner']] = encoder.fit_transform(df[['owner']])


df['mileage'].unique()


#df['mileage'] = df['mileage'].str.replace(' kmpl', '', regex=False).astype(float)
df['mileage'] = df['mileage'].str.extract(r'([\d.]+)').astype(float)


df['engine'] = df['engine'].str.replace(' CC', '', regex=False).astype(float)


df['max_power'].unique()


#df['max_power'] = df['max_power'].str.replace(' bhp', '', regex=False).astype(float)
df['max_power'] = pd.to_numeric(df['max_power'].str.replace(' bhp', '', regex=False), errors='coerce')

# Fill NaN with the mean value
df['max_power'] = df['max_power'].fillna(df['max_power'].mean())


import re

# Extract numeric torque value
df['torque'] = df['torque'].str.extract(r'([\d.]+)').astype(float)


df.dtypes


#clean_relative_path = config["data"]["clean_data_csv"]["clean_data"]
#clean_csv_path = config_path.parent / clean_relative_path

# Ensure the directory exists
#clean_csv_path.parent.mkdir(parents=True, exist_ok=True)

# Save the cleaned DataFrame
#df.to_csv(clean_csv_path, index=False)


df.isnull().sum()


df = df.dropna(axis=0, how='any')


df.isnull().sum()


clean_relative_path = config["data"]["clean_data_csv"]["clean_data"]
clean_csv_path = config_path.parent / clean_relative_path

# Ensure the directory exists
clean_csv_path.parent.mkdir(parents=True, exist_ok=True)

# Save the cleaned DataFrame
df.to_csv(clean_csv_path, index=False)



