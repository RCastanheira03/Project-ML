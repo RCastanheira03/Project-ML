import yaml
import pandas as pd

from pathlib import Path
import matplotlib.pyplot as plt
import seaborn as sns

from sklearn.model_selection import train_test_split

config_path = Path("../config.yaml")

with open(config_path, "r") as f:
    config = yaml.safe_load(f)

csv_relative_path = config["data"]["clean_data_csv"]["clean_data"]

csv_path = config_path.parent / csv_relative_path

df = pd.read_csv(csv_path)


df


df.isnull().sum()


# X-y split; features = X, target = y
features = df.drop(columns = ["selling_price"])
target = df["selling_price"]


X_train, X_test, y_train, y_test = train_test_split(features, target, test_size=0.20, random_state=0)


X_train.head()


y_train.head()


from sklearn.neighbors import KNeighborsRegressor


knn = KNeighborsRegressor(n_neighbors=10)


knn.fit(X_train, y_train)


print(f"The R2 of the model is {knn.score(X_test, y_test): .2f}")
