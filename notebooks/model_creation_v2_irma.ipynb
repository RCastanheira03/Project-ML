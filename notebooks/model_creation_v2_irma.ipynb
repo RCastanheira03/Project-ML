{
 "cells": [
  {
   "cell_type": "code",
   "execution_count": null,
   "id": "220a53f5-72aa-425a-8792-2db1ec018545",
   "metadata": {},
   "outputs": [],
   "source": [
    "from pathlib import Path\n",
    "import yaml\n",
    "import pandas as pd\n",
    "\n",
    "config_path = Path(\"../config.yaml\")\n",
    "with open(config_path, \"r\") as f:\n",
    "    config = yaml.safe_load(f)\n",
    "\n",
    "csv_relative_path = config[\"data\"][\"clean_data_csv\"][\"clean_data_v3_irma\"]\n",
    "csv_path = config_path.parent / csv_relative_path\n",
    "\n",
    "df = pd.read_csv(csv_path)\n",
    "print(df.shape)\n",
    "df.head()\n",
    "\n"
   ]
  },
  {
   "cell_type": "code",
   "execution_count": null,
   "id": "70954d4d-6ff5-43d3-a62b-fa16b0c374a5",
   "metadata": {},
   "outputs": [],
   "source": [
    "# Define target and features\n",
    "X = df.drop(columns=[\"selling_price\"])\n",
    "y = df[\"selling_price\"]\n"
   ]
  },
  {
   "cell_type": "code",
   "execution_count": null,
   "id": "9c8cc693-d6ea-4370-af44-c3f27ab65acd",
   "metadata": {},
   "outputs": [],
   "source": [
    "# Train/Test Split\n",
    "from sklearn.model_selection import train_test_split\n",
    "\n",
    "X_train, X_test, y_train, y_test = train_test_split(X, y, test_size=0.2, random_state=42)\n",
    "print(X_train.shape, X_test.shape)\n"
   ]
  },
  {
   "cell_type": "code",
   "execution_count": null,
   "id": "27e40d15-6092-4cbf-a3e3-79ff8a837992",
   "metadata": {},
   "outputs": [],
   "source": [
    "#Feature Scaling\n",
    "from sklearn.preprocessing import MinMaxScaler\n",
    "\n",
    "scaler = MinMaxScaler()\n",
    "X_train_scaled = scaler.fit_transform(X_train)\n",
    "X_test_scaled = scaler.transform(X_test)\n"
   ]
  },
  {
   "cell_type": "code",
   "execution_count": null,
   "id": "302a6086-fc9c-4868-a9b9-5f5edbf87a61",
   "metadata": {},
   "outputs": [],
   "source": [
    "import numpy as np\n",
    "import pandas as pd\n",
    "from sklearn.metrics import mean_absolute_error, mean_squared_error, r2_score\n",
    "\n",
    "def evaluate_model(name, model,\n",
    "                   X_train_scaled, X_test_scaled,\n",
    "                   X_train, X_test,\n",
    "                   y_train, y_test, use_scaled=True):\n",
    "    \"\"\"\n",
    "    Train and evaluate a regression model and store results in the global results_df.\n",
    "    Automatically removes any previous entry of the same model name to avoid duplicates.\n",
    "    \"\"\"\n",
    "\n",
    "    # Select scaled or unscaled data depending on the model\n",
    "    if use_scaled:\n",
    "        Xtr, Xte = X_train_scaled, X_test_scaled\n",
    "    else:\n",
    "        Xtr, Xte = X_train, X_test\n",
    "\n",
    "    # Train the model\n",
    "    model.fit(Xtr, y_train)\n",
    "    y_pred = model.predict(Xte)\n",
    "\n",
    "    # Compute metrics\n",
    "    mae = mean_absolute_error(y_test, y_pred)\n",
    "    mse = mean_squared_error(y_test, y_pred)\n",
    "    rmse = np.sqrt(mse)\n",
    "    r2 = r2_score(y_test, y_pred)\n",
    "\n",
    "    # Update global results without duplicates\n",
    "    global results_df\n",
    "    results_df = results_df[results_df[\"Model\"] != name]  # remove old row if it exists\n",
    "\n",
    "    new_row = pd.DataFrame([{\n",
    "        \"Model\": name,\n",
    "        \"MAE\": mae,\n",
    "        \"MSE\": mse,\n",
    "        \"RMSE\": rmse,\n",
    "        \"R²\": r2\n",
    "    }])\n",
    "\n",
    "    results_df = pd.concat([results_df, new_row], ignore_index=True)\n",
    "\n",
    "    # Display summary in console\n",
    "    print(f\"{name} -> R²: {r2:.4f} | RMSE: {rmse:.4f} | MAE: {mae:.4f} | MSE: {mse:.4f}\")\n"
   ]
  },
  {
   "cell_type": "code",
   "execution_count": null,
   "id": "a6999655-ad2a-40a3-949c-83a964fc8492",
   "metadata": {},
   "outputs": [],
   "source": [
    "from sklearn.neighbors import KNeighborsRegressor\n",
    "from sklearn.metrics import mean_absolute_error, mean_squared_error, r2_score\n",
    "import numpy as np\n",
    "\n",
    "# Create model KNN before scaling\n",
    "knn_raw = KNeighborsRegressor()\n",
    "\n",
    "# Train and predict \n",
    "knn_raw.fit(X_train, y_train)\n",
    "y_pred_knn_raw = knn_raw.predict(X_test)\n",
    "\n",
    "# Compute metrics\n",
    "mae_raw = mean_absolute_error(y_test, y_pred_knn_raw)\n",
    "mse_raw = mean_squared_error(y_test, y_pred_knn_raw)\n",
    "rmse_raw = np.sqrt(mse_raw)\n",
    "r2_raw = r2_score(y_test, y_pred_knn_raw)\n",
    "\n",
    "print(\"KNN (sin escalar)\")\n",
    "print(f\"MAE: {mae_raw:.2f}\")\n",
    "print(f\"MSE: {mse_raw:.2f}\")\n",
    "print(f\"RMSE: {rmse_raw:.2f}\")\n",
    "print(f\"R²: {r2_raw:.4f}\")\n"
   ]
  },
  {
   "cell_type": "code",
   "execution_count": null,
   "id": "db8b47e2-e259-470b-9fce-3974ef5103de",
   "metadata": {},
   "outputs": [],
   "source": [
    "# Create model KNN after scaling\n",
    "knn_scaled = KNeighborsRegressor()\n",
    "\n",
    "# train with scaled data\n",
    "knn_scaled.fit(X_train_scaled, y_train)\n",
    "y_pred_knn_scaled = knn_scaled.predict(X_test_scaled)\n",
    "\n",
    "# compute metrics\n",
    "mae_scaled = mean_absolute_error(y_test, y_pred_knn_scaled)\n",
    "mse_scaled = mean_squared_error(y_test, y_pred_knn_scaled)\n",
    "rmse_scaled = np.sqrt(mse_scaled)\n",
    "r2_scaled = r2_score(y_test, y_pred_knn_scaled)\n",
    "\n",
    "print(\"KNN (con datos escalados)\")\n",
    "print(f\"MAE: {mae_scaled:.2f}\")\n",
    "print(f\"MSE: {mse_scaled:.2f}\")\n",
    "print(f\"RMSE: {rmse_scaled:.2f}\")\n",
    "print(f\"R²: {r2_scaled:.4f}\")\n"
   ]
  },
  {
   "cell_type": "markdown",
   "id": "06d5be99-2819-4584-9135-05f35123c214",
   "metadata": {},
   "source": [
    "### KNN Before vs After Scaling\n",
    "\n",
    "We tested the KNN model both before and after feature scaling.  \n",
    "Because the dataset had already been normalized during the cleaning phase (values between 0 and 1),  \n",
    "the results were almost identical (R² ≈ 0.89).  \n",
    "This confirms that the features were already scaled properly and no additional normalization was required.\n"
   ]
  },
  {
   "cell_type": "code",
   "execution_count": null,
   "id": "e499be83-c4d9-464b-aa20-49df93e469b6",
   "metadata": {},
   "outputs": [],
   "source": [
    "# Linear Regression (after scaling)\n",
    "from sklearn.linear_model import LinearRegression\n",
    "\n",
    "lin_reg = LinearRegression()\n",
    "\n",
    "evaluate_model(\"Linear Regression\", lin_reg, \n",
    "               X_train_scaled, X_test_scaled, \n",
    "               X_train, X_test, \n",
    "               y_train, y_test, use_scaled=True)\n"
   ]
  },
  {
   "cell_type": "code",
   "execution_count": null,
   "id": "2575d78b-6318-4caa-ab40-c1ad2be98718",
   "metadata": {},
   "outputs": [],
   "source": [
    "#Bagging Regressor (before scaling)\n",
    "\n",
    "from sklearn.ensemble import BaggingRegressor\n",
    "from sklearn.tree import DecisionTreeRegressor\n",
    "\n",
    "bagging = BaggingRegressor(\n",
    "    estimator=DecisionTreeRegressor(random_state=42),  # ← cambio aquí\n",
    "    n_estimators=100,\n",
    "    bootstrap=True,   # True = Bagging (con reemplazo)\n",
    "    random_state=42\n",
    ")\n",
    "\n",
    "evaluate_model(\"Bagging (DecisionTree)\", bagging,\n",
    "               X_train_scaled, X_test_scaled, \n",
    "               X_train, X_test,\n",
    "               y_train, y_test, use_scaled=False)\n"
   ]
  },
  {
   "cell_type": "code",
   "execution_count": null,
   "id": "791704e4-e958-4160-b5ae-fb345f808755",
   "metadata": {},
   "outputs": [],
   "source": [
    "#Pasting Regressor (before scaling)\n",
    "pasting = BaggingRegressor(\n",
    "    estimator=DecisionTreeRegressor(random_state=42),  # ← cambio aquí también\n",
    "    n_estimators=100,\n",
    "    bootstrap=False,   # False = Pasting (sin reemplazo)\n",
    "    random_state=42\n",
    ")\n",
    "\n",
    "evaluate_model(\"Pasting (DecisionTree)\", pasting,\n",
    "               X_train_scaled, X_test_scaled, \n",
    "               X_train, X_test,\n",
    "               y_train, y_test, use_scaled=False)\n",
    "\n"
   ]
  },
  {
   "cell_type": "code",
   "execution_count": null,
   "id": "b141372f-25dd-466f-a325-2c030e3bf84f",
   "metadata": {},
   "outputs": [],
   "source": [
    "# Random Forest (before scaling)\n",
    "from sklearn.ensemble import RandomForestRegressor\n",
    "\n",
    "rf = RandomForestRegressor(\n",
    "    n_estimators=200,\n",
    "    max_depth=None,\n",
    "    random_state=42\n",
    ")\n",
    "\n",
    "evaluate_model(\"Random Forest\", rf,\n",
    "               X_train_scaled, X_test_scaled, \n",
    "               X_train, X_test,\n",
    "               y_train, y_test, use_scaled=False)\n"
   ]
  },
  {
   "cell_type": "code",
   "execution_count": null,
   "id": "b6528ad8-0c5e-4ae4-91f7-240ed70edf86",
   "metadata": {},
   "outputs": [],
   "source": [
    "# Gradient Boosting (before scaling)\n",
    "from sklearn.ensemble import GradientBoostingRegressor\n",
    "\n",
    "gbr = GradientBoostingRegressor(\n",
    "    n_estimators=200,\n",
    "    learning_rate=0.1,\n",
    "    random_state=42\n",
    ")\n",
    "\n",
    "evaluate_model(\"Gradient Boosting\", gbr,\n",
    "               X_train_scaled, X_test_scaled, \n",
    "               X_train, X_test,\n",
    "               y_train, y_test, use_scaled=False)\n"
   ]
  },
  {
   "cell_type": "code",
   "execution_count": null,
   "id": "17064cab-d57c-48dd-95d6-7f60a32bc370",
   "metadata": {},
   "outputs": [],
   "source": [
    "#Adaptive Boosting (AdaBoost) before scaling\n",
    "from sklearn.ensemble import AdaBoostRegressor\n",
    "\n",
    "ada = AdaBoostRegressor(\n",
    "    n_estimators=200,\n",
    "    learning_rate=0.8,\n",
    "    random_state=42\n",
    ")\n",
    "\n",
    "evaluate_model(\"AdaBoost\", ada,\n",
    "               X_train_scaled, X_test_scaled, \n",
    "               X_train, X_test,\n",
    "               y_train, y_test, use_scaled=False)\n"
   ]
  },
  {
   "cell_type": "code",
   "execution_count": null,
   "id": "a1e42693-c3f4-402a-a64a-7c0e0fe0a447",
   "metadata": {},
   "outputs": [],
   "source": [
    "results_df.sort_values(by=\"R²\", ascending=False).reset_index(drop=True)\n"
   ]
  },
  {
   "cell_type": "code",
   "execution_count": null,
   "id": "7530865f-b244-4b18-b67f-bebc18f3de91",
   "metadata": {},
   "outputs": [],
   "source": [
    "import matplotlib.pyplot as plt\n",
    "\n",
    "tmp = results_df.sort_values(by=\"R²\", ascending=True)\n",
    "\n",
    "plt.figure(figsize=(8,5))\n",
    "plt.barh(tmp[\"Model\"], tmp[\"R²\"])\n",
    "plt.title(\"Model Performance (R²)\")\n",
    "plt.xlabel(\"R²\")\n",
    "plt.show()\n",
    "\n",
    "plt.figure(figsize=(8,5))\n",
    "plt.barh(tmp[\"Model\"], tmp[\"RMSE\"])\n",
    "plt.title(\"Model Error (RMSE)\")\n",
    "plt.xlabel(\"RMSE\")\n",
    "plt.show()\n"
   ]
  },
  {
   "cell_type": "markdown",
   "id": "7f49e93c-c696-43ba-b5dc-c884c98241b7",
   "metadata": {},
   "source": [
    "### Model Evaluation Summary\n",
    "\n",
    "We evaluated several regression models to predict car selling prices.  \n",
    "The following metrics were used: **MAE**, **MSE**, **RMSE**, and **R²**.\n",
    "\n",
    "**Key findings:**\n",
    "- **Random Forest** achieved the best overall performance (R² = 0.93), indicating strong predictive power and stability.  \n",
    "- **Bagging (Decision Tree)** performed nearly as well, confirming the benefit of ensemble averaging.  \n",
    "- **Gradient Boosting** also showed robust performance, slightly below Random Forest.  \n",
    "- **Linear Regression** and **KNN** achieved decent but weaker results, as expected for non-ensemble methods.  \n",
    "- **AdaBoost** underperformed, possibly due to sensitivity to outliers and non-linear relationships.\n",
    "\n",
    "In conclusion, **Random Forest** was selected as the best model for further optimization (hyperparameter tuning) because it provides the best balance between bias and variance.\n"
   ]
  }
 ],
 "metadata": {
  "kernelspec": {
   "display_name": "venv",
   "language": "python",
   "name": "venv"
  },
  "language_info": {
   "codemirror_mode": {
    "name": "ipython",
    "version": 3
   },
   "file_extension": ".py",
   "mimetype": "text/x-python",
   "name": "python",
   "nbconvert_exporter": "python",
   "pygments_lexer": "ipython3",
   "version": "3.12.11"
  }
 },
 "nbformat": 4,
 "nbformat_minor": 5
}
