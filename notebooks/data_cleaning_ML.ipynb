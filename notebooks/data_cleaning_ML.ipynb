{
 "cells": [
  {
   "cell_type": "code",
   "execution_count": null,
   "id": "1fa55581-861f-4531-b36f-4645945a29b7",
   "metadata": {},
   "outputs": [],
   "source": [
    "import pandas as pd\n",
    "import yaml\n",
    "from pathlib import Path\n",
    "\n",
    "config_path = Path(\"../config.yaml\")\n",
    "\n",
    "with open(config_path, \"r\") as f:\n",
    "    config = yaml.safe_load(f)\n",
    "\n",
    "csv_relative_path = config[\"data\"][\"raw_data_csv\"][\"raw_data\"]\n",
    "\n",
    "csv_path = config_path.parent / csv_relative_path\n",
    "\n",
    "df = pd.read_csv(csv_path)\n",
    "df"
   ]
  },
  {
   "cell_type": "code",
   "execution_count": null,
   "id": "17242234-d567-47ec-9184-39159fc346c2",
   "metadata": {},
   "outputs": [],
   "source": [
    "#https://www.kaggle.com/datasets/nehalbirla/vehicle-dataset-from-cardekho?select=car+details+v4.csv"
   ]
  },
  {
   "cell_type": "code",
   "execution_count": null,
   "id": "fab7d14b-88c7-4dad-919c-1371fc73d521",
   "metadata": {},
   "outputs": [],
   "source": [
    "from sklearn.preprocessing import OneHotEncoder\n",
    "\n",
    "encoder = OneHotEncoder(drop='first', sparse_output=False)\n",
    "encoded = encoder.fit_transform(df[['fuel', 'seller_type', 'transmission']])\n",
    "\n",
    "encoded_df = pd.DataFrame(encoded, columns=encoder.get_feature_names_out(['fuel', 'seller_type', 'transmission']))\n",
    "df = pd.concat([df.drop(['fuel', 'seller_type', 'transmission'], axis=1), encoded_df], axis=1)"
   ]
  },
  {
   "cell_type": "code",
   "execution_count": null,
   "id": "b32698ff-9f5b-4534-acf1-6455df016c2d",
   "metadata": {},
   "outputs": [],
   "source": [
    "df['brand'] = df['name'].str.split().str[0]\n",
    "df.drop('name', axis=1, inplace=True)\n",
    "\n",
    "\n",
    "encoder = OneHotEncoder(drop='first', sparse_output=False)\n",
    "encoded = encoder.fit_transform(df[['brand']])\n",
    "\n",
    "#Create new DataFrame with encoded brand columns\n",
    "encoded_df = pd.DataFrame(encoded, columns=encoder.get_feature_names_out(['brand']), index=df.index)\n",
    "\n",
    "#Concatenate encoded columns back to original df\n",
    "df = pd.concat([df.drop('brand', axis=1), encoded_df], axis=1)\n"
   ]
  },
  {
   "cell_type": "code",
   "execution_count": null,
   "id": "2d8132ca-f9a1-498c-8ca0-1ce1b6c0f09f",
   "metadata": {},
   "outputs": [],
   "source": [
    "df['car_age'] = 2025 - df['year']\n",
    "df.drop('year', axis=1, inplace=True)"
   ]
  },
  {
   "cell_type": "code",
   "execution_count": null,
   "id": "56054302-338b-4637-84f2-7aefdbb9c69e",
   "metadata": {},
   "outputs": [],
   "source": [
    "df['owner'].unique()"
   ]
  },
  {
   "cell_type": "code",
   "execution_count": null,
   "id": "d9c084bc-2608-4f9c-8f30-68ad7072642c",
   "metadata": {},
   "outputs": [],
   "source": [
    "from sklearn.preprocessing import OrdinalEncoder\n",
    "\n",
    "encoder = OrdinalEncoder(categories=[['First Owner', 'Second Owner', 'Third Owner', 'Fourth & Above Owner', 'Test Drive Car']])\n",
    "df[['owner']] = encoder.fit_transform(df[['owner']])"
   ]
  },
  {
   "cell_type": "code",
   "execution_count": null,
   "id": "f73797ce-8955-4f33-af75-c956c664b774",
   "metadata": {},
   "outputs": [],
   "source": [
    "df['mileage'].unique()"
   ]
  },
  {
   "cell_type": "code",
   "execution_count": null,
   "id": "f05d5cd6-d20c-4820-8a7f-0f4f5fddb391",
   "metadata": {},
   "outputs": [],
   "source": [
    "#df['mileage'] = df['mileage'].str.replace(' kmpl', '', regex=False).astype(float)\n",
    "df['mileage'] = df['mileage'].str.extract(r'([\\d.]+)').astype(float)"
   ]
  },
  {
   "cell_type": "code",
   "execution_count": null,
   "id": "868cb2e5-37cd-4312-8c9d-e1b58486aa4b",
   "metadata": {},
   "outputs": [],
   "source": [
    "df['engine'] = df['engine'].str.replace(' CC', '', regex=False).astype(float)"
   ]
  },
  {
   "cell_type": "code",
   "execution_count": null,
   "id": "c9e5ed83-ccf9-4447-853f-fb4112c7958b",
   "metadata": {},
   "outputs": [],
   "source": [
    "df['max_power'].unique()"
   ]
  },
  {
   "cell_type": "code",
   "execution_count": null,
   "id": "851f1f49-641a-4965-800c-8323d8fee578",
   "metadata": {},
   "outputs": [],
   "source": [
    "#df['max_power'] = df['max_power'].str.replace(' bhp', '', regex=False).astype(float)\n",
    "df['max_power'] = pd.to_numeric(df['max_power'].str.replace(' bhp', '', regex=False), errors='coerce')\n",
    "\n",
    "# Fill NaN with the mean value\n",
    "df['max_power'] = df['max_power'].fillna(df['max_power'].mean())"
   ]
  },
  {
   "cell_type": "code",
   "execution_count": null,
   "id": "95cc4087-a892-4451-b171-190bbb663a3b",
   "metadata": {},
   "outputs": [],
   "source": [
    "import re\n",
    "\n",
    "# Extract numeric torque value\n",
    "df['torque'] = df['torque'].str.extract(r'([\\d.]+)').astype(float)"
   ]
  },
  {
   "cell_type": "code",
   "execution_count": null,
   "id": "50256cc4-ea90-4482-b5da-a255529b5945",
   "metadata": {},
   "outputs": [],
   "source": [
    "df.dtypes"
   ]
  },
  {
   "cell_type": "code",
   "execution_count": null,
   "id": "58079e7a-e780-411a-bc07-87bfe6ff3fd0",
   "metadata": {},
   "outputs": [],
   "source": [
    "#clean_relative_path = config[\"data\"][\"clean_data_csv\"][\"clean_data\"]\n",
    "#clean_csv_path = config_path.parent / clean_relative_path\n",
    "\n",
    "# Ensure the directory exists\n",
    "#clean_csv_path.parent.mkdir(parents=True, exist_ok=True)\n",
    "\n",
    "# Save the cleaned DataFrame\n",
    "#df.to_csv(clean_csv_path, index=False)"
   ]
  },
  {
   "cell_type": "code",
   "execution_count": null,
   "id": "51ec0d81-f792-4b9b-bd8d-4bff131c6802",
   "metadata": {},
   "outputs": [],
   "source": [
    "df.isnull().sum()"
   ]
  },
  {
   "cell_type": "code",
   "execution_count": null,
   "id": "da2abd8d-d68b-4c88-ac12-03313bc1bedf",
   "metadata": {},
   "outputs": [],
   "source": [
    "df = df.dropna(axis=0, how='any')"
   ]
  },
  {
   "cell_type": "code",
   "execution_count": null,
   "id": "fa21c237-b0ae-4aa7-ae2a-ff4956dae8fa",
   "metadata": {},
   "outputs": [],
   "source": [
    "df.isnull().sum()"
   ]
  },
  {
   "cell_type": "code",
   "execution_count": null,
   "id": "3b7fc9eb-b4b5-429a-89b6-10960e1e1ba8",
   "metadata": {},
   "outputs": [],
   "source": [
    "clean_relative_path = config[\"data\"][\"clean_data_csv\"][\"clean_data\"]\n",
    "clean_csv_path = config_path.parent / clean_relative_path\n",
    "\n",
    "# Ensure the directory exists\n",
    "clean_csv_path.parent.mkdir(parents=True, exist_ok=True)\n",
    "\n",
    "# Save the cleaned DataFrame\n",
    "df.to_csv(clean_csv_path, index=False)"
   ]
  },
  {
   "cell_type": "code",
   "execution_count": null,
   "id": "75cc76b7-b633-4c81-9b08-c3ee86cb9754",
   "metadata": {},
   "outputs": [],
   "source": []
  }
 ],
 "metadata": {
  "kernelspec": {
   "display_name": "Python [conda env:base] *",
   "language": "python",
   "name": "conda-base-py"
  },
  "language_info": {
   "codemirror_mode": {
    "name": "ipython",
    "version": 3
   },
   "file_extension": ".py",
   "mimetype": "text/x-python",
   "name": "python",
   "nbconvert_exporter": "python",
   "pygments_lexer": "ipython3",
   "version": "3.13.5"
  }
 },
 "nbformat": 4,
 "nbformat_minor": 5
}
