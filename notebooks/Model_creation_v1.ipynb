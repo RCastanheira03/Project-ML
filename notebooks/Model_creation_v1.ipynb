{
 "cells": [
  {
   "cell_type": "code",
   "execution_count": null,
   "id": "67edeaf5-fd6e-4488-9686-df7df50c7a17",
   "metadata": {},
   "outputs": [],
   "source": [
    "# Import libraries and configuration\n",
    "\n",
    "import yaml\n",
    "import pandas as pd\n",
    "\n",
    "from pathlib import Path\n",
    "import matplotlib.pyplot as plt\n",
    "import seaborn as sns\n",
    "\n",
    "from sklearn.model_selection import train_test_split\n",
    "\n",
    "# Load the dataset from config.yaml\n",
    "\n",
    "config_path = Path(\"../config.yaml\")\n",
    "\n",
    "with open(config_path, \"r\") as f:\n",
    "    config = yaml.safe_load(f)\n",
    "\n",
    "csv_relative_path = config[\"data\"][\"clean_data_csv\"][\"clean_data\"]\n",
    "\n",
    "csv_path = config_path.parent / csv_relative_path\n",
    "\n",
    "df = pd.read_csv(csv_path)"
   ]
  },
  {
   "cell_type": "code",
   "execution_count": null,
   "id": "2d0411d3-af1d-47ee-ad04-6ff261ba671d",
   "metadata": {},
   "outputs": [],
   "source": [
    "df"
   ]
  },
  {
   "cell_type": "code",
   "execution_count": null,
   "id": "07d2775f-4b17-403a-a831-1647cc25e69e",
   "metadata": {},
   "outputs": [],
   "source": [
    "df.isnull().sum()"
   ]
  },
  {
   "cell_type": "code",
   "execution_count": null,
   "id": "a2e28c18-9981-40b7-ae75-2b9a8d79125e",
   "metadata": {},
   "outputs": [],
   "source": [
    "# Define features and target variable \n",
    "\n",
    "features = df.drop(columns = [\"selling_price\"])\n",
    "target = df[\"selling_price\"]"
   ]
  },
  {
   "cell_type": "code",
   "execution_count": null,
   "id": "f118d97d-8225-4556-8053-0fc0efc9649f",
   "metadata": {},
   "outputs": [],
   "source": [
    "# Split data into training and testing sets\n",
    "\n",
    "X_train, X_test, y_train, y_test = train_test_split(features, target, test_size=0.20, random_state=0)"
   ]
  },
  {
   "cell_type": "code",
   "execution_count": null,
   "id": "46b668b4-3a6e-461a-8471-11bd4642fc4e",
   "metadata": {},
   "outputs": [],
   "source": [
    "X_train.head()"
   ]
  },
  {
   "cell_type": "code",
   "execution_count": null,
   "id": "38b3706f-7474-4c1d-ac57-e5f82a759626",
   "metadata": {},
   "outputs": [],
   "source": [
    "y_train.head()"
   ]
  },
  {
   "cell_type": "code",
   "execution_count": null,
   "id": "711e5ce6-b1f9-4c76-b893-296a424d59d6",
   "metadata": {},
   "outputs": [],
   "source": [
    "# KNN model (before scaling)\n",
    "\n",
    "from sklearn.neighbors import KNeighborsRegressor"
   ]
  },
  {
   "cell_type": "code",
   "execution_count": null,
   "id": "13d83ec9-5464-4af0-9dde-360949a7a5ec",
   "metadata": {},
   "outputs": [],
   "source": [
    "knn = KNeighborsRegressor(n_neighbors=10)"
   ]
  },
  {
   "cell_type": "code",
   "execution_count": null,
   "id": "90f8533b-044e-4f95-b8f0-295995dccf45",
   "metadata": {},
   "outputs": [],
   "source": [
    "knn.fit(X_train, y_train)"
   ]
  },
  {
   "cell_type": "code",
   "execution_count": null,
   "id": "3cb25a3e-3695-42c1-b807-dccdd565988b",
   "metadata": {},
   "outputs": [],
   "source": [
    "print(f\"The R2 of the model is {knn.score(X_test, y_test): .2f}\")"
   ]
  },
  {
   "cell_type": "code",
   "execution_count": null,
   "id": "65d36bd9-1aa0-4c22-bb53-bba96646ecb4",
   "metadata": {},
   "outputs": [],
   "source": [
    "# Apply feature scaling\n",
    "\n",
    "from sklearn.preprocessing import StandardScaler\n",
    "scaler = StandardScaler()\n",
    "X_train_scaled = scaler.fit_transform(X_train)\n",
    "X_test_scaled = scaler.transform(X_test)"
   ]
  },
  {
   "cell_type": "code",
   "execution_count": null,
   "id": "b42624fe-7e8a-424e-b6e0-7fd93e4e9245",
   "metadata": {},
   "outputs": [],
   "source": [
    "knn.fit(X_train_scaled, y_train)\n",
    "print(f\"The R2 of the model is {knn.score(X_test_scaled, y_test):.2f}\")\n"
   ]
  },
  {
   "cell_type": "code",
   "execution_count": null,
   "id": "a20b9952-2474-4478-87a6-0e9e364a5332",
   "metadata": {},
   "outputs": [],
   "source": [
    "# Evaluate model performance for different k values\n",
    "scores = []\n",
    "for k in range(1, 21):\n",
    "    knn = KNeighborsRegressor(n_neighbors=k)\n",
    "    knn.fit(X_train_scaled, y_train)\n",
    "    scores.append(knn.score(X_test_scaled, y_test))\n",
    "\n",
    "plt.plot(range(1, 21), scores)\n",
    "plt.xlabel('Number of Neighbors (k)')\n",
    "plt.ylabel('R² Score')\n",
    "plt.title('KNN Performance by Number of Neighbors')\n",
    "plt.show()\n"
   ]
  },
  {
   "cell_type": "code",
   "execution_count": null,
   "id": "c0501c7c-313e-47cc-9725-d96ffc3b43ca",
   "metadata": {},
   "outputs": [],
   "source": [
    "# Evaluate model performance with metrics\n",
    "from sklearn.metrics import mean_absolute_error, mean_squared_error, r2_score\n",
    "import numpy as np\n",
    "\n",
    "y_pred = knn.predict(X_test_scaled)\n",
    "\n",
    "print(f\"R²: {r2_score(y_test, y_pred):.3f}\")\n",
    "print(f\"MAE: {mean_absolute_error(y_test, y_pred):,.0f}\")\n",
    "print(f\"RMSE: {np.sqrt(mean_squared_error(y_test, y_pred)):.0f}\")\n"
   ]
  },
  {
   "cell_type": "code",
   "execution_count": null,
   "id": "520d6e1a-e97d-487d-9a3b-8279c80e2e1c",
   "metadata": {},
   "outputs": [],
   "source": [
    "# Visualize predictions vs actual values\n",
    "plt.figure(figsize=(6,6))\n",
    "plt.scatter(y_test, y_pred, alpha=0.5)\n",
    "plt.xlabel(\"Actual Selling Price\")\n",
    "plt.ylabel(\"Predicted Selling Price\")\n",
    "plt.title(\"KNN Predictions vs Actual Values\")\n",
    "plt.plot([y_test.min(), y_test.max()], [y_test.min(), y_test.max()], 'r--')\n",
    "plt.show()\n"
   ]
  },
  {
   "cell_type": "code",
   "execution_count": null,
   "id": "dc7c69f8-ceb4-4376-87f2-ed8100f8c455",
   "metadata": {},
   "outputs": [],
   "source": [
    "#Train and evaluate Linear Regression\n",
    "from sklearn.linear_model import LinearRegression\n",
    "\n",
    "lr = LinearRegression()\n",
    "lr.fit(X_train_scaled, y_train)\n",
    "y_pred_lr = lr.predict(X_test_scaled)\n",
    "\n",
    "print(f\"R²: {r2_score(y_test, y_pred_lr):.3f}\")\n",
    "print(f\"MAE: {mean_absolute_error(y_test, y_pred_lr):,.0f}\")\n",
    "print(f\"RMSE: {np.sqrt(mean_squared_error(y_test, y_pred_lr)):.0f}\")\n"
   ]
  },
  {
   "cell_type": "code",
   "execution_count": null,
   "id": "141525f8-a95d-4af8-a18d-a4c0764c5e77",
   "metadata": {},
   "outputs": [],
   "source": [
    "# Comparación de desempeño entre modelos\n",
    "models = ['KNN', 'Linear Regression']\n",
    "r2_scores = [0.906, 0.860]\n",
    "mae_scores = [107791, 159881]\n",
    "rmse_scores = [250156, 304139]\n",
    "\n",
    "fig, axes = plt.subplots(1, 3, figsize=(12,4))\n",
    "\n",
    "axes[0].bar(models, r2_scores, color=['royalblue', 'orange'])\n",
    "axes[0].set_title(\"R² Score\")\n",
    "axes[0].set_ylim(0,1)\n",
    "\n",
    "axes[1].bar(models, mae_scores, color=['royalblue', 'orange'])\n",
    "axes[1].set_title(\"Mean Absolute Error (MAE)\")\n",
    "\n",
    "axes[2].bar(models, rmse_scores, color=['royalblue', 'orange'])\n",
    "axes[2].set_title(\"Root Mean Squared Error (RMSE)\")\n",
    "\n",
    "plt.suptitle(\"Model Performance Comparison\", fontsize=14)\n",
    "plt.tight_layout()\n",
    "plt.show()\n"
   ]
  },
  {
   "cell_type": "code",
   "execution_count": null,
   "id": "d41c0642-81d8-4f21-aec4-2def23ae2642",
   "metadata": {},
   "outputs": [],
   "source": []
  }
 ],
 "metadata": {
  "kernelspec": {
   "display_name": "venv",
   "language": "python",
   "name": "venv"
  },
  "language_info": {
   "codemirror_mode": {
    "name": "ipython",
    "version": 3
   },
   "file_extension": ".py",
   "mimetype": "text/x-python",
   "name": "python",
   "nbconvert_exporter": "python",
   "pygments_lexer": "ipython3",
   "version": "3.12.11"
  }
 },
 "nbformat": 4,
 "nbformat_minor": 5
}
