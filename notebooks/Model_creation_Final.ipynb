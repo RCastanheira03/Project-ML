{
 "cells": [
  {
   "cell_type": "code",
   "execution_count": 1,
   "id": "220a53f5-72aa-425a-8792-2db1ec018545",
   "metadata": {},
   "outputs": [
    {
     "name": "stdout",
     "output_type": "stream",
     "text": [
      "(7566, 46)\n",
      "(7566, 46)\n"
     ]
    },
    {
     "data": {
      "text/html": [
       "<div>\n",
       "<style scoped>\n",
       "    .dataframe tbody tr th:only-of-type {\n",
       "        vertical-align: middle;\n",
       "    }\n",
       "\n",
       "    .dataframe tbody tr th {\n",
       "        vertical-align: top;\n",
       "    }\n",
       "\n",
       "    .dataframe thead th {\n",
       "        text-align: right;\n",
       "    }\n",
       "</style>\n",
       "<table border=\"1\" class=\"dataframe\">\n",
       "  <thead>\n",
       "    <tr style=\"text-align: right;\">\n",
       "      <th></th>\n",
       "      <th>selling_price</th>\n",
       "      <th>km_driven</th>\n",
       "      <th>owner</th>\n",
       "      <th>mileage</th>\n",
       "      <th>engine</th>\n",
       "      <th>max_power</th>\n",
       "      <th>torque</th>\n",
       "      <th>seats</th>\n",
       "      <th>fuel_Diesel</th>\n",
       "      <th>fuel_LPG</th>\n",
       "      <th>...</th>\n",
       "      <th>brand_Nissan</th>\n",
       "      <th>brand_Opel</th>\n",
       "      <th>brand_Peugeot</th>\n",
       "      <th>brand_Renault</th>\n",
       "      <th>brand_Skoda</th>\n",
       "      <th>brand_Tata</th>\n",
       "      <th>brand_Toyota</th>\n",
       "      <th>brand_Volkswagen</th>\n",
       "      <th>brand_Volvo</th>\n",
       "      <th>car_age</th>\n",
       "    </tr>\n",
       "  </thead>\n",
       "  <tbody>\n",
       "    <tr>\n",
       "      <th>0</th>\n",
       "      <td>0.488000</td>\n",
       "      <td>0.341286</td>\n",
       "      <td>0.0</td>\n",
       "      <td>0.655999</td>\n",
       "      <td>0.535379</td>\n",
       "      <td>0.467401</td>\n",
       "      <td>0.418743</td>\n",
       "      <td>5.0</td>\n",
       "      <td>1.0</td>\n",
       "      <td>0.0</td>\n",
       "      <td>...</td>\n",
       "      <td>0.0</td>\n",
       "      <td>0.0</td>\n",
       "      <td>0.0</td>\n",
       "      <td>0.0</td>\n",
       "      <td>0.0</td>\n",
       "      <td>0.0</td>\n",
       "      <td>0.0</td>\n",
       "      <td>0.0</td>\n",
       "      <td>0.0</td>\n",
       "      <td>11</td>\n",
       "    </tr>\n",
       "    <tr>\n",
       "      <th>1</th>\n",
       "      <td>0.435603</td>\n",
       "      <td>0.316742</td>\n",
       "      <td>1.0</td>\n",
       "      <td>0.582041</td>\n",
       "      <td>0.640637</td>\n",
       "      <td>0.627256</td>\n",
       "      <td>0.498515</td>\n",
       "      <td>5.0</td>\n",
       "      <td>1.0</td>\n",
       "      <td>0.0</td>\n",
       "      <td>...</td>\n",
       "      <td>0.0</td>\n",
       "      <td>0.0</td>\n",
       "      <td>0.0</td>\n",
       "      <td>0.0</td>\n",
       "      <td>1.0</td>\n",
       "      <td>0.0</td>\n",
       "      <td>0.0</td>\n",
       "      <td>0.0</td>\n",
       "      <td>0.0</td>\n",
       "      <td>11</td>\n",
       "    </tr>\n",
       "    <tr>\n",
       "      <th>2</th>\n",
       "      <td>0.206186</td>\n",
       "      <td>0.336228</td>\n",
       "      <td>2.0</td>\n",
       "      <td>0.472299</td>\n",
       "      <td>0.640276</td>\n",
       "      <td>0.493676</td>\n",
       "      <td>0.040177</td>\n",
       "      <td>5.0</td>\n",
       "      <td>0.0</td>\n",
       "      <td>0.0</td>\n",
       "      <td>...</td>\n",
       "      <td>0.0</td>\n",
       "      <td>0.0</td>\n",
       "      <td>0.0</td>\n",
       "      <td>0.0</td>\n",
       "      <td>0.0</td>\n",
       "      <td>0.0</td>\n",
       "      <td>0.0</td>\n",
       "      <td>0.0</td>\n",
       "      <td>0.0</td>\n",
       "      <td>19</td>\n",
       "    </tr>\n",
       "    <tr>\n",
       "      <th>3</th>\n",
       "      <td>0.302060</td>\n",
       "      <td>0.323773</td>\n",
       "      <td>0.0</td>\n",
       "      <td>0.642808</td>\n",
       "      <td>0.601599</td>\n",
       "      <td>0.562794</td>\n",
       "      <td>0.081435</td>\n",
       "      <td>5.0</td>\n",
       "      <td>1.0</td>\n",
       "      <td>0.0</td>\n",
       "      <td>...</td>\n",
       "      <td>0.0</td>\n",
       "      <td>0.0</td>\n",
       "      <td>0.0</td>\n",
       "      <td>0.0</td>\n",
       "      <td>0.0</td>\n",
       "      <td>0.0</td>\n",
       "      <td>0.0</td>\n",
       "      <td>0.0</td>\n",
       "      <td>0.0</td>\n",
       "      <td>15</td>\n",
       "    </tr>\n",
       "    <tr>\n",
       "      <th>4</th>\n",
       "      <td>0.152797</td>\n",
       "      <td>0.316742</td>\n",
       "      <td>0.0</td>\n",
       "      <td>0.422550</td>\n",
       "      <td>0.559201</td>\n",
       "      <td>0.553238</td>\n",
       "      <td>0.034175</td>\n",
       "      <td>5.0</td>\n",
       "      <td>0.0</td>\n",
       "      <td>0.0</td>\n",
       "      <td>...</td>\n",
       "      <td>0.0</td>\n",
       "      <td>0.0</td>\n",
       "      <td>0.0</td>\n",
       "      <td>0.0</td>\n",
       "      <td>0.0</td>\n",
       "      <td>0.0</td>\n",
       "      <td>0.0</td>\n",
       "      <td>0.0</td>\n",
       "      <td>0.0</td>\n",
       "      <td>18</td>\n",
       "    </tr>\n",
       "  </tbody>\n",
       "</table>\n",
       "<p>5 rows × 46 columns</p>\n",
       "</div>"
      ],
      "text/plain": [
       "   selling_price  km_driven  owner   mileage    engine  max_power    torque  \\\n",
       "0       0.488000   0.341286    0.0  0.655999  0.535379   0.467401  0.418743   \n",
       "1       0.435603   0.316742    1.0  0.582041  0.640637   0.627256  0.498515   \n",
       "2       0.206186   0.336228    2.0  0.472299  0.640276   0.493676  0.040177   \n",
       "3       0.302060   0.323773    0.0  0.642808  0.601599   0.562794  0.081435   \n",
       "4       0.152797   0.316742    0.0  0.422550  0.559201   0.553238  0.034175   \n",
       "\n",
       "   seats  fuel_Diesel  fuel_LPG  ...  brand_Nissan  brand_Opel  brand_Peugeot  \\\n",
       "0    5.0          1.0       0.0  ...           0.0         0.0            0.0   \n",
       "1    5.0          1.0       0.0  ...           0.0         0.0            0.0   \n",
       "2    5.0          0.0       0.0  ...           0.0         0.0            0.0   \n",
       "3    5.0          1.0       0.0  ...           0.0         0.0            0.0   \n",
       "4    5.0          0.0       0.0  ...           0.0         0.0            0.0   \n",
       "\n",
       "   brand_Renault  brand_Skoda  brand_Tata  brand_Toyota  brand_Volkswagen  \\\n",
       "0            0.0          0.0         0.0           0.0               0.0   \n",
       "1            0.0          1.0         0.0           0.0               0.0   \n",
       "2            0.0          0.0         0.0           0.0               0.0   \n",
       "3            0.0          0.0         0.0           0.0               0.0   \n",
       "4            0.0          0.0         0.0           0.0               0.0   \n",
       "\n",
       "   brand_Volvo  car_age  \n",
       "0          0.0       11  \n",
       "1          0.0       11  \n",
       "2          0.0       19  \n",
       "3          0.0       15  \n",
       "4          0.0       18  \n",
       "\n",
       "[5 rows x 46 columns]"
      ]
     },
     "execution_count": 1,
     "metadata": {},
     "output_type": "execute_result"
    }
   ],
   "source": [
    "import optuna\n",
    "import optuna.visualization as vis\n",
    "import time\n",
    "\n",
    "import scipy.stats as st\n",
    "\n",
    "from pathlib import Path\n",
    "import yaml\n",
    "import pandas as pd\n",
    "\n",
    "from sklearn.datasets import  fetch_california_housing\n",
    "import numpy as np\n",
    "\n",
    "import matplotlib.pyplot as plt\n",
    "import seaborn as sns\n",
    "\n",
    "from sklearn.model_selection import train_test_split\n",
    "from sklearn.tree import DecisionTreeRegressor\n",
    "from sklearn.linear_model import LogisticRegression\n",
    "\n",
    "from sklearn.neighbors import KNeighborsRegressor\n",
    "\n",
    "from sklearn.model_selection import GridSearchCV, RandomizedSearchCV\n",
    "\n",
    "from sklearn.preprocessing import MinMaxScaler, StandardScaler\n",
    "from sklearn.metrics import r2_score, mean_absolute_error, mean_squared_error, root_mean_squared_error, make_scorer\n",
    "from sklearn.metrics import precision_score, recall_score, classification_report, confusion_matrix, f1_score\n",
    "from sklearn.utils import resample\n",
    "\n",
    "from sklearn.model_selection import cross_val_score\n",
    "\n",
    "config_path = Path(\"../config.yaml\")\n",
    "with open(config_path, \"r\") as f:\n",
    "    config = yaml.safe_load(f)\n",
    "\n",
    "csv_relative_path = config[\"data\"][\"clean_data_csv\"][\"clean_data_v3_irma\"]\n",
    "csv_path = config_path.parent / csv_relative_path\n",
    "\n",
    "df = pd.read_csv(csv_path)\n",
    "print(df.shape)\n",
    "df.head()\n",
    "\n",
    "\n",
    "\n",
    "config_path = Path(\"../config.yaml\")\n",
    "with open(config_path, \"r\") as f:\n",
    "    config = yaml.safe_load(f)\n",
    "\n",
    "csv_relative_path = config[\"data\"][\"clean_data_csv\"][\"clean_data_v3_irma\"]\n",
    "csv_path = config_path.parent / csv_relative_path\n",
    "\n",
    "df = pd.read_csv(csv_path)\n",
    "print(df.shape)\n",
    "df.head()\n",
    "\n"
   ]
  },
  {
   "cell_type": "code",
   "execution_count": 2,
   "id": "70954d4d-6ff5-43d3-a62b-fa16b0c374a5",
   "metadata": {},
   "outputs": [],
   "source": [
    "# Define target and features\n",
    "X = df.drop(columns=[\"selling_price\"])\n",
    "y = df[\"selling_price\"]\n"
   ]
  },
  {
   "cell_type": "code",
   "execution_count": 3,
   "id": "9c8cc693-d6ea-4370-af44-c3f27ab65acd",
   "metadata": {},
   "outputs": [
    {
     "name": "stdout",
     "output_type": "stream",
     "text": [
      "(6052, 45) (1514, 45)\n"
     ]
    }
   ],
   "source": [
    "# Train/Test Split\n",
    "from sklearn.model_selection import train_test_split\n",
    "\n",
    "X_train, X_test, y_train, y_test = train_test_split(X, y, test_size=0.2, random_state=42)\n",
    "print(X_train.shape, X_test.shape)\n"
   ]
  },
  {
   "cell_type": "code",
   "execution_count": 4,
   "id": "4c889405-bc03-40c5-9102-70d97aaddbdd",
   "metadata": {},
   "outputs": [
    {
     "data": {
      "text/html": [
       "<style>#sk-container-id-1 {\n",
       "  /* Definition of color scheme common for light and dark mode */\n",
       "  --sklearn-color-text: #000;\n",
       "  --sklearn-color-text-muted: #666;\n",
       "  --sklearn-color-line: gray;\n",
       "  /* Definition of color scheme for unfitted estimators */\n",
       "  --sklearn-color-unfitted-level-0: #fff5e6;\n",
       "  --sklearn-color-unfitted-level-1: #f6e4d2;\n",
       "  --sklearn-color-unfitted-level-2: #ffe0b3;\n",
       "  --sklearn-color-unfitted-level-3: chocolate;\n",
       "  /* Definition of color scheme for fitted estimators */\n",
       "  --sklearn-color-fitted-level-0: #f0f8ff;\n",
       "  --sklearn-color-fitted-level-1: #d4ebff;\n",
       "  --sklearn-color-fitted-level-2: #b3dbfd;\n",
       "  --sklearn-color-fitted-level-3: cornflowerblue;\n",
       "\n",
       "  /* Specific color for light theme */\n",
       "  --sklearn-color-text-on-default-background: var(--sg-text-color, var(--theme-code-foreground, var(--jp-content-font-color1, black)));\n",
       "  --sklearn-color-background: var(--sg-background-color, var(--theme-background, var(--jp-layout-color0, white)));\n",
       "  --sklearn-color-border-box: var(--sg-text-color, var(--theme-code-foreground, var(--jp-content-font-color1, black)));\n",
       "  --sklearn-color-icon: #696969;\n",
       "\n",
       "  @media (prefers-color-scheme: dark) {\n",
       "    /* Redefinition of color scheme for dark theme */\n",
       "    --sklearn-color-text-on-default-background: var(--sg-text-color, var(--theme-code-foreground, var(--jp-content-font-color1, white)));\n",
       "    --sklearn-color-background: var(--sg-background-color, var(--theme-background, var(--jp-layout-color0, #111)));\n",
       "    --sklearn-color-border-box: var(--sg-text-color, var(--theme-code-foreground, var(--jp-content-font-color1, white)));\n",
       "    --sklearn-color-icon: #878787;\n",
       "  }\n",
       "}\n",
       "\n",
       "#sk-container-id-1 {\n",
       "  color: var(--sklearn-color-text);\n",
       "}\n",
       "\n",
       "#sk-container-id-1 pre {\n",
       "  padding: 0;\n",
       "}\n",
       "\n",
       "#sk-container-id-1 input.sk-hidden--visually {\n",
       "  border: 0;\n",
       "  clip: rect(1px 1px 1px 1px);\n",
       "  clip: rect(1px, 1px, 1px, 1px);\n",
       "  height: 1px;\n",
       "  margin: -1px;\n",
       "  overflow: hidden;\n",
       "  padding: 0;\n",
       "  position: absolute;\n",
       "  width: 1px;\n",
       "}\n",
       "\n",
       "#sk-container-id-1 div.sk-dashed-wrapped {\n",
       "  border: 1px dashed var(--sklearn-color-line);\n",
       "  margin: 0 0.4em 0.5em 0.4em;\n",
       "  box-sizing: border-box;\n",
       "  padding-bottom: 0.4em;\n",
       "  background-color: var(--sklearn-color-background);\n",
       "}\n",
       "\n",
       "#sk-container-id-1 div.sk-container {\n",
       "  /* jupyter's `normalize.less` sets `[hidden] { display: none; }`\n",
       "     but bootstrap.min.css set `[hidden] { display: none !important; }`\n",
       "     so we also need the `!important` here to be able to override the\n",
       "     default hidden behavior on the sphinx rendered scikit-learn.org.\n",
       "     See: https://github.com/scikit-learn/scikit-learn/issues/21755 */\n",
       "  display: inline-block !important;\n",
       "  position: relative;\n",
       "}\n",
       "\n",
       "#sk-container-id-1 div.sk-text-repr-fallback {\n",
       "  display: none;\n",
       "}\n",
       "\n",
       "div.sk-parallel-item,\n",
       "div.sk-serial,\n",
       "div.sk-item {\n",
       "  /* draw centered vertical line to link estimators */\n",
       "  background-image: linear-gradient(var(--sklearn-color-text-on-default-background), var(--sklearn-color-text-on-default-background));\n",
       "  background-size: 2px 100%;\n",
       "  background-repeat: no-repeat;\n",
       "  background-position: center center;\n",
       "}\n",
       "\n",
       "/* Parallel-specific style estimator block */\n",
       "\n",
       "#sk-container-id-1 div.sk-parallel-item::after {\n",
       "  content: \"\";\n",
       "  width: 100%;\n",
       "  border-bottom: 2px solid var(--sklearn-color-text-on-default-background);\n",
       "  flex-grow: 1;\n",
       "}\n",
       "\n",
       "#sk-container-id-1 div.sk-parallel {\n",
       "  display: flex;\n",
       "  align-items: stretch;\n",
       "  justify-content: center;\n",
       "  background-color: var(--sklearn-color-background);\n",
       "  position: relative;\n",
       "}\n",
       "\n",
       "#sk-container-id-1 div.sk-parallel-item {\n",
       "  display: flex;\n",
       "  flex-direction: column;\n",
       "}\n",
       "\n",
       "#sk-container-id-1 div.sk-parallel-item:first-child::after {\n",
       "  align-self: flex-end;\n",
       "  width: 50%;\n",
       "}\n",
       "\n",
       "#sk-container-id-1 div.sk-parallel-item:last-child::after {\n",
       "  align-self: flex-start;\n",
       "  width: 50%;\n",
       "}\n",
       "\n",
       "#sk-container-id-1 div.sk-parallel-item:only-child::after {\n",
       "  width: 0;\n",
       "}\n",
       "\n",
       "/* Serial-specific style estimator block */\n",
       "\n",
       "#sk-container-id-1 div.sk-serial {\n",
       "  display: flex;\n",
       "  flex-direction: column;\n",
       "  align-items: center;\n",
       "  background-color: var(--sklearn-color-background);\n",
       "  padding-right: 1em;\n",
       "  padding-left: 1em;\n",
       "}\n",
       "\n",
       "\n",
       "/* Toggleable style: style used for estimator/Pipeline/ColumnTransformer box that is\n",
       "clickable and can be expanded/collapsed.\n",
       "- Pipeline and ColumnTransformer use this feature and define the default style\n",
       "- Estimators will overwrite some part of the style using the `sk-estimator` class\n",
       "*/\n",
       "\n",
       "/* Pipeline and ColumnTransformer style (default) */\n",
       "\n",
       "#sk-container-id-1 div.sk-toggleable {\n",
       "  /* Default theme specific background. It is overwritten whether we have a\n",
       "  specific estimator or a Pipeline/ColumnTransformer */\n",
       "  background-color: var(--sklearn-color-background);\n",
       "}\n",
       "\n",
       "/* Toggleable label */\n",
       "#sk-container-id-1 label.sk-toggleable__label {\n",
       "  cursor: pointer;\n",
       "  display: flex;\n",
       "  width: 100%;\n",
       "  margin-bottom: 0;\n",
       "  padding: 0.5em;\n",
       "  box-sizing: border-box;\n",
       "  text-align: center;\n",
       "  align-items: start;\n",
       "  justify-content: space-between;\n",
       "  gap: 0.5em;\n",
       "}\n",
       "\n",
       "#sk-container-id-1 label.sk-toggleable__label .caption {\n",
       "  font-size: 0.6rem;\n",
       "  font-weight: lighter;\n",
       "  color: var(--sklearn-color-text-muted);\n",
       "}\n",
       "\n",
       "#sk-container-id-1 label.sk-toggleable__label-arrow:before {\n",
       "  /* Arrow on the left of the label */\n",
       "  content: \"▸\";\n",
       "  float: left;\n",
       "  margin-right: 0.25em;\n",
       "  color: var(--sklearn-color-icon);\n",
       "}\n",
       "\n",
       "#sk-container-id-1 label.sk-toggleable__label-arrow:hover:before {\n",
       "  color: var(--sklearn-color-text);\n",
       "}\n",
       "\n",
       "/* Toggleable content - dropdown */\n",
       "\n",
       "#sk-container-id-1 div.sk-toggleable__content {\n",
       "  max-height: 0;\n",
       "  max-width: 0;\n",
       "  overflow: hidden;\n",
       "  text-align: left;\n",
       "  /* unfitted */\n",
       "  background-color: var(--sklearn-color-unfitted-level-0);\n",
       "}\n",
       "\n",
       "#sk-container-id-1 div.sk-toggleable__content.fitted {\n",
       "  /* fitted */\n",
       "  background-color: var(--sklearn-color-fitted-level-0);\n",
       "}\n",
       "\n",
       "#sk-container-id-1 div.sk-toggleable__content pre {\n",
       "  margin: 0.2em;\n",
       "  border-radius: 0.25em;\n",
       "  color: var(--sklearn-color-text);\n",
       "  /* unfitted */\n",
       "  background-color: var(--sklearn-color-unfitted-level-0);\n",
       "}\n",
       "\n",
       "#sk-container-id-1 div.sk-toggleable__content.fitted pre {\n",
       "  /* unfitted */\n",
       "  background-color: var(--sklearn-color-fitted-level-0);\n",
       "}\n",
       "\n",
       "#sk-container-id-1 input.sk-toggleable__control:checked~div.sk-toggleable__content {\n",
       "  /* Expand drop-down */\n",
       "  max-height: 200px;\n",
       "  max-width: 100%;\n",
       "  overflow: auto;\n",
       "}\n",
       "\n",
       "#sk-container-id-1 input.sk-toggleable__control:checked~label.sk-toggleable__label-arrow:before {\n",
       "  content: \"▾\";\n",
       "}\n",
       "\n",
       "/* Pipeline/ColumnTransformer-specific style */\n",
       "\n",
       "#sk-container-id-1 div.sk-label input.sk-toggleable__control:checked~label.sk-toggleable__label {\n",
       "  color: var(--sklearn-color-text);\n",
       "  background-color: var(--sklearn-color-unfitted-level-2);\n",
       "}\n",
       "\n",
       "#sk-container-id-1 div.sk-label.fitted input.sk-toggleable__control:checked~label.sk-toggleable__label {\n",
       "  background-color: var(--sklearn-color-fitted-level-2);\n",
       "}\n",
       "\n",
       "/* Estimator-specific style */\n",
       "\n",
       "/* Colorize estimator box */\n",
       "#sk-container-id-1 div.sk-estimator input.sk-toggleable__control:checked~label.sk-toggleable__label {\n",
       "  /* unfitted */\n",
       "  background-color: var(--sklearn-color-unfitted-level-2);\n",
       "}\n",
       "\n",
       "#sk-container-id-1 div.sk-estimator.fitted input.sk-toggleable__control:checked~label.sk-toggleable__label {\n",
       "  /* fitted */\n",
       "  background-color: var(--sklearn-color-fitted-level-2);\n",
       "}\n",
       "\n",
       "#sk-container-id-1 div.sk-label label.sk-toggleable__label,\n",
       "#sk-container-id-1 div.sk-label label {\n",
       "  /* The background is the default theme color */\n",
       "  color: var(--sklearn-color-text-on-default-background);\n",
       "}\n",
       "\n",
       "/* On hover, darken the color of the background */\n",
       "#sk-container-id-1 div.sk-label:hover label.sk-toggleable__label {\n",
       "  color: var(--sklearn-color-text);\n",
       "  background-color: var(--sklearn-color-unfitted-level-2);\n",
       "}\n",
       "\n",
       "/* Label box, darken color on hover, fitted */\n",
       "#sk-container-id-1 div.sk-label.fitted:hover label.sk-toggleable__label.fitted {\n",
       "  color: var(--sklearn-color-text);\n",
       "  background-color: var(--sklearn-color-fitted-level-2);\n",
       "}\n",
       "\n",
       "/* Estimator label */\n",
       "\n",
       "#sk-container-id-1 div.sk-label label {\n",
       "  font-family: monospace;\n",
       "  font-weight: bold;\n",
       "  display: inline-block;\n",
       "  line-height: 1.2em;\n",
       "}\n",
       "\n",
       "#sk-container-id-1 div.sk-label-container {\n",
       "  text-align: center;\n",
       "}\n",
       "\n",
       "/* Estimator-specific */\n",
       "#sk-container-id-1 div.sk-estimator {\n",
       "  font-family: monospace;\n",
       "  border: 1px dotted var(--sklearn-color-border-box);\n",
       "  border-radius: 0.25em;\n",
       "  box-sizing: border-box;\n",
       "  margin-bottom: 0.5em;\n",
       "  /* unfitted */\n",
       "  background-color: var(--sklearn-color-unfitted-level-0);\n",
       "}\n",
       "\n",
       "#sk-container-id-1 div.sk-estimator.fitted {\n",
       "  /* fitted */\n",
       "  background-color: var(--sklearn-color-fitted-level-0);\n",
       "}\n",
       "\n",
       "/* on hover */\n",
       "#sk-container-id-1 div.sk-estimator:hover {\n",
       "  /* unfitted */\n",
       "  background-color: var(--sklearn-color-unfitted-level-2);\n",
       "}\n",
       "\n",
       "#sk-container-id-1 div.sk-estimator.fitted:hover {\n",
       "  /* fitted */\n",
       "  background-color: var(--sklearn-color-fitted-level-2);\n",
       "}\n",
       "\n",
       "/* Specification for estimator info (e.g. \"i\" and \"?\") */\n",
       "\n",
       "/* Common style for \"i\" and \"?\" */\n",
       "\n",
       ".sk-estimator-doc-link,\n",
       "a:link.sk-estimator-doc-link,\n",
       "a:visited.sk-estimator-doc-link {\n",
       "  float: right;\n",
       "  font-size: smaller;\n",
       "  line-height: 1em;\n",
       "  font-family: monospace;\n",
       "  background-color: var(--sklearn-color-background);\n",
       "  border-radius: 1em;\n",
       "  height: 1em;\n",
       "  width: 1em;\n",
       "  text-decoration: none !important;\n",
       "  margin-left: 0.5em;\n",
       "  text-align: center;\n",
       "  /* unfitted */\n",
       "  border: var(--sklearn-color-unfitted-level-1) 1pt solid;\n",
       "  color: var(--sklearn-color-unfitted-level-1);\n",
       "}\n",
       "\n",
       ".sk-estimator-doc-link.fitted,\n",
       "a:link.sk-estimator-doc-link.fitted,\n",
       "a:visited.sk-estimator-doc-link.fitted {\n",
       "  /* fitted */\n",
       "  border: var(--sklearn-color-fitted-level-1) 1pt solid;\n",
       "  color: var(--sklearn-color-fitted-level-1);\n",
       "}\n",
       "\n",
       "/* On hover */\n",
       "div.sk-estimator:hover .sk-estimator-doc-link:hover,\n",
       ".sk-estimator-doc-link:hover,\n",
       "div.sk-label-container:hover .sk-estimator-doc-link:hover,\n",
       ".sk-estimator-doc-link:hover {\n",
       "  /* unfitted */\n",
       "  background-color: var(--sklearn-color-unfitted-level-3);\n",
       "  color: var(--sklearn-color-background);\n",
       "  text-decoration: none;\n",
       "}\n",
       "\n",
       "div.sk-estimator.fitted:hover .sk-estimator-doc-link.fitted:hover,\n",
       ".sk-estimator-doc-link.fitted:hover,\n",
       "div.sk-label-container:hover .sk-estimator-doc-link.fitted:hover,\n",
       ".sk-estimator-doc-link.fitted:hover {\n",
       "  /* fitted */\n",
       "  background-color: var(--sklearn-color-fitted-level-3);\n",
       "  color: var(--sklearn-color-background);\n",
       "  text-decoration: none;\n",
       "}\n",
       "\n",
       "/* Span, style for the box shown on hovering the info icon */\n",
       ".sk-estimator-doc-link span {\n",
       "  display: none;\n",
       "  z-index: 9999;\n",
       "  position: relative;\n",
       "  font-weight: normal;\n",
       "  right: .2ex;\n",
       "  padding: .5ex;\n",
       "  margin: .5ex;\n",
       "  width: min-content;\n",
       "  min-width: 20ex;\n",
       "  max-width: 50ex;\n",
       "  color: var(--sklearn-color-text);\n",
       "  box-shadow: 2pt 2pt 4pt #999;\n",
       "  /* unfitted */\n",
       "  background: var(--sklearn-color-unfitted-level-0);\n",
       "  border: .5pt solid var(--sklearn-color-unfitted-level-3);\n",
       "}\n",
       "\n",
       ".sk-estimator-doc-link.fitted span {\n",
       "  /* fitted */\n",
       "  background: var(--sklearn-color-fitted-level-0);\n",
       "  border: var(--sklearn-color-fitted-level-3);\n",
       "}\n",
       "\n",
       ".sk-estimator-doc-link:hover span {\n",
       "  display: block;\n",
       "}\n",
       "\n",
       "/* \"?\"-specific style due to the `<a>` HTML tag */\n",
       "\n",
       "#sk-container-id-1 a.estimator_doc_link {\n",
       "  float: right;\n",
       "  font-size: 1rem;\n",
       "  line-height: 1em;\n",
       "  font-family: monospace;\n",
       "  background-color: var(--sklearn-color-background);\n",
       "  border-radius: 1rem;\n",
       "  height: 1rem;\n",
       "  width: 1rem;\n",
       "  text-decoration: none;\n",
       "  /* unfitted */\n",
       "  color: var(--sklearn-color-unfitted-level-1);\n",
       "  border: var(--sklearn-color-unfitted-level-1) 1pt solid;\n",
       "}\n",
       "\n",
       "#sk-container-id-1 a.estimator_doc_link.fitted {\n",
       "  /* fitted */\n",
       "  border: var(--sklearn-color-fitted-level-1) 1pt solid;\n",
       "  color: var(--sklearn-color-fitted-level-1);\n",
       "}\n",
       "\n",
       "/* On hover */\n",
       "#sk-container-id-1 a.estimator_doc_link:hover {\n",
       "  /* unfitted */\n",
       "  background-color: var(--sklearn-color-unfitted-level-3);\n",
       "  color: var(--sklearn-color-background);\n",
       "  text-decoration: none;\n",
       "}\n",
       "\n",
       "#sk-container-id-1 a.estimator_doc_link.fitted:hover {\n",
       "  /* fitted */\n",
       "  background-color: var(--sklearn-color-fitted-level-3);\n",
       "}\n",
       "</style><div id=\"sk-container-id-1\" class=\"sk-top-container\"><div class=\"sk-text-repr-fallback\"><pre>MinMaxScaler()</pre><b>In a Jupyter environment, please rerun this cell to show the HTML representation or trust the notebook. <br />On GitHub, the HTML representation is unable to render, please try loading this page with nbviewer.org.</b></div><div class=\"sk-container\" hidden><div class=\"sk-item\"><div class=\"sk-estimator fitted sk-toggleable\"><input class=\"sk-toggleable__control sk-hidden--visually\" id=\"sk-estimator-id-1\" type=\"checkbox\" checked><label for=\"sk-estimator-id-1\" class=\"sk-toggleable__label fitted sk-toggleable__label-arrow\"><div><div>MinMaxScaler</div></div><div><a class=\"sk-estimator-doc-link fitted\" rel=\"noreferrer\" target=\"_blank\" href=\"https://scikit-learn.org/1.6/modules/generated/sklearn.preprocessing.MinMaxScaler.html\">?<span>Documentation for MinMaxScaler</span></a><span class=\"sk-estimator-doc-link fitted\">i<span>Fitted</span></span></div></label><div class=\"sk-toggleable__content fitted\"><pre>MinMaxScaler()</pre></div> </div></div></div></div>"
      ],
      "text/plain": [
       "MinMaxScaler()"
      ]
     },
     "execution_count": 4,
     "metadata": {},
     "output_type": "execute_result"
    }
   ],
   "source": [
    "#Feature Scaling\n",
    "from sklearn.preprocessing import MinMaxScaler\n",
    "scaler = MinMaxScaler()\n",
    "\n",
    "scaler.fit(X_train)"
   ]
  },
  {
   "cell_type": "code",
   "execution_count": 5,
   "id": "27e40d15-6092-4cbf-a3e3-79ff8a837992",
   "metadata": {},
   "outputs": [],
   "source": [
    "scaler = MinMaxScaler()\n",
    "X_train_scaled = scaler.fit_transform(X_train)\n",
    "X_test_scaled = scaler.transform(X_test)\n"
   ]
  },
  {
   "cell_type": "code",
   "execution_count": 6,
   "id": "4aa9944e-0ecb-4fd1-8594-697639fde17c",
   "metadata": {},
   "outputs": [],
   "source": [
    "X_train_scaled = pd.DataFrame(X_train_scaled, columns = X_train.columns, index=X_train.index)\n",
    "X_test_scaled = pd.DataFrame(X_test_scaled, columns = X_test.columns, index=X_test.index)"
   ]
  },
  {
   "cell_type": "code",
   "execution_count": 7,
   "id": "302a6086-fc9c-4868-a9b9-5f5edbf87a61",
   "metadata": {},
   "outputs": [],
   "source": [
    "import numpy as np\n",
    "import pandas as pd\n",
    "from sklearn.metrics import mean_absolute_error, mean_squared_error, r2_score\n",
    "\n",
    "def evaluate_model(name, model,\n",
    "                   X_train_scaled, X_test_scaled,\n",
    "                   X_train, X_test,\n",
    "                   y_train, y_test, use_scaled=True):\n",
    "    \"\"\"\n",
    "    Train and evaluate a regression model and store results in the global results_df.\n",
    "    Automatically removes any previous entry of the same model name to avoid duplicates.\n",
    "    \"\"\"\n",
    "\n",
    "    # Select scaled or unscaled data depending on the model\n",
    "    if use_scaled:\n",
    "        Xtr, Xte = X_train_scaled, X_test_scaled\n",
    "    else:\n",
    "        Xtr, Xte = X_train, X_test\n",
    "\n",
    "    # Train the model\n",
    "    model.fit(Xtr, y_train)\n",
    "    y_pred = model.predict(Xte)\n",
    "\n",
    "    # Compute metrics\n",
    "    mae = mean_absolute_error(y_test, y_pred)\n",
    "    mse = mean_squared_error(y_test, y_pred)\n",
    "    rmse = np.sqrt(mse)\n",
    "    r2 = r2_score(y_test, y_pred)\n",
    "\n",
    "    # Update global results without duplicates\n",
    "    global results_df\n",
    "    results_df = results_df[results_df[\"Model\"] != name]  # remove old row if it exists\n",
    "\n",
    "    new_row = pd.DataFrame([{\n",
    "        \"Model\": name,\n",
    "        \"MAE\": mae,\n",
    "        \"MSE\": mse,\n",
    "        \"RMSE\": rmse,\n",
    "        \"R²\": r2\n",
    "    }])\n",
    "\n",
    "    results_df = pd.concat([results_df, new_row], ignore_index=True)\n",
    "\n",
    "    # Display summary in console\n",
    "    print(f\"{name} -> R²: {r2:.4f} | RMSE: {rmse:.4f} | MAE: {mae:.4f} | MSE: {mse:.4f}\")\n"
   ]
  },
  {
   "cell_type": "code",
   "execution_count": 8,
   "id": "3fe925f2-a02a-46bc-a614-d132616ad7ae",
   "metadata": {},
   "outputs": [],
   "source": [
    "results_df = pd.DataFrame(columns=[\"Model\", \"MAE\", \"MSE\", \"RMSE\", \"R²\"])"
   ]
  },
  {
   "cell_type": "code",
   "execution_count": 9,
   "id": "a6999655-ad2a-40a3-949c-83a964fc8492",
   "metadata": {},
   "outputs": [
    {
     "name": "stdout",
     "output_type": "stream",
     "text": [
      "KNN (sin escalar)\n",
      "MAE: 0.05\n",
      "MSE: 0.00\n",
      "RMSE: 0.06\n",
      "R²: 0.8888\n"
     ]
    }
   ],
   "source": [
    "from sklearn.neighbors import KNeighborsRegressor\n",
    "from sklearn.metrics import mean_absolute_error, mean_squared_error, r2_score\n",
    "import numpy as np\n",
    "\n",
    "# Create model KNN before scaling\n",
    "knn_raw = KNeighborsRegressor()\n",
    "\n",
    "# Train and predict \n",
    "knn_raw.fit(X_train, y_train)\n",
    "y_pred_knn_raw = knn_raw.predict(X_test)\n",
    "\n",
    "# Compute metrics\n",
    "mae_raw = mean_absolute_error(y_test, y_pred_knn_raw)\n",
    "mse_raw = mean_squared_error(y_test, y_pred_knn_raw)\n",
    "rmse_raw = np.sqrt(mse_raw)\n",
    "r2_raw = r2_score(y_test, y_pred_knn_raw)\n",
    "\n",
    "print(\"KNN (sin escalar)\")\n",
    "print(f\"MAE: {mae_raw:.2f}\")\n",
    "print(f\"MSE: {mse_raw:.2f}\")\n",
    "print(f\"RMSE: {rmse_raw:.2f}\")\n",
    "print(f\"R²: {r2_raw:.4f}\")\n"
   ]
  },
  {
   "cell_type": "code",
   "execution_count": 10,
   "id": "db8b47e2-e259-470b-9fce-3974ef5103de",
   "metadata": {},
   "outputs": [
    {
     "name": "stdout",
     "output_type": "stream",
     "text": [
      "KNN (con datos escalados)\n",
      "MAE: 0.04\n",
      "MSE: 0.00\n",
      "RMSE: 0.06\n",
      "R²: 0.8894\n"
     ]
    }
   ],
   "source": [
    "# Create model KNN after scaling\n",
    "knn_scaled = KNeighborsRegressor()\n",
    "\n",
    "# train with scaled data\n",
    "knn_scaled.fit(X_train_scaled, y_train)\n",
    "y_pred_knn_scaled = knn_scaled.predict(X_test_scaled)\n",
    "\n",
    "# compute metrics\n",
    "mae_scaled = mean_absolute_error(y_test, y_pred_knn_scaled)\n",
    "mse_scaled = mean_squared_error(y_test, y_pred_knn_scaled)\n",
    "rmse_scaled = np.sqrt(mse_scaled)\n",
    "r2_scaled = r2_score(y_test, y_pred_knn_scaled)\n",
    "\n",
    "print(\"KNN (con datos escalados)\")\n",
    "print(f\"MAE: {mae_scaled:.2f}\")\n",
    "print(f\"MSE: {mse_scaled:.2f}\")\n",
    "print(f\"RMSE: {rmse_scaled:.2f}\")\n",
    "print(f\"R²: {r2_scaled:.4f}\")\n"
   ]
  },
  {
   "cell_type": "markdown",
   "id": "06d5be99-2819-4584-9135-05f35123c214",
   "metadata": {},
   "source": [
    "### KNN Before vs After Scaling\n",
    "\n",
    "We tested the KNN model both before and after feature scaling.  \n",
    "Because the dataset had already been normalized during the cleaning phase (values between 0 and 1),  \n",
    "the results were almost identical (R² ≈ 0.89).  \n",
    "This confirms that the features were already scaled properly and no additional normalization was required.\n"
   ]
  },
  {
   "cell_type": "code",
   "execution_count": 11,
   "id": "aeac25a2-38c8-4f05-af9c-cc6fd55b12af",
   "metadata": {},
   "outputs": [
    {
     "name": "stdout",
     "output_type": "stream",
     "text": [
      "knn scaled Regression -> R²: 0.8894 | RMSE: 0.0637 | MAE: 0.0450 | MSE: 0.0041\n"
     ]
    },
    {
     "name": "stderr",
     "output_type": "stream",
     "text": [
      "/var/folders/f1/77pps9rs2l9ffb8_p5tj2yrr0000gp/T/ipykernel_98949/1239188903.py:42: FutureWarning: The behavior of DataFrame concatenation with empty or all-NA entries is deprecated. In a future version, this will no longer exclude empty or all-NA columns when determining the result dtypes. To retain the old behavior, exclude the relevant entries before the concat operation.\n",
      "  results_df = pd.concat([results_df, new_row], ignore_index=True)\n"
     ]
    }
   ],
   "source": [
    "knn_scaled_reg = KNeighborsRegressor()\n",
    "\n",
    "\n",
    "evaluate_model(\"knn scaled Regression\", knn_scaled_reg, \n",
    "               X_train_scaled, X_test_scaled, \n",
    "               X_train, X_test, \n",
    "               y_train, y_test, use_scaled=True)"
   ]
  },
  {
   "cell_type": "code",
   "execution_count": 12,
   "id": "a31e92e8-c0ea-40aa-9b94-4411d06a6c43",
   "metadata": {},
   "outputs": [
    {
     "name": "stdout",
     "output_type": "stream",
     "text": [
      "knn Regression -> R²: 0.8888 | RMSE: 0.0639 | MAE: 0.0455 | MSE: 0.0041\n"
     ]
    }
   ],
   "source": [
    "knn_reg = KNeighborsRegressor()\n",
    "\n",
    "\n",
    "evaluate_model(\"knn Regression\", knn_reg, \n",
    "               X_train, X_test, \n",
    "               X_train, X_test, \n",
    "               y_train, y_test, use_scaled=True)"
   ]
  },
  {
   "cell_type": "code",
   "execution_count": 13,
   "id": "e499be83-c4d9-464b-aa20-49df93e469b6",
   "metadata": {},
   "outputs": [
    {
     "name": "stdout",
     "output_type": "stream",
     "text": [
      "Linear Regression -> R²: 0.8912 | RMSE: 0.0632 | MAE: 0.0483 | MSE: 0.0040\n"
     ]
    }
   ],
   "source": [
    "# Linear Regression (after scaling)\n",
    "from sklearn.linear_model import LinearRegression\n",
    "\n",
    "lin_reg = LinearRegression()\n",
    "\n",
    "evaluate_model(\"Linear Regression\", lin_reg, \n",
    "               X_train_scaled, X_test_scaled, \n",
    "               X_train, X_test, \n",
    "               y_train, y_test, use_scaled=True)\n"
   ]
  },
  {
   "cell_type": "code",
   "execution_count": 14,
   "id": "2575d78b-6318-4caa-ab40-c1ad2be98718",
   "metadata": {},
   "outputs": [
    {
     "name": "stdout",
     "output_type": "stream",
     "text": [
      "Bagging (DecisionTree) -> R²: 0.9294 | RMSE: 0.0509 | MAE: 0.0355 | MSE: 0.0026\n"
     ]
    }
   ],
   "source": [
    "#Bagging Regressor (before scaling)\n",
    "\n",
    "from sklearn.ensemble import BaggingRegressor\n",
    "from sklearn.tree import DecisionTreeRegressor\n",
    "\n",
    "bagging = BaggingRegressor(\n",
    "    estimator=DecisionTreeRegressor(random_state=42),  # ← cambio aquí\n",
    "    n_estimators=100,\n",
    "    bootstrap=True,   # True = Bagging (con reemplazo)\n",
    "    random_state=42\n",
    ")\n",
    "\n",
    "evaluate_model(\"Bagging (DecisionTree)\", bagging,\n",
    "               X_train_scaled, X_test_scaled, \n",
    "               X_train, X_test,\n",
    "               y_train, y_test, use_scaled=False)\n"
   ]
  },
  {
   "cell_type": "code",
   "execution_count": 15,
   "id": "791704e4-e958-4160-b5ae-fb345f808755",
   "metadata": {},
   "outputs": [
    {
     "name": "stdout",
     "output_type": "stream",
     "text": [
      "Pasting (DecisionTree) -> R²: 0.8967 | RMSE: 0.0616 | MAE: 0.0411 | MSE: 0.0038\n"
     ]
    }
   ],
   "source": [
    "#Pasting Regressor (before scaling)\n",
    "pasting = BaggingRegressor(\n",
    "    estimator=DecisionTreeRegressor(random_state=42),  # ← cambio aquí también\n",
    "    n_estimators=100,\n",
    "    bootstrap=False,   # False = Pasting (sin reemplazo)\n",
    "    random_state=42\n",
    ")\n",
    "\n",
    "evaluate_model(\"Pasting (DecisionTree)\", pasting,\n",
    "               X_train_scaled, X_test_scaled, \n",
    "               X_train, X_test,\n",
    "               y_train, y_test, use_scaled=False)\n",
    "\n"
   ]
  },
  {
   "cell_type": "code",
   "execution_count": 16,
   "id": "b141372f-25dd-466f-a325-2c030e3bf84f",
   "metadata": {},
   "outputs": [
    {
     "name": "stdout",
     "output_type": "stream",
     "text": [
      "Random Forest -> R²: 0.9297 | RMSE: 0.0508 | MAE: 0.0354 | MSE: 0.0026\n"
     ]
    }
   ],
   "source": [
    "# Random Forest (before scaling)\n",
    "from sklearn.ensemble import RandomForestRegressor\n",
    "\n",
    "rf = RandomForestRegressor(\n",
    "    n_estimators=200,\n",
    "    max_depth=None,\n",
    "    random_state=42\n",
    ")\n",
    "\n",
    "evaluate_model(\"Random Forest\", rf,\n",
    "               X_train_scaled, X_test_scaled, \n",
    "               X_train, X_test,\n",
    "               y_train, y_test, use_scaled=False)\n"
   ]
  },
  {
   "cell_type": "code",
   "execution_count": 17,
   "id": "b6528ad8-0c5e-4ae4-91f7-240ed70edf86",
   "metadata": {},
   "outputs": [
    {
     "name": "stdout",
     "output_type": "stream",
     "text": [
      "Gradient Boosting -> R²: 0.9266 | RMSE: 0.0519 | MAE: 0.0387 | MSE: 0.0027\n"
     ]
    }
   ],
   "source": [
    "# Gradient Boosting (before scaling)\n",
    "from sklearn.ensemble import GradientBoostingRegressor\n",
    "\n",
    "gbr = GradientBoostingRegressor(\n",
    "    n_estimators=200,\n",
    "    learning_rate=0.1,\n",
    "    random_state=42\n",
    ")\n",
    "\n",
    "evaluate_model(\"Gradient Boosting\", gbr,\n",
    "               X_train_scaled, X_test_scaled, \n",
    "               X_train, X_test,\n",
    "               y_train, y_test, use_scaled=False)\n"
   ]
  },
  {
   "cell_type": "code",
   "execution_count": 18,
   "id": "17064cab-d57c-48dd-95d6-7f60a32bc370",
   "metadata": {},
   "outputs": [
    {
     "name": "stdout",
     "output_type": "stream",
     "text": [
      "AdaBoost -> R²: 0.8296 | RMSE: 0.0791 | MAE: 0.0647 | MSE: 0.0063\n"
     ]
    }
   ],
   "source": [
    "#Adaptive Boosting (AdaBoost) before scaling\n",
    "from sklearn.ensemble import AdaBoostRegressor\n",
    "\n",
    "ada = AdaBoostRegressor(\n",
    "    n_estimators=200,\n",
    "    learning_rate=0.8,\n",
    "    random_state=42\n",
    ")\n",
    "\n",
    "evaluate_model(\"AdaBoost\", ada,\n",
    "               X_train_scaled, X_test_scaled, \n",
    "               X_train, X_test,\n",
    "               y_train, y_test, use_scaled=False)\n"
   ]
  },
  {
   "cell_type": "code",
   "execution_count": 19,
   "id": "a1e42693-c3f4-402a-a64a-7c0e0fe0a447",
   "metadata": {},
   "outputs": [
    {
     "data": {
      "text/html": [
       "<div>\n",
       "<style scoped>\n",
       "    .dataframe tbody tr th:only-of-type {\n",
       "        vertical-align: middle;\n",
       "    }\n",
       "\n",
       "    .dataframe tbody tr th {\n",
       "        vertical-align: top;\n",
       "    }\n",
       "\n",
       "    .dataframe thead th {\n",
       "        text-align: right;\n",
       "    }\n",
       "</style>\n",
       "<table border=\"1\" class=\"dataframe\">\n",
       "  <thead>\n",
       "    <tr style=\"text-align: right;\">\n",
       "      <th></th>\n",
       "      <th>Model</th>\n",
       "      <th>MAE</th>\n",
       "      <th>MSE</th>\n",
       "      <th>RMSE</th>\n",
       "      <th>R²</th>\n",
       "    </tr>\n",
       "  </thead>\n",
       "  <tbody>\n",
       "    <tr>\n",
       "      <th>0</th>\n",
       "      <td>Random Forest</td>\n",
       "      <td>0.035444</td>\n",
       "      <td>0.002580</td>\n",
       "      <td>0.050796</td>\n",
       "      <td>0.929722</td>\n",
       "    </tr>\n",
       "    <tr>\n",
       "      <th>1</th>\n",
       "      <td>Bagging (DecisionTree)</td>\n",
       "      <td>0.035536</td>\n",
       "      <td>0.002593</td>\n",
       "      <td>0.050926</td>\n",
       "      <td>0.929361</td>\n",
       "    </tr>\n",
       "    <tr>\n",
       "      <th>2</th>\n",
       "      <td>Gradient Boosting</td>\n",
       "      <td>0.038733</td>\n",
       "      <td>0.002696</td>\n",
       "      <td>0.051923</td>\n",
       "      <td>0.926566</td>\n",
       "    </tr>\n",
       "    <tr>\n",
       "      <th>3</th>\n",
       "      <td>Pasting (DecisionTree)</td>\n",
       "      <td>0.041116</td>\n",
       "      <td>0.003794</td>\n",
       "      <td>0.061597</td>\n",
       "      <td>0.896656</td>\n",
       "    </tr>\n",
       "    <tr>\n",
       "      <th>4</th>\n",
       "      <td>Linear Regression</td>\n",
       "      <td>0.048306</td>\n",
       "      <td>0.003994</td>\n",
       "      <td>0.063195</td>\n",
       "      <td>0.891224</td>\n",
       "    </tr>\n",
       "    <tr>\n",
       "      <th>5</th>\n",
       "      <td>knn scaled Regression</td>\n",
       "      <td>0.044976</td>\n",
       "      <td>0.004061</td>\n",
       "      <td>0.063728</td>\n",
       "      <td>0.889382</td>\n",
       "    </tr>\n",
       "    <tr>\n",
       "      <th>6</th>\n",
       "      <td>knn Regression</td>\n",
       "      <td>0.045527</td>\n",
       "      <td>0.004082</td>\n",
       "      <td>0.063891</td>\n",
       "      <td>0.888816</td>\n",
       "    </tr>\n",
       "    <tr>\n",
       "      <th>7</th>\n",
       "      <td>AdaBoost</td>\n",
       "      <td>0.064656</td>\n",
       "      <td>0.006255</td>\n",
       "      <td>0.079091</td>\n",
       "      <td>0.829618</td>\n",
       "    </tr>\n",
       "  </tbody>\n",
       "</table>\n",
       "</div>"
      ],
      "text/plain": [
       "                    Model       MAE       MSE      RMSE        R²\n",
       "0           Random Forest  0.035444  0.002580  0.050796  0.929722\n",
       "1  Bagging (DecisionTree)  0.035536  0.002593  0.050926  0.929361\n",
       "2       Gradient Boosting  0.038733  0.002696  0.051923  0.926566\n",
       "3  Pasting (DecisionTree)  0.041116  0.003794  0.061597  0.896656\n",
       "4       Linear Regression  0.048306  0.003994  0.063195  0.891224\n",
       "5   knn scaled Regression  0.044976  0.004061  0.063728  0.889382\n",
       "6          knn Regression  0.045527  0.004082  0.063891  0.888816\n",
       "7                AdaBoost  0.064656  0.006255  0.079091  0.829618"
      ]
     },
     "execution_count": 19,
     "metadata": {},
     "output_type": "execute_result"
    }
   ],
   "source": [
    "results_df.sort_values(by=\"R²\", ascending=False).reset_index(drop=True)\n"
   ]
  },
  {
   "cell_type": "code",
   "execution_count": 20,
   "id": "7530865f-b244-4b18-b67f-bebc18f3de91",
   "metadata": {},
   "outputs": [
    {
     "data": {
      "image/png": "[encoded data removed]",
      "text/plain": [
       "<Figure size 800x500 with 1 Axes>"
      ]
     },
     "metadata": {},
     "output_type": "display_data"
    },
    {
     "data": {
      "image/png": "[encoded data removed]",
      "text/plain": [
       "<Figure size 800x500 with 1 Axes>"
      ]
     },
     "metadata": {},
     "output_type": "display_data"
    }
   ],
   "source": [
    "import matplotlib.pyplot as plt\n",
    "\n",
    "tmp = results_df.sort_values(by=\"R²\", ascending=True)\n",
    "\n",
    "plt.figure(figsize=(8,5))\n",
    "plt.barh(tmp[\"Model\"], tmp[\"R²\"])\n",
    "plt.title(\"Model Performance (R²)\")\n",
    "plt.xlabel(\"R²\")\n",
    "plt.show()\n",
    "\n",
    "plt.figure(figsize=(8,5))\n",
    "plt.barh(tmp[\"Model\"], tmp[\"RMSE\"])\n",
    "plt.title(\"Model Error (RMSE)\")\n",
    "plt.xlabel(\"RMSE\")\n",
    "plt.show()\n"
   ]
  },
  {
   "cell_type": "markdown",
   "id": "7f49e93c-c696-43ba-b5dc-c884c98241b7",
   "metadata": {},
   "source": [
    "### Model Evaluation Summary\n",
    "\n",
    "We evaluated several regression models to predict car selling prices.  \n",
    "The following metrics were used: **MAE**, **MSE**, **RMSE**, and **R²**.\n",
    "\n",
    "**Key findings:**\n",
    "- **Random Forest** achieved the best overall performance (R² = 0.93), indicating strong predictive power and stability.  \n",
    "- **Bagging (Decision Tree)** performed nearly as well, confirming the benefit of ensemble averaging.  \n",
    "- **Gradient Boosting** also showed robust performance, slightly below Random Forest.  \n",
    "- **Linear Regression** and **KNN** achieved decent but weaker results, as expected for non-ensemble methods.  \n",
    "- **AdaBoost** underperformed, possibly due to sensitivity to outliers and non-linear relationships.\n",
    "\n",
    "In conclusion, **Random Forest** was selected as the best model for further optimization (hyperparameter tuning) because it provides the best balance between bias and variance.\n"
   ]
  },
  {
   "cell_type": "markdown",
   "id": "079cd594-8474-45a0-b0ed-a2e16a0cbeb8",
   "metadata": {},
   "source": [
    "### Grid Search\n",
    "we define a grid of hyperparameter values we want to try. Grid Search tries all possible combinations."
   ]
  },
  {
   "cell_type": "markdown",
   "id": "a4170308-2384-4d98-a3eb-d4604294ea31",
   "metadata": {},
   "source": [
    "So far, our best model was ????? a R-Squared of ????."
   ]
  },
  {
   "cell_type": "code",
   "execution_count": 22,
   "id": "d15d2665-dc81-4199-b670-b4c1ae07e98d",
   "metadata": {},
   "outputs": [
    {
     "name": "stdout",
     "output_type": "stream",
     "text": [
      "Fitting 10 folds for each of 16 candidates, totalling 160 fits\n",
      "[CV 1/10; 1/16] START max_depth=10, max_features=sqrt, max_leaf_nodes=250, min_samples_split=4\n",
      "[CV 1/10; 1/16] END max_depth=10, max_features=sqrt, max_leaf_nodes=250, min_samples_split=4;, score=0.893 total time=   0.7s\n",
      "[CV 2/10; 1/16] START max_depth=10, max_features=sqrt, max_leaf_nodes=250, min_samples_split=4\n",
      "[CV 2/10; 1/16] END max_depth=10, max_features=sqrt, max_leaf_nodes=250, min_samples_split=4;, score=0.888 total time=   0.6s\n",
      "[CV 3/10; 1/16] START max_depth=10, max_features=sqrt, max_leaf_nodes=250, min_samples_split=4\n",
      "[CV 3/10; 1/16] END max_depth=10, max_features=sqrt, max_leaf_nodes=250, min_samples_split=4;, score=0.883 total time=   0.5s\n",
      "[CV 4/10; 1/16] START max_depth=10, max_features=sqrt, max_leaf_nodes=250, min_samples_split=4\n",
      "[CV 4/10; 1/16] END max_depth=10, max_features=sqrt, max_leaf_nodes=250, min_samples_split=4;, score=0.900 total time=   0.5s\n",
      "[CV 5/10; 1/16] START max_depth=10, max_features=sqrt, max_leaf_nodes=250, min_samples_split=4\n",
      "[CV 5/10; 1/16] END max_depth=10, max_features=sqrt, max_leaf_nodes=250, min_samples_split=4;, score=0.901 total time=   0.5s\n",
      "[CV 6/10; 1/16] START max_depth=10, max_features=sqrt, max_leaf_nodes=250, min_samples_split=4\n",
      "[CV 6/10; 1/16] END max_depth=10, max_features=sqrt, max_leaf_nodes=250, min_samples_split=4;, score=0.888 total time=   0.6s\n",
      "[CV 7/10; 1/16] START max_depth=10, max_features=sqrt, max_leaf_nodes=250, min_samples_split=4\n",
      "[CV 7/10; 1/16] END max_depth=10, max_features=sqrt, max_leaf_nodes=250, min_samples_split=4;, score=0.882 total time=   0.5s\n",
      "[CV 8/10; 1/16] START max_depth=10, max_features=sqrt, max_leaf_nodes=250, min_samples_split=4\n",
      "[CV 8/10; 1/16] END max_depth=10, max_features=sqrt, max_leaf_nodes=250, min_samples_split=4;, score=0.904 total time=   0.5s\n",
      "[CV 9/10; 1/16] START max_depth=10, max_features=sqrt, max_leaf_nodes=250, min_samples_split=4\n",
      "[CV 9/10; 1/16] END max_depth=10, max_features=sqrt, max_leaf_nodes=250, min_samples_split=4;, score=0.881 total time=   0.5s\n",
      "[CV 10/10; 1/16] START max_depth=10, max_features=sqrt, max_leaf_nodes=250, min_samples_split=4\n",
      "[CV 10/10; 1/16] END max_depth=10, max_features=sqrt, max_leaf_nodes=250, min_samples_split=4;, score=0.899 total time=   0.5s\n",
      "[CV 1/10; 2/16] START max_depth=10, max_features=sqrt, max_leaf_nodes=250, min_samples_split=16\n",
      "[CV 1/10; 2/16] END max_depth=10, max_features=sqrt, max_leaf_nodes=250, min_samples_split=16;, score=0.893 total time=   0.8s\n",
      "[CV 2/10; 2/16] START max_depth=10, max_features=sqrt, max_leaf_nodes=250, min_samples_split=16\n",
      "[CV 2/10; 2/16] END max_depth=10, max_features=sqrt, max_leaf_nodes=250, min_samples_split=16;, score=0.883 total time=   0.9s\n",
      "[CV 3/10; 2/16] START max_depth=10, max_features=sqrt, max_leaf_nodes=250, min_samples_split=16\n",
      "[CV 3/10; 2/16] END max_depth=10, max_features=sqrt, max_leaf_nodes=250, min_samples_split=16;, score=0.884 total time=   0.8s\n",
      "[CV 4/10; 2/16] START max_depth=10, max_features=sqrt, max_leaf_nodes=250, min_samples_split=16\n",
      "[CV 4/10; 2/16] END max_depth=10, max_features=sqrt, max_leaf_nodes=250, min_samples_split=16;, score=0.898 total time=   0.6s\n",
      "[CV 5/10; 2/16] START max_depth=10, max_features=sqrt, max_leaf_nodes=250, min_samples_split=16\n",
      "[CV 5/10; 2/16] END max_depth=10, max_features=sqrt, max_leaf_nodes=250, min_samples_split=16;, score=0.899 total time=   0.8s\n",
      "[CV 6/10; 2/16] START max_depth=10, max_features=sqrt, max_leaf_nodes=250, min_samples_split=16\n",
      "[CV 6/10; 2/16] END max_depth=10, max_features=sqrt, max_leaf_nodes=250, min_samples_split=16;, score=0.888 total time=   0.7s\n",
      "[CV 7/10; 2/16] START max_depth=10, max_features=sqrt, max_leaf_nodes=250, min_samples_split=16\n",
      "[CV 7/10; 2/16] END max_depth=10, max_features=sqrt, max_leaf_nodes=250, min_samples_split=16;, score=0.882 total time=   0.5s\n",
      "[CV 8/10; 2/16] START max_depth=10, max_features=sqrt, max_leaf_nodes=250, min_samples_split=16\n",
      "[CV 8/10; 2/16] END max_depth=10, max_features=sqrt, max_leaf_nodes=250, min_samples_split=16;, score=0.901 total time=   0.8s\n",
      "[CV 9/10; 2/16] START max_depth=10, max_features=sqrt, max_leaf_nodes=250, min_samples_split=16\n",
      "[CV 9/10; 2/16] END max_depth=10, max_features=sqrt, max_leaf_nodes=250, min_samples_split=16;, score=0.876 total time=   1.0s\n",
      "[CV 10/10; 2/16] START max_depth=10, max_features=sqrt, max_leaf_nodes=250, min_samples_split=16\n",
      "[CV 10/10; 2/16] END max_depth=10, max_features=sqrt, max_leaf_nodes=250, min_samples_split=16;, score=0.899 total time=   0.7s\n",
      "[CV 1/10; 3/16] START max_depth=10, max_features=sqrt, max_leaf_nodes=100, min_samples_split=4\n",
      "[CV 1/10; 3/16] END max_depth=10, max_features=sqrt, max_leaf_nodes=100, min_samples_split=4;, score=0.876 total time=   1.2s\n",
      "[CV 2/10; 3/16] START max_depth=10, max_features=sqrt, max_leaf_nodes=100, min_samples_split=4\n",
      "[CV 2/10; 3/16] END max_depth=10, max_features=sqrt, max_leaf_nodes=100, min_samples_split=4;, score=0.871 total time=   0.7s\n",
      "[CV 3/10; 3/16] START max_depth=10, max_features=sqrt, max_leaf_nodes=100, min_samples_split=4\n",
      "[CV 3/10; 3/16] END max_depth=10, max_features=sqrt, max_leaf_nodes=100, min_samples_split=4;, score=0.867 total time=   0.8s\n",
      "[CV 4/10; 3/16] START max_depth=10, max_features=sqrt, max_leaf_nodes=100, min_samples_split=4\n",
      "[CV 4/10; 3/16] END max_depth=10, max_features=sqrt, max_leaf_nodes=100, min_samples_split=4;, score=0.886 total time=   0.6s\n",
      "[CV 5/10; 3/16] START max_depth=10, max_features=sqrt, max_leaf_nodes=100, min_samples_split=4\n",
      "[CV 5/10; 3/16] END max_depth=10, max_features=sqrt, max_leaf_nodes=100, min_samples_split=4;, score=0.885 total time=   0.4s\n",
      "[CV 6/10; 3/16] START max_depth=10, max_features=sqrt, max_leaf_nodes=100, min_samples_split=4\n",
      "[CV 6/10; 3/16] END max_depth=10, max_features=sqrt, max_leaf_nodes=100, min_samples_split=4;, score=0.874 total time=   0.4s\n",
      "[CV 7/10; 3/16] START max_depth=10, max_features=sqrt, max_leaf_nodes=100, min_samples_split=4\n",
      "[CV 7/10; 3/16] END max_depth=10, max_features=sqrt, max_leaf_nodes=100, min_samples_split=4;, score=0.863 total time=   0.5s\n",
      "[CV 8/10; 3/16] START max_depth=10, max_features=sqrt, max_leaf_nodes=100, min_samples_split=4\n",
      "[CV 8/10; 3/16] END max_depth=10, max_features=sqrt, max_leaf_nodes=100, min_samples_split=4;, score=0.888 total time=   0.4s\n",
      "[CV 9/10; 3/16] START max_depth=10, max_features=sqrt, max_leaf_nodes=100, min_samples_split=4\n",
      "[CV 9/10; 3/16] END max_depth=10, max_features=sqrt, max_leaf_nodes=100, min_samples_split=4;, score=0.863 total time=   0.4s\n",
      "[CV 10/10; 3/16] START max_depth=10, max_features=sqrt, max_leaf_nodes=100, min_samples_split=4\n",
      "[CV 10/10; 3/16] END max_depth=10, max_features=sqrt, max_leaf_nodes=100, min_samples_split=4;, score=0.883 total time=   0.4s\n",
      "[CV 1/10; 4/16] START max_depth=10, max_features=sqrt, max_leaf_nodes=100, min_samples_split=16\n",
      "[CV 1/10; 4/16] END max_depth=10, max_features=sqrt, max_leaf_nodes=100, min_samples_split=16;, score=0.877 total time=   0.4s\n",
      "[CV 2/10; 4/16] START max_depth=10, max_features=sqrt, max_leaf_nodes=100, min_samples_split=16\n",
      "[CV 2/10; 4/16] END max_depth=10, max_features=sqrt, max_leaf_nodes=100, min_samples_split=16;, score=0.870 total time=   0.4s\n",
      "[CV 3/10; 4/16] START max_depth=10, max_features=sqrt, max_leaf_nodes=100, min_samples_split=16\n",
      "[CV 3/10; 4/16] END max_depth=10, max_features=sqrt, max_leaf_nodes=100, min_samples_split=16;, score=0.870 total time=   0.4s\n",
      "[CV 4/10; 4/16] START max_depth=10, max_features=sqrt, max_leaf_nodes=100, min_samples_split=16\n",
      "[CV 4/10; 4/16] END max_depth=10, max_features=sqrt, max_leaf_nodes=100, min_samples_split=16;, score=0.888 total time=   0.4s\n",
      "[CV 5/10; 4/16] START max_depth=10, max_features=sqrt, max_leaf_nodes=100, min_samples_split=16\n",
      "[CV 5/10; 4/16] END max_depth=10, max_features=sqrt, max_leaf_nodes=100, min_samples_split=16;, score=0.887 total time=   0.6s\n",
      "[CV 6/10; 4/16] START max_depth=10, max_features=sqrt, max_leaf_nodes=100, min_samples_split=16\n",
      "[CV 6/10; 4/16] END max_depth=10, max_features=sqrt, max_leaf_nodes=100, min_samples_split=16;, score=0.876 total time=   0.4s\n",
      "[CV 7/10; 4/16] START max_depth=10, max_features=sqrt, max_leaf_nodes=100, min_samples_split=16\n",
      "[CV 7/10; 4/16] END max_depth=10, max_features=sqrt, max_leaf_nodes=100, min_samples_split=16;, score=0.867 total time=   0.4s\n",
      "[CV 8/10; 4/16] START max_depth=10, max_features=sqrt, max_leaf_nodes=100, min_samples_split=16\n",
      "[CV 8/10; 4/16] END max_depth=10, max_features=sqrt, max_leaf_nodes=100, min_samples_split=16;, score=0.890 total time=   0.4s\n",
      "[CV 9/10; 4/16] START max_depth=10, max_features=sqrt, max_leaf_nodes=100, min_samples_split=16\n",
      "[CV 9/10; 4/16] END max_depth=10, max_features=sqrt, max_leaf_nodes=100, min_samples_split=16;, score=0.861 total time=   0.4s\n",
      "[CV 10/10; 4/16] START max_depth=10, max_features=sqrt, max_leaf_nodes=100, min_samples_split=16\n",
      "[CV 10/10; 4/16] END max_depth=10, max_features=sqrt, max_leaf_nodes=100, min_samples_split=16;, score=0.886 total time=   0.4s\n",
      "[CV 1/10; 5/16] START max_depth=10, max_features=log2, max_leaf_nodes=250, min_samples_split=4\n",
      "[CV 1/10; 5/16] END max_depth=10, max_features=log2, max_leaf_nodes=250, min_samples_split=4;, score=0.882 total time=   0.4s\n",
      "[CV 2/10; 5/16] START max_depth=10, max_features=log2, max_leaf_nodes=250, min_samples_split=4\n",
      "[CV 2/10; 5/16] END max_depth=10, max_features=log2, max_leaf_nodes=250, min_samples_split=4;, score=0.876 total time=   0.5s\n",
      "[CV 3/10; 5/16] START max_depth=10, max_features=log2, max_leaf_nodes=250, min_samples_split=4\n",
      "[CV 3/10; 5/16] END max_depth=10, max_features=log2, max_leaf_nodes=250, min_samples_split=4;, score=0.875 total time=   0.5s\n",
      "[CV 4/10; 5/16] START max_depth=10, max_features=log2, max_leaf_nodes=250, min_samples_split=4\n",
      "[CV 4/10; 5/16] END max_depth=10, max_features=log2, max_leaf_nodes=250, min_samples_split=4;, score=0.890 total time=   0.5s\n",
      "[CV 5/10; 5/16] START max_depth=10, max_features=log2, max_leaf_nodes=250, min_samples_split=4\n",
      "[CV 5/10; 5/16] END max_depth=10, max_features=log2, max_leaf_nodes=250, min_samples_split=4;, score=0.895 total time=   0.9s\n",
      "[CV 6/10; 5/16] START max_depth=10, max_features=log2, max_leaf_nodes=250, min_samples_split=4\n",
      "[CV 6/10; 5/16] END max_depth=10, max_features=log2, max_leaf_nodes=250, min_samples_split=4;, score=0.881 total time=   1.2s\n",
      "[CV 7/10; 5/16] START max_depth=10, max_features=log2, max_leaf_nodes=250, min_samples_split=4\n",
      "[CV 7/10; 5/16] END max_depth=10, max_features=log2, max_leaf_nodes=250, min_samples_split=4;, score=0.871 total time=   0.9s\n",
      "[CV 8/10; 5/16] START max_depth=10, max_features=log2, max_leaf_nodes=250, min_samples_split=4\n",
      "[CV 8/10; 5/16] END max_depth=10, max_features=log2, max_leaf_nodes=250, min_samples_split=4;, score=0.897 total time=   0.7s\n",
      "[CV 9/10; 5/16] START max_depth=10, max_features=log2, max_leaf_nodes=250, min_samples_split=4\n",
      "[CV 9/10; 5/16] END max_depth=10, max_features=log2, max_leaf_nodes=250, min_samples_split=4;, score=0.872 total time=   0.6s\n",
      "[CV 10/10; 5/16] START max_depth=10, max_features=log2, max_leaf_nodes=250, min_samples_split=4\n",
      "[CV 10/10; 5/16] END max_depth=10, max_features=log2, max_leaf_nodes=250, min_samples_split=4;, score=0.890 total time=   0.5s\n",
      "[CV 1/10; 6/16] START max_depth=10, max_features=log2, max_leaf_nodes=250, min_samples_split=16\n",
      "[CV 1/10; 6/16] END max_depth=10, max_features=log2, max_leaf_nodes=250, min_samples_split=16;, score=0.884 total time=   0.5s\n",
      "[CV 2/10; 6/16] START max_depth=10, max_features=log2, max_leaf_nodes=250, min_samples_split=16\n",
      "[CV 2/10; 6/16] END max_depth=10, max_features=log2, max_leaf_nodes=250, min_samples_split=16;, score=0.873 total time=   0.4s\n",
      "[CV 3/10; 6/16] START max_depth=10, max_features=log2, max_leaf_nodes=250, min_samples_split=16\n",
      "[CV 3/10; 6/16] END max_depth=10, max_features=log2, max_leaf_nodes=250, min_samples_split=16;, score=0.875 total time=   0.4s\n",
      "[CV 4/10; 6/16] START max_depth=10, max_features=log2, max_leaf_nodes=250, min_samples_split=16\n",
      "[CV 4/10; 6/16] END max_depth=10, max_features=log2, max_leaf_nodes=250, min_samples_split=16;, score=0.887 total time=   0.4s\n",
      "[CV 5/10; 6/16] START max_depth=10, max_features=log2, max_leaf_nodes=250, min_samples_split=16\n",
      "[CV 5/10; 6/16] END max_depth=10, max_features=log2, max_leaf_nodes=250, min_samples_split=16;, score=0.892 total time=   0.5s\n",
      "[CV 6/10; 6/16] START max_depth=10, max_features=log2, max_leaf_nodes=250, min_samples_split=16\n",
      "[CV 6/10; 6/16] END max_depth=10, max_features=log2, max_leaf_nodes=250, min_samples_split=16;, score=0.878 total time=   0.4s\n",
      "[CV 7/10; 6/16] START max_depth=10, max_features=log2, max_leaf_nodes=250, min_samples_split=16\n",
      "[CV 7/10; 6/16] END max_depth=10, max_features=log2, max_leaf_nodes=250, min_samples_split=16;, score=0.870 total time=   0.4s\n",
      "[CV 8/10; 6/16] START max_depth=10, max_features=log2, max_leaf_nodes=250, min_samples_split=16\n",
      "[CV 8/10; 6/16] END max_depth=10, max_features=log2, max_leaf_nodes=250, min_samples_split=16;, score=0.894 total time=   0.6s\n",
      "[CV 9/10; 6/16] START max_depth=10, max_features=log2, max_leaf_nodes=250, min_samples_split=16\n",
      "[CV 9/10; 6/16] END max_depth=10, max_features=log2, max_leaf_nodes=250, min_samples_split=16;, score=0.870 total time=   1.0s\n",
      "[CV 10/10; 6/16] START max_depth=10, max_features=log2, max_leaf_nodes=250, min_samples_split=16\n",
      "[CV 10/10; 6/16] END max_depth=10, max_features=log2, max_leaf_nodes=250, min_samples_split=16;, score=0.893 total time=   0.5s\n",
      "[CV 1/10; 7/16] START max_depth=10, max_features=log2, max_leaf_nodes=100, min_samples_split=4\n",
      "[CV 1/10; 7/16] END max_depth=10, max_features=log2, max_leaf_nodes=100, min_samples_split=4;, score=0.862 total time=   0.5s\n",
      "[CV 2/10; 7/16] START max_depth=10, max_features=log2, max_leaf_nodes=100, min_samples_split=4\n",
      "[CV 2/10; 7/16] END max_depth=10, max_features=log2, max_leaf_nodes=100, min_samples_split=4;, score=0.857 total time=   0.6s\n",
      "[CV 3/10; 7/16] START max_depth=10, max_features=log2, max_leaf_nodes=100, min_samples_split=4\n",
      "[CV 3/10; 7/16] END max_depth=10, max_features=log2, max_leaf_nodes=100, min_samples_split=4;, score=0.857 total time=   0.5s\n",
      "[CV 4/10; 7/16] START max_depth=10, max_features=log2, max_leaf_nodes=100, min_samples_split=4\n",
      "[CV 4/10; 7/16] END max_depth=10, max_features=log2, max_leaf_nodes=100, min_samples_split=4;, score=0.875 total time=   0.7s\n",
      "[CV 5/10; 7/16] START max_depth=10, max_features=log2, max_leaf_nodes=100, min_samples_split=4\n",
      "[CV 5/10; 7/16] END max_depth=10, max_features=log2, max_leaf_nodes=100, min_samples_split=4;, score=0.878 total time=   0.5s\n",
      "[CV 6/10; 7/16] START max_depth=10, max_features=log2, max_leaf_nodes=100, min_samples_split=4\n",
      "[CV 6/10; 7/16] END max_depth=10, max_features=log2, max_leaf_nodes=100, min_samples_split=4;, score=0.864 total time=   0.5s\n",
      "[CV 7/10; 7/16] START max_depth=10, max_features=log2, max_leaf_nodes=100, min_samples_split=4\n",
      "[CV 7/10; 7/16] END max_depth=10, max_features=log2, max_leaf_nodes=100, min_samples_split=4;, score=0.851 total time=   0.5s\n",
      "[CV 8/10; 7/16] START max_depth=10, max_features=log2, max_leaf_nodes=100, min_samples_split=4\n",
      "[CV 8/10; 7/16] END max_depth=10, max_features=log2, max_leaf_nodes=100, min_samples_split=4;, score=0.880 total time=   0.5s\n",
      "[CV 9/10; 7/16] START max_depth=10, max_features=log2, max_leaf_nodes=100, min_samples_split=4\n",
      "[CV 9/10; 7/16] END max_depth=10, max_features=log2, max_leaf_nodes=100, min_samples_split=4;, score=0.853 total time=   0.4s\n",
      "[CV 10/10; 7/16] START max_depth=10, max_features=log2, max_leaf_nodes=100, min_samples_split=4\n",
      "[CV 10/10; 7/16] END max_depth=10, max_features=log2, max_leaf_nodes=100, min_samples_split=4;, score=0.870 total time=   0.5s\n",
      "[CV 1/10; 8/16] START max_depth=10, max_features=log2, max_leaf_nodes=100, min_samples_split=16\n",
      "[CV 1/10; 8/16] END max_depth=10, max_features=log2, max_leaf_nodes=100, min_samples_split=16;, score=0.870 total time=   0.5s\n",
      "[CV 2/10; 8/16] START max_depth=10, max_features=log2, max_leaf_nodes=100, min_samples_split=16\n",
      "[CV 2/10; 8/16] END max_depth=10, max_features=log2, max_leaf_nodes=100, min_samples_split=16;, score=0.859 total time=   0.4s\n",
      "[CV 3/10; 8/16] START max_depth=10, max_features=log2, max_leaf_nodes=100, min_samples_split=16\n",
      "[CV 3/10; 8/16] END max_depth=10, max_features=log2, max_leaf_nodes=100, min_samples_split=16;, score=0.863 total time=   0.4s\n",
      "[CV 4/10; 8/16] START max_depth=10, max_features=log2, max_leaf_nodes=100, min_samples_split=16\n",
      "[CV 4/10; 8/16] END max_depth=10, max_features=log2, max_leaf_nodes=100, min_samples_split=16;, score=0.877 total time=   0.4s\n",
      "[CV 5/10; 8/16] START max_depth=10, max_features=log2, max_leaf_nodes=100, min_samples_split=16\n",
      "[CV 5/10; 8/16] END max_depth=10, max_features=log2, max_leaf_nodes=100, min_samples_split=16;, score=0.878 total time=   0.3s\n",
      "[CV 6/10; 8/16] START max_depth=10, max_features=log2, max_leaf_nodes=100, min_samples_split=16\n",
      "[CV 6/10; 8/16] END max_depth=10, max_features=log2, max_leaf_nodes=100, min_samples_split=16;, score=0.866 total time=   0.4s\n",
      "[CV 7/10; 8/16] START max_depth=10, max_features=log2, max_leaf_nodes=100, min_samples_split=16\n",
      "[CV 7/10; 8/16] END max_depth=10, max_features=log2, max_leaf_nodes=100, min_samples_split=16;, score=0.855 total time=   0.4s\n",
      "[CV 8/10; 8/16] START max_depth=10, max_features=log2, max_leaf_nodes=100, min_samples_split=16\n",
      "[CV 8/10; 8/16] END max_depth=10, max_features=log2, max_leaf_nodes=100, min_samples_split=16;, score=0.882 total time=   0.4s\n",
      "[CV 9/10; 8/16] START max_depth=10, max_features=log2, max_leaf_nodes=100, min_samples_split=16\n",
      "[CV 9/10; 8/16] END max_depth=10, max_features=log2, max_leaf_nodes=100, min_samples_split=16;, score=0.855 total time=   0.4s\n",
      "[CV 10/10; 8/16] START max_depth=10, max_features=log2, max_leaf_nodes=100, min_samples_split=16\n",
      "[CV 10/10; 8/16] END max_depth=10, max_features=log2, max_leaf_nodes=100, min_samples_split=16;, score=0.880 total time=   0.4s\n",
      "[CV 1/10; 9/16] START max_depth=50, max_features=sqrt, max_leaf_nodes=250, min_samples_split=4\n",
      "[CV 1/10; 9/16] END max_depth=50, max_features=sqrt, max_leaf_nodes=250, min_samples_split=4;, score=0.908 total time=   0.5s\n",
      "[CV 2/10; 9/16] START max_depth=50, max_features=sqrt, max_leaf_nodes=250, min_samples_split=4\n",
      "[CV 2/10; 9/16] END max_depth=50, max_features=sqrt, max_leaf_nodes=250, min_samples_split=4;, score=0.901 total time=   0.5s\n",
      "[CV 3/10; 9/16] START max_depth=50, max_features=sqrt, max_leaf_nodes=250, min_samples_split=4\n",
      "[CV 3/10; 9/16] END max_depth=50, max_features=sqrt, max_leaf_nodes=250, min_samples_split=4;, score=0.894 total time=   0.5s\n",
      "[CV 4/10; 9/16] START max_depth=50, max_features=sqrt, max_leaf_nodes=250, min_samples_split=4\n",
      "[CV 4/10; 9/16] END max_depth=50, max_features=sqrt, max_leaf_nodes=250, min_samples_split=4;, score=0.908 total time=   0.6s\n",
      "[CV 5/10; 9/16] START max_depth=50, max_features=sqrt, max_leaf_nodes=250, min_samples_split=4\n",
      "[CV 5/10; 9/16] END max_depth=50, max_features=sqrt, max_leaf_nodes=250, min_samples_split=4;, score=0.910 total time=   0.6s\n",
      "[CV 6/10; 9/16] START max_depth=50, max_features=sqrt, max_leaf_nodes=250, min_samples_split=4\n",
      "[CV 6/10; 9/16] END max_depth=50, max_features=sqrt, max_leaf_nodes=250, min_samples_split=4;, score=0.900 total time=   0.5s\n",
      "[CV 7/10; 9/16] START max_depth=50, max_features=sqrt, max_leaf_nodes=250, min_samples_split=4\n",
      "[CV 7/10; 9/16] END max_depth=50, max_features=sqrt, max_leaf_nodes=250, min_samples_split=4;, score=0.892 total time=   0.5s\n",
      "[CV 8/10; 9/16] START max_depth=50, max_features=sqrt, max_leaf_nodes=250, min_samples_split=4\n",
      "[CV 8/10; 9/16] END max_depth=50, max_features=sqrt, max_leaf_nodes=250, min_samples_split=4;, score=0.914 total time=   0.6s\n",
      "[CV 9/10; 9/16] START max_depth=50, max_features=sqrt, max_leaf_nodes=250, min_samples_split=4\n",
      "[CV 9/10; 9/16] END max_depth=50, max_features=sqrt, max_leaf_nodes=250, min_samples_split=4;, score=0.893 total time=   0.5s\n",
      "[CV 10/10; 9/16] START max_depth=50, max_features=sqrt, max_leaf_nodes=250, min_samples_split=4\n",
      "[CV 10/10; 9/16] END max_depth=50, max_features=sqrt, max_leaf_nodes=250, min_samples_split=4;, score=0.910 total time=   0.5s\n",
      "[CV 1/10; 10/16] START max_depth=50, max_features=sqrt, max_leaf_nodes=250, min_samples_split=16\n",
      "[CV 1/10; 10/16] END max_depth=50, max_features=sqrt, max_leaf_nodes=250, min_samples_split=16;, score=0.910 total time=   0.5s\n",
      "[CV 2/10; 10/16] START max_depth=50, max_features=sqrt, max_leaf_nodes=250, min_samples_split=16\n",
      "[CV 2/10; 10/16] END max_depth=50, max_features=sqrt, max_leaf_nodes=250, min_samples_split=16;, score=0.905 total time=   0.5s\n",
      "[CV 3/10; 10/16] START max_depth=50, max_features=sqrt, max_leaf_nodes=250, min_samples_split=16\n",
      "[CV 3/10; 10/16] END max_depth=50, max_features=sqrt, max_leaf_nodes=250, min_samples_split=16;, score=0.898 total time=   0.5s\n",
      "[CV 4/10; 10/16] START max_depth=50, max_features=sqrt, max_leaf_nodes=250, min_samples_split=16\n",
      "[CV 4/10; 10/16] END max_depth=50, max_features=sqrt, max_leaf_nodes=250, min_samples_split=16;, score=0.909 total time=   0.6s\n",
      "[CV 5/10; 10/16] START max_depth=50, max_features=sqrt, max_leaf_nodes=250, min_samples_split=16\n",
      "[CV 5/10; 10/16] END max_depth=50, max_features=sqrt, max_leaf_nodes=250, min_samples_split=16;, score=0.911 total time=   1.1s\n",
      "[CV 6/10; 10/16] START max_depth=50, max_features=sqrt, max_leaf_nodes=250, min_samples_split=16\n",
      "[CV 6/10; 10/16] END max_depth=50, max_features=sqrt, max_leaf_nodes=250, min_samples_split=16;, score=0.904 total time=   1.1s\n",
      "[CV 7/10; 10/16] START max_depth=50, max_features=sqrt, max_leaf_nodes=250, min_samples_split=16\n",
      "[CV 7/10; 10/16] END max_depth=50, max_features=sqrt, max_leaf_nodes=250, min_samples_split=16;, score=0.897 total time=   0.9s\n",
      "[CV 8/10; 10/16] START max_depth=50, max_features=sqrt, max_leaf_nodes=250, min_samples_split=16\n",
      "[CV 8/10; 10/16] END max_depth=50, max_features=sqrt, max_leaf_nodes=250, min_samples_split=16;, score=0.916 total time=   1.3s\n",
      "[CV 9/10; 10/16] START max_depth=50, max_features=sqrt, max_leaf_nodes=250, min_samples_split=16\n",
      "[CV 9/10; 10/16] END max_depth=50, max_features=sqrt, max_leaf_nodes=250, min_samples_split=16;, score=0.894 total time=   1.1s\n",
      "[CV 10/10; 10/16] START max_depth=50, max_features=sqrt, max_leaf_nodes=250, min_samples_split=16\n",
      "[CV 10/10; 10/16] END max_depth=50, max_features=sqrt, max_leaf_nodes=250, min_samples_split=16;, score=0.911 total time=   1.0s\n",
      "[CV 1/10; 11/16] START max_depth=50, max_features=sqrt, max_leaf_nodes=100, min_samples_split=4\n",
      "[CV 1/10; 11/16] END max_depth=50, max_features=sqrt, max_leaf_nodes=100, min_samples_split=4;, score=0.881 total time=   0.8s\n",
      "[CV 2/10; 11/16] START max_depth=50, max_features=sqrt, max_leaf_nodes=100, min_samples_split=4\n",
      "[CV 2/10; 11/16] END max_depth=50, max_features=sqrt, max_leaf_nodes=100, min_samples_split=4;, score=0.876 total time=   0.7s\n",
      "[CV 3/10; 11/16] START max_depth=50, max_features=sqrt, max_leaf_nodes=100, min_samples_split=4\n",
      "[CV 3/10; 11/16] END max_depth=50, max_features=sqrt, max_leaf_nodes=100, min_samples_split=4;, score=0.872 total time=   0.5s\n",
      "[CV 4/10; 11/16] START max_depth=50, max_features=sqrt, max_leaf_nodes=100, min_samples_split=4\n",
      "[CV 4/10; 11/16] END max_depth=50, max_features=sqrt, max_leaf_nodes=100, min_samples_split=4;, score=0.889 total time=   0.7s\n",
      "[CV 5/10; 11/16] START max_depth=50, max_features=sqrt, max_leaf_nodes=100, min_samples_split=4\n",
      "[CV 5/10; 11/16] END max_depth=50, max_features=sqrt, max_leaf_nodes=100, min_samples_split=4;, score=0.889 total time=   0.7s\n",
      "[CV 6/10; 11/16] START max_depth=50, max_features=sqrt, max_leaf_nodes=100, min_samples_split=4\n",
      "[CV 6/10; 11/16] END max_depth=50, max_features=sqrt, max_leaf_nodes=100, min_samples_split=4;, score=0.877 total time=   0.8s\n",
      "[CV 7/10; 11/16] START max_depth=50, max_features=sqrt, max_leaf_nodes=100, min_samples_split=4\n",
      "[CV 7/10; 11/16] END max_depth=50, max_features=sqrt, max_leaf_nodes=100, min_samples_split=4;, score=0.866 total time=   0.7s\n",
      "[CV 8/10; 11/16] START max_depth=50, max_features=sqrt, max_leaf_nodes=100, min_samples_split=4\n",
      "[CV 8/10; 11/16] END max_depth=50, max_features=sqrt, max_leaf_nodes=100, min_samples_split=4;, score=0.891 total time=   0.8s\n",
      "[CV 9/10; 11/16] START max_depth=50, max_features=sqrt, max_leaf_nodes=100, min_samples_split=4\n",
      "[CV 9/10; 11/16] END max_depth=50, max_features=sqrt, max_leaf_nodes=100, min_samples_split=4;, score=0.867 total time=   0.9s\n",
      "[CV 10/10; 11/16] START max_depth=50, max_features=sqrt, max_leaf_nodes=100, min_samples_split=4\n",
      "[CV 10/10; 11/16] END max_depth=50, max_features=sqrt, max_leaf_nodes=100, min_samples_split=4;, score=0.887 total time=   0.7s\n",
      "[CV 1/10; 12/16] START max_depth=50, max_features=sqrt, max_leaf_nodes=100, min_samples_split=16\n",
      "[CV 1/10; 12/16] END max_depth=50, max_features=sqrt, max_leaf_nodes=100, min_samples_split=16;, score=0.883 total time=   0.7s\n",
      "[CV 2/10; 12/16] START max_depth=50, max_features=sqrt, max_leaf_nodes=100, min_samples_split=16\n",
      "[CV 2/10; 12/16] END max_depth=50, max_features=sqrt, max_leaf_nodes=100, min_samples_split=16;, score=0.877 total time=   0.7s\n",
      "[CV 3/10; 12/16] START max_depth=50, max_features=sqrt, max_leaf_nodes=100, min_samples_split=16\n",
      "[CV 3/10; 12/16] END max_depth=50, max_features=sqrt, max_leaf_nodes=100, min_samples_split=16;, score=0.874 total time=   0.7s\n",
      "[CV 4/10; 12/16] START max_depth=50, max_features=sqrt, max_leaf_nodes=100, min_samples_split=16\n",
      "[CV 4/10; 12/16] END max_depth=50, max_features=sqrt, max_leaf_nodes=100, min_samples_split=16;, score=0.889 total time=   0.7s\n",
      "[CV 5/10; 12/16] START max_depth=50, max_features=sqrt, max_leaf_nodes=100, min_samples_split=16\n",
      "[CV 5/10; 12/16] END max_depth=50, max_features=sqrt, max_leaf_nodes=100, min_samples_split=16;, score=0.890 total time=   0.7s\n",
      "[CV 6/10; 12/16] START max_depth=50, max_features=sqrt, max_leaf_nodes=100, min_samples_split=16\n",
      "[CV 6/10; 12/16] END max_depth=50, max_features=sqrt, max_leaf_nodes=100, min_samples_split=16;, score=0.878 total time=   0.7s\n",
      "[CV 7/10; 12/16] START max_depth=50, max_features=sqrt, max_leaf_nodes=100, min_samples_split=16\n",
      "[CV 7/10; 12/16] END max_depth=50, max_features=sqrt, max_leaf_nodes=100, min_samples_split=16;, score=0.868 total time=   0.5s\n",
      "[CV 8/10; 12/16] START max_depth=50, max_features=sqrt, max_leaf_nodes=100, min_samples_split=16\n",
      "[CV 8/10; 12/16] END max_depth=50, max_features=sqrt, max_leaf_nodes=100, min_samples_split=16;, score=0.893 total time=   0.6s\n",
      "[CV 9/10; 12/16] START max_depth=50, max_features=sqrt, max_leaf_nodes=100, min_samples_split=16\n",
      "[CV 9/10; 12/16] END max_depth=50, max_features=sqrt, max_leaf_nodes=100, min_samples_split=16;, score=0.867 total time=   0.7s\n",
      "[CV 10/10; 12/16] START max_depth=50, max_features=sqrt, max_leaf_nodes=100, min_samples_split=16\n",
      "[CV 10/10; 12/16] END max_depth=50, max_features=sqrt, max_leaf_nodes=100, min_samples_split=16;, score=0.888 total time=   0.5s\n",
      "[CV 1/10; 13/16] START max_depth=50, max_features=log2, max_leaf_nodes=250, min_samples_split=4\n",
      "[CV 1/10; 13/16] END max_depth=50, max_features=log2, max_leaf_nodes=250, min_samples_split=4;, score=0.898 total time=   0.6s\n",
      "[CV 2/10; 13/16] START max_depth=50, max_features=log2, max_leaf_nodes=250, min_samples_split=4\n",
      "[CV 2/10; 13/16] END max_depth=50, max_features=log2, max_leaf_nodes=250, min_samples_split=4;, score=0.892 total time=   0.9s\n",
      "[CV 3/10; 13/16] START max_depth=50, max_features=log2, max_leaf_nodes=250, min_samples_split=4\n",
      "[CV 3/10; 13/16] END max_depth=50, max_features=log2, max_leaf_nodes=250, min_samples_split=4;, score=0.890 total time=   0.8s\n",
      "[CV 4/10; 13/16] START max_depth=50, max_features=log2, max_leaf_nodes=250, min_samples_split=4\n",
      "[CV 4/10; 13/16] END max_depth=50, max_features=log2, max_leaf_nodes=250, min_samples_split=4;, score=0.904 total time=   0.7s\n",
      "[CV 5/10; 13/16] START max_depth=50, max_features=log2, max_leaf_nodes=250, min_samples_split=4\n",
      "[CV 5/10; 13/16] END max_depth=50, max_features=log2, max_leaf_nodes=250, min_samples_split=4;, score=0.906 total time=   0.5s\n",
      "[CV 6/10; 13/16] START max_depth=50, max_features=log2, max_leaf_nodes=250, min_samples_split=4\n",
      "[CV 6/10; 13/16] END max_depth=50, max_features=log2, max_leaf_nodes=250, min_samples_split=4;, score=0.894 total time=   0.5s\n",
      "[CV 7/10; 13/16] START max_depth=50, max_features=log2, max_leaf_nodes=250, min_samples_split=4\n",
      "[CV 7/10; 13/16] END max_depth=50, max_features=log2, max_leaf_nodes=250, min_samples_split=4;, score=0.887 total time=   0.8s\n",
      "[CV 8/10; 13/16] START max_depth=50, max_features=log2, max_leaf_nodes=250, min_samples_split=4\n",
      "[CV 8/10; 13/16] END max_depth=50, max_features=log2, max_leaf_nodes=250, min_samples_split=4;, score=0.909 total time=   0.8s\n",
      "[CV 9/10; 13/16] START max_depth=50, max_features=log2, max_leaf_nodes=250, min_samples_split=4\n",
      "[CV 9/10; 13/16] END max_depth=50, max_features=log2, max_leaf_nodes=250, min_samples_split=4;, score=0.887 total time=   0.7s\n",
      "[CV 10/10; 13/16] START max_depth=50, max_features=log2, max_leaf_nodes=250, min_samples_split=4\n",
      "[CV 10/10; 13/16] END max_depth=50, max_features=log2, max_leaf_nodes=250, min_samples_split=4;, score=0.905 total time=   0.9s\n",
      "[CV 1/10; 14/16] START max_depth=50, max_features=log2, max_leaf_nodes=250, min_samples_split=16\n",
      "[CV 1/10; 14/16] END max_depth=50, max_features=log2, max_leaf_nodes=250, min_samples_split=16;, score=0.904 total time=   0.8s\n",
      "[CV 2/10; 14/16] START max_depth=50, max_features=log2, max_leaf_nodes=250, min_samples_split=16\n",
      "[CV 2/10; 14/16] END max_depth=50, max_features=log2, max_leaf_nodes=250, min_samples_split=16;, score=0.896 total time=   0.7s\n",
      "[CV 3/10; 14/16] START max_depth=50, max_features=log2, max_leaf_nodes=250, min_samples_split=16\n",
      "[CV 3/10; 14/16] END max_depth=50, max_features=log2, max_leaf_nodes=250, min_samples_split=16;, score=0.895 total time=   0.9s\n",
      "[CV 4/10; 14/16] START max_depth=50, max_features=log2, max_leaf_nodes=250, min_samples_split=16\n",
      "[CV 4/10; 14/16] END max_depth=50, max_features=log2, max_leaf_nodes=250, min_samples_split=16;, score=0.906 total time=   0.8s\n",
      "[CV 5/10; 14/16] START max_depth=50, max_features=log2, max_leaf_nodes=250, min_samples_split=16\n",
      "[CV 5/10; 14/16] END max_depth=50, max_features=log2, max_leaf_nodes=250, min_samples_split=16;, score=0.906 total time=   0.7s\n",
      "[CV 6/10; 14/16] START max_depth=50, max_features=log2, max_leaf_nodes=250, min_samples_split=16\n",
      "[CV 6/10; 14/16] END max_depth=50, max_features=log2, max_leaf_nodes=250, min_samples_split=16;, score=0.901 total time=   0.7s\n",
      "[CV 7/10; 14/16] START max_depth=50, max_features=log2, max_leaf_nodes=250, min_samples_split=16\n",
      "[CV 7/10; 14/16] END max_depth=50, max_features=log2, max_leaf_nodes=250, min_samples_split=16;, score=0.891 total time=   0.8s\n",
      "[CV 8/10; 14/16] START max_depth=50, max_features=log2, max_leaf_nodes=250, min_samples_split=16\n",
      "[CV 8/10; 14/16] END max_depth=50, max_features=log2, max_leaf_nodes=250, min_samples_split=16;, score=0.911 total time=   0.7s\n",
      "[CV 9/10; 14/16] START max_depth=50, max_features=log2, max_leaf_nodes=250, min_samples_split=16\n",
      "[CV 9/10; 14/16] END max_depth=50, max_features=log2, max_leaf_nodes=250, min_samples_split=16;, score=0.890 total time=   0.7s\n",
      "[CV 10/10; 14/16] START max_depth=50, max_features=log2, max_leaf_nodes=250, min_samples_split=16\n",
      "[CV 10/10; 14/16] END max_depth=50, max_features=log2, max_leaf_nodes=250, min_samples_split=16;, score=0.908 total time=   0.6s\n",
      "[CV 1/10; 15/16] START max_depth=50, max_features=log2, max_leaf_nodes=100, min_samples_split=4\n",
      "[CV 1/10; 15/16] END max_depth=50, max_features=log2, max_leaf_nodes=100, min_samples_split=4;, score=0.868 total time=   0.5s\n",
      "[CV 2/10; 15/16] START max_depth=50, max_features=log2, max_leaf_nodes=100, min_samples_split=4\n",
      "[CV 2/10; 15/16] END max_depth=50, max_features=log2, max_leaf_nodes=100, min_samples_split=4;, score=0.863 total time=   0.5s\n",
      "[CV 3/10; 15/16] START max_depth=50, max_features=log2, max_leaf_nodes=100, min_samples_split=4\n",
      "[CV 3/10; 15/16] END max_depth=50, max_features=log2, max_leaf_nodes=100, min_samples_split=4;, score=0.860 total time=   0.6s\n",
      "[CV 4/10; 15/16] START max_depth=50, max_features=log2, max_leaf_nodes=100, min_samples_split=4\n",
      "[CV 4/10; 15/16] END max_depth=50, max_features=log2, max_leaf_nodes=100, min_samples_split=4;, score=0.880 total time=   0.4s\n",
      "[CV 5/10; 15/16] START max_depth=50, max_features=log2, max_leaf_nodes=100, min_samples_split=4\n",
      "[CV 5/10; 15/16] END max_depth=50, max_features=log2, max_leaf_nodes=100, min_samples_split=4;, score=0.881 total time=   0.4s\n",
      "[CV 6/10; 15/16] START max_depth=50, max_features=log2, max_leaf_nodes=100, min_samples_split=4\n",
      "[CV 6/10; 15/16] END max_depth=50, max_features=log2, max_leaf_nodes=100, min_samples_split=4;, score=0.866 total time=   0.4s\n",
      "[CV 7/10; 15/16] START max_depth=50, max_features=log2, max_leaf_nodes=100, min_samples_split=4\n",
      "[CV 7/10; 15/16] END max_depth=50, max_features=log2, max_leaf_nodes=100, min_samples_split=4;, score=0.854 total time=   0.5s\n",
      "[CV 8/10; 15/16] START max_depth=50, max_features=log2, max_leaf_nodes=100, min_samples_split=4\n",
      "[CV 8/10; 15/16] END max_depth=50, max_features=log2, max_leaf_nodes=100, min_samples_split=4;, score=0.883 total time=   0.6s\n",
      "[CV 9/10; 15/16] START max_depth=50, max_features=log2, max_leaf_nodes=100, min_samples_split=4\n",
      "[CV 9/10; 15/16] END max_depth=50, max_features=log2, max_leaf_nodes=100, min_samples_split=4;, score=0.857 total time=   0.4s\n",
      "[CV 10/10; 15/16] START max_depth=50, max_features=log2, max_leaf_nodes=100, min_samples_split=4\n",
      "[CV 10/10; 15/16] END max_depth=50, max_features=log2, max_leaf_nodes=100, min_samples_split=4;, score=0.879 total time=   0.5s\n",
      "[CV 1/10; 16/16] START max_depth=50, max_features=log2, max_leaf_nodes=100, min_samples_split=16\n",
      "[CV 1/10; 16/16] END max_depth=50, max_features=log2, max_leaf_nodes=100, min_samples_split=16;, score=0.876 total time=   0.5s\n",
      "[CV 2/10; 16/16] START max_depth=50, max_features=log2, max_leaf_nodes=100, min_samples_split=16\n",
      "[CV 2/10; 16/16] END max_depth=50, max_features=log2, max_leaf_nodes=100, min_samples_split=16;, score=0.864 total time=   0.6s\n",
      "[CV 3/10; 16/16] START max_depth=50, max_features=log2, max_leaf_nodes=100, min_samples_split=16\n",
      "[CV 3/10; 16/16] END max_depth=50, max_features=log2, max_leaf_nodes=100, min_samples_split=16;, score=0.867 total time=   0.5s\n",
      "[CV 4/10; 16/16] START max_depth=50, max_features=log2, max_leaf_nodes=100, min_samples_split=16\n",
      "[CV 4/10; 16/16] END max_depth=50, max_features=log2, max_leaf_nodes=100, min_samples_split=16;, score=0.880 total time=   0.5s\n",
      "[CV 5/10; 16/16] START max_depth=50, max_features=log2, max_leaf_nodes=100, min_samples_split=16\n",
      "[CV 5/10; 16/16] END max_depth=50, max_features=log2, max_leaf_nodes=100, min_samples_split=16;, score=0.881 total time=   0.4s\n",
      "[CV 6/10; 16/16] START max_depth=50, max_features=log2, max_leaf_nodes=100, min_samples_split=16\n",
      "[CV 6/10; 16/16] END max_depth=50, max_features=log2, max_leaf_nodes=100, min_samples_split=16;, score=0.873 total time=   0.7s\n",
      "[CV 7/10; 16/16] START max_depth=50, max_features=log2, max_leaf_nodes=100, min_samples_split=16\n",
      "[CV 7/10; 16/16] END max_depth=50, max_features=log2, max_leaf_nodes=100, min_samples_split=16;, score=0.856 total time=   0.9s\n",
      "[CV 8/10; 16/16] START max_depth=50, max_features=log2, max_leaf_nodes=100, min_samples_split=16\n",
      "[CV 8/10; 16/16] END max_depth=50, max_features=log2, max_leaf_nodes=100, min_samples_split=16;, score=0.883 total time=   0.7s\n",
      "[CV 9/10; 16/16] START max_depth=50, max_features=log2, max_leaf_nodes=100, min_samples_split=16\n",
      "[CV 9/10; 16/16] END max_depth=50, max_features=log2, max_leaf_nodes=100, min_samples_split=16;, score=0.859 total time=   0.9s\n",
      "[CV 10/10; 16/16] START max_depth=50, max_features=log2, max_leaf_nodes=100, min_samples_split=16\n",
      "[CV 10/10; 16/16] END max_depth=50, max_features=log2, max_leaf_nodes=100, min_samples_split=16;, score=0.883 total time=   0.7s\n",
      "\n",
      "\n",
      "Time taken to find the best combination of hyperparameters among the given ones:  98.3092 seconds\n",
      "\n",
      "\n",
      "The best combination of hyperparameters has been: {'max_depth': 50, 'max_features': 'sqrt', 'max_leaf_nodes': 250, 'min_samples_split': 16}\n",
      "The R2 is:  0.9055\n",
      "The R2 confidence interval for the best combination of hyperparameters is:     ( 0.9005,  0.9055,  0.9104) \n",
      "\n",
      "\n",
      "Test MAE:  0.0412\n",
      "Test MSE:  0.0031\n",
      "Test RMSE:  0.0555\n",
      "Test R2 score:   0.9162\n",
      "\n",
      "\n"
     ]
    }
   ],
   "source": [
    "# First we need to setup a dicstionary with all the values that we want to try for each hyperparameter\n",
    "\n",
    "parameter_grid = {\"max_depth\": [10, 50],\n",
    "                  \"min_samples_split\": [4, 16],\n",
    "                  \"max_leaf_nodes\": [250, 100],\n",
    "                  \"max_features\": [\"sqrt\", \"log2\"]} # In example we're going to test 2 * 2 * 2 * 2 = 16 combinations of hyperparameters\n",
    "\n",
    "# We create an instance or our machine learning model\n",
    "ddt = RandomForestRegressor(random_state=123)\n",
    "\n",
    "# We need to set this two variables to be able to compute a confidence interval\n",
    "confidence_level = 0.95\n",
    "folds = 10\n",
    "\n",
    "# Now we need to create an intance of the GridSearchCV class\n",
    "gs = GridSearchCV(dt, param_grid=parameter_grid, cv=folds, verbose=10) # Here the \"cv\" allows you to define the number of folds to use.\n",
    "\n",
    "start_time = time.time()\n",
    "gs.fit(X_train_scaled, y_train)\n",
    "end_time = time.time()\n",
    "\n",
    "print(\"\\n\")\n",
    "print(f\"Time taken to find the best combination of hyperparameters among the given ones: {end_time - start_time: .4f} seconds\")\n",
    "print(\"\\n\")\n",
    "\n",
    "\n",
    "print(f\"The best combination of hyperparameters has been: {gs.best_params_}\")\n",
    "print(f\"The R2 is: {gs.best_score_: .4f}\")\n",
    "\n",
    "results_gs_df = pd.DataFrame(gs.cv_results_).sort_values(by=\"mean_test_score\", ascending=False)\n",
    "\n",
    "\n",
    "gs_mean_score = results_gs_df.iloc[0,-3]\n",
    "gs_sem = results_gs_df.iloc[0,-2] / np.sqrt(10)\n",
    "\n",
    "gs_tc = st.t.ppf(1-((1-confidence_level)/2), df=folds-1)\n",
    "gs_lower_bound = gs_mean_score - ( gs_tc * gs_sem )\n",
    "gs_upper_bound = gs_mean_score + ( gs_tc * gs_sem )\n",
    "\n",
    "print(f\"The R2 confidence interval for the best combination of hyperparameters is: \\\n",
    "    ({gs_lower_bound: .4f}, {gs_mean_score: .4f}, {gs_upper_bound: .4f}) \")\n",
    "\n",
    "# Let's store the best model\n",
    "best_model = gs.best_estimator_\n",
    "\n",
    "# Now is time evaluate the model in the test set\n",
    "y_pred_test_df = best_model.predict(X_test_scaled)\n",
    "y_pred_test_df = best_model.predict(X_test_scaled)\n",
    "\n",
    "y_pred_test_df = best_model.predict(X_test_scaled)\n",
    "\n",
    "print(\"\\n\")\n",
    "print(f\"Test MAE: {mean_absolute_error(y_pred_test_df, y_test): .4f}\")\n",
    "print(f\"Test MSE: {mean_squared_error(y_pred_test_df, y_test): .4f}\")\n",
    "print(f\"Test RMSE: {root_mean_squared_error(y_pred_test_df, y_test): .4f}\")\n",
    "print(f\"Test R2 score:  {best_model.score(X_test_scaled, y_test): .4f}\")\n",
    "print(\"\\n\")\n",
    "\n"
   ]
  },
  {
   "cell_type": "markdown",
   "id": "92fbf072-8752-490f-9b2b-8b61cccc3538",
   "metadata": {},
   "source": [
    "### Random Search\n",
    "We define probability distributions for each hyperparameter, from which random values are sampled. It’s up to the researcher to set the maximum number of combinations."
   ]
  },
  {
   "cell_type": "code",
   "execution_count": 23,
   "id": "e3194b7b-8b91-42d2-9e89-9ea26ac4dfaa",
   "metadata": {},
   "outputs": [
    {
     "name": "stderr",
     "output_type": "stream",
     "text": [
      "/opt/anaconda3/lib/python3.13/site-packages/sklearn/model_selection/_search.py:317: UserWarning: The total space of parameters 9 is smaller than n_iter=16. Running 9 iterations. For exhaustive searches, use GridSearchCV.\n",
      "  warnings.warn(\n"
     ]
    },
    {
     "name": "stdout",
     "output_type": "stream",
     "text": [
      "Fitting 10 folds for each of 9 candidates, totalling 90 fits\n",
      "[CV 1/10; 1/9] START max_depth=1, max_leaf_nodes=5..............................\n",
      "[CV 1/10; 1/9] END max_depth=1, max_leaf_nodes=5;, score=0.362 total time=   0.7s\n",
      "[CV 2/10; 1/9] START max_depth=1, max_leaf_nodes=5..............................\n",
      "[CV 2/10; 1/9] END max_depth=1, max_leaf_nodes=5;, score=0.408 total time=   0.5s\n",
      "[CV 3/10; 1/9] START max_depth=1, max_leaf_nodes=5..............................\n",
      "[CV 3/10; 1/9] END max_depth=1, max_leaf_nodes=5;, score=0.366 total time=   0.4s\n",
      "[CV 4/10; 1/9] START max_depth=1, max_leaf_nodes=5..............................\n",
      "[CV 4/10; 1/9] END max_depth=1, max_leaf_nodes=5;, score=0.356 total time=   0.5s\n",
      "[CV 5/10; 1/9] START max_depth=1, max_leaf_nodes=5..............................\n",
      "[CV 5/10; 1/9] END max_depth=1, max_leaf_nodes=5;, score=0.363 total time=   0.5s\n",
      "[CV 6/10; 1/9] START max_depth=1, max_leaf_nodes=5..............................\n",
      "[CV 6/10; 1/9] END max_depth=1, max_leaf_nodes=5;, score=0.346 total time=   0.4s\n",
      "[CV 7/10; 1/9] START max_depth=1, max_leaf_nodes=5..............................\n",
      "[CV 7/10; 1/9] END max_depth=1, max_leaf_nodes=5;, score=0.411 total time=   0.4s\n",
      "[CV 8/10; 1/9] START max_depth=1, max_leaf_nodes=5..............................\n",
      "[CV 8/10; 1/9] END max_depth=1, max_leaf_nodes=5;, score=0.377 total time=   0.3s\n",
      "[CV 9/10; 1/9] START max_depth=1, max_leaf_nodes=5..............................\n",
      "[CV 9/10; 1/9] END max_depth=1, max_leaf_nodes=5;, score=0.355 total time=   0.3s\n",
      "[CV 10/10; 1/9] START max_depth=1, max_leaf_nodes=5.............................\n",
      "[CV 10/10; 1/9] END max_depth=1, max_leaf_nodes=5;, score=0.381 total time=   0.6s\n",
      "[CV 1/10; 2/9] START max_depth=1, max_leaf_nodes=17.............................\n",
      "[CV 1/10; 2/9] END max_depth=1, max_leaf_nodes=17;, score=0.362 total time=   0.5s\n",
      "[CV 2/10; 2/9] START max_depth=1, max_leaf_nodes=17.............................\n",
      "[CV 2/10; 2/9] END max_depth=1, max_leaf_nodes=17;, score=0.408 total time=   0.4s\n",
      "[CV 3/10; 2/9] START max_depth=1, max_leaf_nodes=17.............................\n",
      "[CV 3/10; 2/9] END max_depth=1, max_leaf_nodes=17;, score=0.366 total time=   0.3s\n",
      "[CV 4/10; 2/9] START max_depth=1, max_leaf_nodes=17.............................\n",
      "[CV 4/10; 2/9] END max_depth=1, max_leaf_nodes=17;, score=0.356 total time=   0.3s\n",
      "[CV 5/10; 2/9] START max_depth=1, max_leaf_nodes=17.............................\n",
      "[CV 5/10; 2/9] END max_depth=1, max_leaf_nodes=17;, score=0.363 total time=   0.4s\n",
      "[CV 6/10; 2/9] START max_depth=1, max_leaf_nodes=17.............................\n",
      "[CV 6/10; 2/9] END max_depth=1, max_leaf_nodes=17;, score=0.346 total time=   0.7s\n",
      "[CV 7/10; 2/9] START max_depth=1, max_leaf_nodes=17.............................\n",
      "[CV 7/10; 2/9] END max_depth=1, max_leaf_nodes=17;, score=0.411 total time=   0.4s\n",
      "[CV 8/10; 2/9] START max_depth=1, max_leaf_nodes=17.............................\n",
      "[CV 8/10; 2/9] END max_depth=1, max_leaf_nodes=17;, score=0.377 total time=   0.3s\n",
      "[CV 9/10; 2/9] START max_depth=1, max_leaf_nodes=17.............................\n",
      "[CV 9/10; 2/9] END max_depth=1, max_leaf_nodes=17;, score=0.355 total time=   0.3s\n",
      "[CV 10/10; 2/9] START max_depth=1, max_leaf_nodes=17............................\n",
      "[CV 10/10; 2/9] END max_depth=1, max_leaf_nodes=17;, score=0.381 total time=   0.3s\n",
      "[CV 1/10; 3/9] START max_depth=1, max_leaf_nodes=30.............................\n",
      "[CV 1/10; 3/9] END max_depth=1, max_leaf_nodes=30;, score=0.362 total time=   0.3s\n",
      "[CV 2/10; 3/9] START max_depth=1, max_leaf_nodes=30.............................\n",
      "[CV 2/10; 3/9] END max_depth=1, max_leaf_nodes=30;, score=0.408 total time=   0.4s\n",
      "[CV 3/10; 3/9] START max_depth=1, max_leaf_nodes=30.............................\n",
      "[CV 3/10; 3/9] END max_depth=1, max_leaf_nodes=30;, score=0.366 total time=   0.4s\n",
      "[CV 4/10; 3/9] START max_depth=1, max_leaf_nodes=30.............................\n",
      "[CV 4/10; 3/9] END max_depth=1, max_leaf_nodes=30;, score=0.356 total time=   0.6s\n",
      "[CV 5/10; 3/9] START max_depth=1, max_leaf_nodes=30.............................\n",
      "[CV 5/10; 3/9] END max_depth=1, max_leaf_nodes=30;, score=0.363 total time=   0.3s\n",
      "[CV 6/10; 3/9] START max_depth=1, max_leaf_nodes=30.............................\n",
      "[CV 6/10; 3/9] END max_depth=1, max_leaf_nodes=30;, score=0.346 total time=   0.4s\n",
      "[CV 7/10; 3/9] START max_depth=1, max_leaf_nodes=30.............................\n",
      "[CV 7/10; 3/9] END max_depth=1, max_leaf_nodes=30;, score=0.411 total time=   0.3s\n",
      "[CV 8/10; 3/9] START max_depth=1, max_leaf_nodes=30.............................\n",
      "[CV 8/10; 3/9] END max_depth=1, max_leaf_nodes=30;, score=0.377 total time=   0.6s\n",
      "[CV 9/10; 3/9] START max_depth=1, max_leaf_nodes=30.............................\n",
      "[CV 9/10; 3/9] END max_depth=1, max_leaf_nodes=30;, score=0.355 total time=   0.8s\n",
      "[CV 10/10; 3/9] START max_depth=1, max_leaf_nodes=30............................\n",
      "[CV 10/10; 3/9] END max_depth=1, max_leaf_nodes=30;, score=0.381 total time=   0.7s\n",
      "[CV 1/10; 4/9] START max_depth=6, max_leaf_nodes=5..............................\n",
      "[CV 1/10; 4/9] END max_depth=6, max_leaf_nodes=5;, score=0.714 total time=   0.7s\n",
      "[CV 2/10; 4/9] START max_depth=6, max_leaf_nodes=5..............................\n",
      "[CV 2/10; 4/9] END max_depth=6, max_leaf_nodes=5;, score=0.723 total time=   0.7s\n",
      "[CV 3/10; 4/9] START max_depth=6, max_leaf_nodes=5..............................\n",
      "[CV 3/10; 4/9] END max_depth=6, max_leaf_nodes=5;, score=0.689 total time=   0.7s\n",
      "[CV 4/10; 4/9] START max_depth=6, max_leaf_nodes=5..............................\n",
      "[CV 4/10; 4/9] END max_depth=6, max_leaf_nodes=5;, score=0.722 total time=   0.8s\n",
      "[CV 5/10; 4/9] START max_depth=6, max_leaf_nodes=5..............................\n",
      "[CV 5/10; 4/9] END max_depth=6, max_leaf_nodes=5;, score=0.726 total time=   0.8s\n",
      "[CV 6/10; 4/9] START max_depth=6, max_leaf_nodes=5..............................\n",
      "[CV 6/10; 4/9] END max_depth=6, max_leaf_nodes=5;, score=0.655 total time=   0.9s\n",
      "[CV 7/10; 4/9] START max_depth=6, max_leaf_nodes=5..............................\n",
      "[CV 7/10; 4/9] END max_depth=6, max_leaf_nodes=5;, score=0.709 total time=   1.2s\n",
      "[CV 8/10; 4/9] START max_depth=6, max_leaf_nodes=5..............................\n",
      "[CV 8/10; 4/9] END max_depth=6, max_leaf_nodes=5;, score=0.709 total time=   0.7s\n",
      "[CV 9/10; 4/9] START max_depth=6, max_leaf_nodes=5..............................\n",
      "[CV 9/10; 4/9] END max_depth=6, max_leaf_nodes=5;, score=0.697 total time=   0.7s\n",
      "[CV 10/10; 4/9] START max_depth=6, max_leaf_nodes=5.............................\n",
      "[CV 10/10; 4/9] END max_depth=6, max_leaf_nodes=5;, score=0.731 total time=   0.9s\n",
      "[CV 1/10; 5/9] START max_depth=6, max_leaf_nodes=17.............................\n",
      "[CV 1/10; 5/9] END max_depth=6, max_leaf_nodes=17;, score=0.846 total time=   1.1s\n",
      "[CV 2/10; 5/9] START max_depth=6, max_leaf_nodes=17.............................\n",
      "[CV 2/10; 5/9] END max_depth=6, max_leaf_nodes=17;, score=0.843 total time=   0.9s\n",
      "[CV 3/10; 5/9] START max_depth=6, max_leaf_nodes=17.............................\n",
      "[CV 3/10; 5/9] END max_depth=6, max_leaf_nodes=17;, score=0.836 total time=   0.9s\n",
      "[CV 4/10; 5/9] START max_depth=6, max_leaf_nodes=17.............................\n",
      "[CV 4/10; 5/9] END max_depth=6, max_leaf_nodes=17;, score=0.848 total time=   0.9s\n",
      "[CV 5/10; 5/9] START max_depth=6, max_leaf_nodes=17.............................\n",
      "[CV 5/10; 5/9] END max_depth=6, max_leaf_nodes=17;, score=0.858 total time=   0.9s\n",
      "[CV 6/10; 5/9] START max_depth=6, max_leaf_nodes=17.............................\n",
      "[CV 6/10; 5/9] END max_depth=6, max_leaf_nodes=17;, score=0.811 total time=   1.6s\n",
      "[CV 7/10; 5/9] START max_depth=6, max_leaf_nodes=17.............................\n",
      "[CV 7/10; 5/9] END max_depth=6, max_leaf_nodes=17;, score=0.828 total time=   1.2s\n",
      "[CV 8/10; 5/9] START max_depth=6, max_leaf_nodes=17.............................\n",
      "[CV 8/10; 5/9] END max_depth=6, max_leaf_nodes=17;, score=0.840 total time=   1.2s\n",
      "[CV 9/10; 5/9] START max_depth=6, max_leaf_nodes=17.............................\n",
      "[CV 9/10; 5/9] END max_depth=6, max_leaf_nodes=17;, score=0.824 total time=   1.0s\n",
      "[CV 10/10; 5/9] START max_depth=6, max_leaf_nodes=17............................\n",
      "[CV 10/10; 5/9] END max_depth=6, max_leaf_nodes=17;, score=0.842 total time=   0.9s\n",
      "[CV 1/10; 6/9] START max_depth=6, max_leaf_nodes=30.............................\n",
      "[CV 1/10; 6/9] END max_depth=6, max_leaf_nodes=30;, score=0.872 total time=   0.9s\n",
      "[CV 2/10; 6/9] START max_depth=6, max_leaf_nodes=30.............................\n",
      "[CV 2/10; 6/9] END max_depth=6, max_leaf_nodes=30;, score=0.871 total time=   1.0s\n",
      "[CV 3/10; 6/9] START max_depth=6, max_leaf_nodes=30.............................\n",
      "[CV 3/10; 6/9] END max_depth=6, max_leaf_nodes=30;, score=0.864 total time=   1.0s\n",
      "[CV 4/10; 6/9] START max_depth=6, max_leaf_nodes=30.............................\n",
      "[CV 4/10; 6/9] END max_depth=6, max_leaf_nodes=30;, score=0.873 total time=   1.0s\n",
      "[CV 5/10; 6/9] START max_depth=6, max_leaf_nodes=30.............................\n",
      "[CV 5/10; 6/9] END max_depth=6, max_leaf_nodes=30;, score=0.884 total time=   1.0s\n",
      "[CV 6/10; 6/9] START max_depth=6, max_leaf_nodes=30.............................\n",
      "[CV 6/10; 6/9] END max_depth=6, max_leaf_nodes=30;, score=0.840 total time=   1.0s\n",
      "[CV 7/10; 6/9] START max_depth=6, max_leaf_nodes=30.............................\n",
      "[CV 7/10; 6/9] END max_depth=6, max_leaf_nodes=30;, score=0.856 total time=   1.1s\n",
      "[CV 8/10; 6/9] START max_depth=6, max_leaf_nodes=30.............................\n",
      "[CV 8/10; 6/9] END max_depth=6, max_leaf_nodes=30;, score=0.875 total time=   1.0s\n",
      "[CV 9/10; 6/9] START max_depth=6, max_leaf_nodes=30.............................\n",
      "[CV 9/10; 6/9] END max_depth=6, max_leaf_nodes=30;, score=0.862 total time=   1.0s\n",
      "[CV 10/10; 6/9] START max_depth=6, max_leaf_nodes=30............................\n",
      "[CV 10/10; 6/9] END max_depth=6, max_leaf_nodes=30;, score=0.870 total time=   1.0s\n",
      "[CV 1/10; 7/9] START max_depth=11, max_leaf_nodes=5.............................\n",
      "[CV 1/10; 7/9] END max_depth=11, max_leaf_nodes=5;, score=0.714 total time=   0.7s\n",
      "[CV 2/10; 7/9] START max_depth=11, max_leaf_nodes=5.............................\n",
      "[CV 2/10; 7/9] END max_depth=11, max_leaf_nodes=5;, score=0.723 total time=   0.7s\n",
      "[CV 3/10; 7/9] START max_depth=11, max_leaf_nodes=5.............................\n",
      "[CV 3/10; 7/9] END max_depth=11, max_leaf_nodes=5;, score=0.689 total time=   0.7s\n",
      "[CV 4/10; 7/9] START max_depth=11, max_leaf_nodes=5.............................\n",
      "[CV 4/10; 7/9] END max_depth=11, max_leaf_nodes=5;, score=0.722 total time=   0.7s\n",
      "[CV 5/10; 7/9] START max_depth=11, max_leaf_nodes=5.............................\n",
      "[CV 5/10; 7/9] END max_depth=11, max_leaf_nodes=5;, score=0.726 total time=   0.6s\n",
      "[CV 6/10; 7/9] START max_depth=11, max_leaf_nodes=5.............................\n",
      "[CV 6/10; 7/9] END max_depth=11, max_leaf_nodes=5;, score=0.655 total time=   0.7s\n",
      "[CV 7/10; 7/9] START max_depth=11, max_leaf_nodes=5.............................\n",
      "[CV 7/10; 7/9] END max_depth=11, max_leaf_nodes=5;, score=0.709 total time=   0.7s\n",
      "[CV 8/10; 7/9] START max_depth=11, max_leaf_nodes=5.............................\n",
      "[CV 8/10; 7/9] END max_depth=11, max_leaf_nodes=5;, score=0.709 total time=   0.7s\n",
      "[CV 9/10; 7/9] START max_depth=11, max_leaf_nodes=5.............................\n",
      "[CV 9/10; 7/9] END max_depth=11, max_leaf_nodes=5;, score=0.697 total time=   0.9s\n",
      "[CV 10/10; 7/9] START max_depth=11, max_leaf_nodes=5............................\n",
      "[CV 10/10; 7/9] END max_depth=11, max_leaf_nodes=5;, score=0.731 total time=   1.6s\n",
      "[CV 1/10; 8/9] START max_depth=11, max_leaf_nodes=17............................\n",
      "[CV 1/10; 8/9] END max_depth=11, max_leaf_nodes=17;, score=0.846 total time=   1.5s\n",
      "[CV 2/10; 8/9] START max_depth=11, max_leaf_nodes=17............................\n",
      "[CV 2/10; 8/9] END max_depth=11, max_leaf_nodes=17;, score=0.843 total time=   2.0s\n",
      "[CV 3/10; 8/9] START max_depth=11, max_leaf_nodes=17............................\n",
      "[CV 3/10; 8/9] END max_depth=11, max_leaf_nodes=17;, score=0.836 total time=   1.8s\n",
      "[CV 4/10; 8/9] START max_depth=11, max_leaf_nodes=17............................\n",
      "[CV 4/10; 8/9] END max_depth=11, max_leaf_nodes=17;, score=0.848 total time=   1.0s\n",
      "[CV 5/10; 8/9] START max_depth=11, max_leaf_nodes=17............................\n",
      "[CV 5/10; 8/9] END max_depth=11, max_leaf_nodes=17;, score=0.858 total time=   0.9s\n",
      "[CV 6/10; 8/9] START max_depth=11, max_leaf_nodes=17............................\n",
      "[CV 6/10; 8/9] END max_depth=11, max_leaf_nodes=17;, score=0.811 total time=   0.9s\n",
      "[CV 7/10; 8/9] START max_depth=11, max_leaf_nodes=17............................\n",
      "[CV 7/10; 8/9] END max_depth=11, max_leaf_nodes=17;, score=0.828 total time=   1.0s\n",
      "[CV 8/10; 8/9] START max_depth=11, max_leaf_nodes=17............................\n",
      "[CV 8/10; 8/9] END max_depth=11, max_leaf_nodes=17;, score=0.840 total time=   1.5s\n",
      "[CV 9/10; 8/9] START max_depth=11, max_leaf_nodes=17............................\n",
      "[CV 9/10; 8/9] END max_depth=11, max_leaf_nodes=17;, score=0.824 total time=   1.1s\n",
      "[CV 10/10; 8/9] START max_depth=11, max_leaf_nodes=17...........................\n",
      "[CV 10/10; 8/9] END max_depth=11, max_leaf_nodes=17;, score=0.842 total time=   3.2s\n",
      "[CV 1/10; 9/9] START max_depth=11, max_leaf_nodes=30............................\n",
      "[CV 1/10; 9/9] END max_depth=11, max_leaf_nodes=30;, score=0.873 total time=   1.3s\n",
      "[CV 2/10; 9/9] START max_depth=11, max_leaf_nodes=30............................\n",
      "[CV 2/10; 9/9] END max_depth=11, max_leaf_nodes=30;, score=0.871 total time=   1.2s\n",
      "[CV 3/10; 9/9] START max_depth=11, max_leaf_nodes=30............................\n",
      "[CV 3/10; 9/9] END max_depth=11, max_leaf_nodes=30;, score=0.864 total time=   1.5s\n",
      "[CV 4/10; 9/9] START max_depth=11, max_leaf_nodes=30............................\n",
      "[CV 4/10; 9/9] END max_depth=11, max_leaf_nodes=30;, score=0.873 total time=   1.1s\n",
      "[CV 5/10; 9/9] START max_depth=11, max_leaf_nodes=30............................\n",
      "[CV 5/10; 9/9] END max_depth=11, max_leaf_nodes=30;, score=0.885 total time=   1.2s\n",
      "[CV 6/10; 9/9] START max_depth=11, max_leaf_nodes=30............................\n",
      "[CV 6/10; 9/9] END max_depth=11, max_leaf_nodes=30;, score=0.839 total time=   1.0s\n",
      "[CV 7/10; 9/9] START max_depth=11, max_leaf_nodes=30............................\n",
      "[CV 7/10; 9/9] END max_depth=11, max_leaf_nodes=30;, score=0.855 total time=   1.1s\n",
      "[CV 8/10; 9/9] START max_depth=11, max_leaf_nodes=30............................\n",
      "[CV 8/10; 9/9] END max_depth=11, max_leaf_nodes=30;, score=0.876 total time=   1.0s\n",
      "[CV 9/10; 9/9] START max_depth=11, max_leaf_nodes=30............................\n",
      "[CV 9/10; 9/9] END max_depth=11, max_leaf_nodes=30;, score=0.863 total time=   1.3s\n",
      "[CV 10/10; 9/9] START max_depth=11, max_leaf_nodes=30...........................\n",
      "[CV 10/10; 9/9] END max_depth=11, max_leaf_nodes=30;, score=0.870 total time=   1.5s\n",
      "\n",
      "\n",
      "Time taken to find the best combination of hyperparameters among the given ones:  79.9290 seconds\n",
      "\n",
      "\n",
      "The best combination of hyperparameters has been: {'max_leaf_nodes': 30, 'max_depth': 11}\n",
      "The R2 is:  0.8669\n",
      "The R2 confidence interval for the best combination of hyperparameters is:     ( 0.8619,  0.8669,  0.8718) \n",
      "\n",
      "\n",
      "Test MAE:  0.0498\n",
      "Test MSE:  0.0042\n",
      "Test RMSE:  0.0651\n",
      "Test R2 score:   0.8845\n",
      "\n",
      "\n"
     ]
    }
   ],
   "source": [
    "parameter_grid = {\"max_leaf_nodes\": [int(x) for x in np.linspace(start = 5, stop = 30, num = 3)],\n",
    "        \"max_depth\":[int(x) for x in np.linspace(1, 11, num = 3)]}\n",
    "\n",
    "dt = RandomForestRegressor(random_state=123)\n",
    "\n",
    "# n_iter specifies how many randomly selected combinations of hyperparameters will be tested.\n",
    "rs = RandomizedSearchCV(dt, param_distributions = parameter_grid, n_iter = 16, cv = folds, verbose=10, random_state=123)\n",
    "\n",
    "start_time = time.time()\n",
    "rs.fit(X_train_scaled, y_train)\n",
    "end_time = time.time()\n",
    "\n",
    "print(\"\\n\")\n",
    "print(f\"Time taken to find the best combination of hyperparameters among the given ones: {end_time - start_time: .4f} seconds\")\n",
    "print(\"\\n\")\n",
    "\n",
    "\n",
    "print(f\"The best combination of hyperparameters has been: {rs.best_params_}\")\n",
    "print(f\"The R2 is: {rs.best_score_: .4f}\")\n",
    "\n",
    "results_rs_df = pd.DataFrame(rs.cv_results_).sort_values(by=\"mean_test_score\", ascending=False)\n",
    "\n",
    "#print(results_df.head())\n",
    "rs_mean_score = results_rs_df.iloc[0,-3]\n",
    "rs_sem = results_rs_df.iloc[0,-2] / np.sqrt(10)\n",
    "\n",
    "rs_tc = st.t.ppf(1-((1-confidence_level)/2), df=folds-1)\n",
    "rs_lower_bound = rs_mean_score - ( rs_tc * gs_sem )\n",
    "rs_upper_bound = rs_mean_score + ( rs_tc * gs_sem )\n",
    "\n",
    "print(f\"The R2 confidence interval for the best combination of hyperparameters is: \\\n",
    "    ({rs_lower_bound: .4f}, {rs_mean_score: .4f}, {rs_upper_bound: .4f}) \")\n",
    "\n",
    "#display(results_df)\n",
    "\n",
    "# Let's store the best model\n",
    "best_model = rs.best_estimator_\n",
    "\n",
    "# Now is time evaluate the model in the test set\n",
    "y_pred_test_df = best_model.predict(X_test_scaled)\n",
    "y_pred_test_df = best_model.predict(X_test_scaled)\n",
    "\n",
    "y_pred_test_df = best_model.predict(X_test_scaled)\n",
    "\n",
    "print(\"\\n\")\n",
    "print(f\"Test MAE: {mean_absolute_error(y_pred_test_df, y_test): .4f}\")\n",
    "print(f\"Test MSE: {mean_squared_error(y_pred_test_df, y_test): .4f}\")\n",
    "print(f\"Test RMSE: {root_mean_squared_error(y_pred_test_df, y_test): .4f}\")\n",
    "print(f\"Test R2 score:  {best_model.score(X_test_scaled, y_test): .4f}\")\n",
    "print(\"\\n\")"
   ]
  },
  {
   "cell_type": "markdown",
   "id": "5cf4c369-3899-4ebc-a258-a8a821b69bda",
   "metadata": {},
   "source": [
    "### Bayesian search"
   ]
  },
  {
   "cell_type": "code",
   "execution_count": 24,
   "id": "4e9add3b-e791-44d7-8a37-96c14028600c",
   "metadata": {},
   "outputs": [],
   "source": [
    "def objective(trial, confidence_level, folds):\n",
    "\n",
    "    # First, we define the grid with values to consider when train several possible combinations.\n",
    "    # Now we specify a range/list of values to try for each hyper-parameter, and we let optuna to decide which\n",
    "    # combination to try.\n",
    "    max_depth = trial.suggest_int(\"max_depth\", 10, 50)\n",
    "    min_samples_split = trial.suggest_int(\"min_samples_split\", 4, 16)\n",
    "    max_leaf_nodes = trial.suggest_int(\"max_leaf_nodes\", 250, 1000)\n",
    "    max_features = trial.suggest_categorical(\"max_features\", [\"sqrt\", \"log2\"])\n",
    "\n",
    "    dt = RandomForestRegressor(random_state=123,\n",
    "                               max_depth=max_depth,\n",
    "                               min_samples_split=min_samples_split,\n",
    "                               max_leaf_nodes=max_leaf_nodes,\n",
    "                               max_features=max_features)\n",
    "\n",
    "    # Here the parameter \"cv\" specifies the number of folds K\n",
    "    scores = cross_val_score(dt, X_train_scaled, y_train, cv=folds) # The scores provided will be the R2 on each hold out fold\n",
    "    mean_score = np.mean(scores)\n",
    "    sem = np.std(scores, ddof=1) / np.sqrt(folds)\n",
    "\n",
    "    tc = st.t.ppf(1-((1-confidence_level)/2), df=folds-1)\n",
    "    lower_bound = mean_score - ( tc * sem )\n",
    "    upper_bound = mean_score + ( tc * sem )\n",
    "\n",
    "    # Here, we're storing confidence interval for each trial. It's not possible for the objective function to return\n",
    "    # multiple values as Optuna uses the only returned value to find the best combination of hyperparameters.\n",
    "    trial.set_user_attr(\"CV_score_summary\", [round(lower_bound,4), round(np.mean(scores),4), round(upper_bound,4)])\n",
    "\n",
    "    return np.mean(scores)\n"
   ]
  },
  {
   "cell_type": "code",
   "execution_count": 25,
   "id": "04554340-ee15-434e-9af3-ca528bff2af0",
   "metadata": {},
   "outputs": [
    {
     "name": "stderr",
     "output_type": "stream",
     "text": [
      "[I 2025-10-17 09:29:12,000] A new study created in memory with name: no-name-8fdcea52-c377-4279-84e9-81656a333f79\n",
      "[I 2025-10-17 09:29:20,947] Trial 0 finished with value: 0.9189892557803354 and parameters: {'max_depth': 30, 'min_samples_split': 6, 'max_leaf_nodes': 737, 'max_features': 'sqrt'}. Best is trial 0 with value: 0.9189892557803354.\n",
      "[I 2025-10-17 09:29:26,031] Trial 1 finished with value: 0.9093698031637076 and parameters: {'max_depth': 19, 'min_samples_split': 6, 'max_leaf_nodes': 457, 'max_features': 'log2'}. Best is trial 0 with value: 0.9189892557803354.\n",
      "[I 2025-10-17 09:29:31,396] Trial 2 finished with value: 0.9105531675128846 and parameters: {'max_depth': 14, 'min_samples_split': 16, 'max_leaf_nodes': 844, 'max_features': 'sqrt'}. Best is trial 0 with value: 0.9189892557803354.\n",
      "[I 2025-10-17 09:29:39,017] Trial 3 finished with value: 0.9157055213657296 and parameters: {'max_depth': 18, 'min_samples_split': 8, 'max_leaf_nodes': 519, 'max_features': 'sqrt'}. Best is trial 0 with value: 0.9189892557803354.\n",
      "[I 2025-10-17 09:29:46,073] Trial 4 finished with value: 0.9037133385845879 and parameters: {'max_depth': 40, 'min_samples_split': 4, 'max_leaf_nodes': 336, 'max_features': 'log2'}. Best is trial 0 with value: 0.9189892557803354.\n",
      "[I 2025-10-17 09:29:53,966] Trial 5 finished with value: 0.9064976172989647 and parameters: {'max_depth': 36, 'min_samples_split': 14, 'max_leaf_nodes': 273, 'max_features': 'sqrt'}. Best is trial 0 with value: 0.9189892557803354.\n",
      "[I 2025-10-17 09:30:03,103] Trial 6 finished with value: 0.9138641484798024 and parameters: {'max_depth': 34, 'min_samples_split': 6, 'max_leaf_nodes': 457, 'max_features': 'sqrt'}. Best is trial 0 with value: 0.9189892557803354.\n",
      "[I 2025-10-17 09:30:10,196] Trial 7 finished with value: 0.9154464694672898 and parameters: {'max_depth': 47, 'min_samples_split': 16, 'max_leaf_nodes': 942, 'max_features': 'sqrt'}. Best is trial 0 with value: 0.9189892557803354.\n",
      "[I 2025-10-17 09:30:23,005] Trial 8 finished with value: 0.9176569968033308 and parameters: {'max_depth': 36, 'min_samples_split': 11, 'max_leaf_nodes': 920, 'max_features': 'log2'}. Best is trial 0 with value: 0.9189892557803354.\n",
      "[I 2025-10-17 09:30:30,016] Trial 9 finished with value: 0.9104625666968472 and parameters: {'max_depth': 16, 'min_samples_split': 16, 'max_leaf_nodes': 820, 'max_features': 'log2'}. Best is trial 0 with value: 0.9189892557803354.\n",
      "[I 2025-10-17 09:30:40,639] Trial 10 finished with value: 0.9190949415423347 and parameters: {'max_depth': 25, 'min_samples_split': 10, 'max_leaf_nodes': 690, 'max_features': 'sqrt'}. Best is trial 10 with value: 0.9190949415423347.\n",
      "[I 2025-10-17 09:30:51,023] Trial 11 finished with value: 0.9190704261209405 and parameters: {'max_depth': 25, 'min_samples_split': 11, 'max_leaf_nodes': 692, 'max_features': 'sqrt'}. Best is trial 10 with value: 0.9190949415423347.\n",
      "[I 2025-10-17 09:31:02,990] Trial 12 finished with value: 0.9190886077199814 and parameters: {'max_depth': 24, 'min_samples_split': 11, 'max_leaf_nodes': 678, 'max_features': 'sqrt'}. Best is trial 10 with value: 0.9190949415423347.\n",
      "[I 2025-10-17 09:31:15,044] Trial 13 finished with value: 0.9168044986359491 and parameters: {'max_depth': 24, 'min_samples_split': 13, 'max_leaf_nodes': 605, 'max_features': 'sqrt'}. Best is trial 10 with value: 0.9190949415423347.\n",
      "[I 2025-10-17 09:31:23,203] Trial 14 finished with value: 0.8920442965904719 and parameters: {'max_depth': 10, 'min_samples_split': 9, 'max_leaf_nodes': 620, 'max_features': 'sqrt'}. Best is trial 10 with value: 0.9190949415423347.\n",
      "[I 2025-10-17 09:31:34,054] Trial 15 finished with value: 0.9179707655239449 and parameters: {'max_depth': 24, 'min_samples_split': 12, 'max_leaf_nodes': 747, 'max_features': 'sqrt'}. Best is trial 10 with value: 0.9190949415423347.\n",
      "[I 2025-10-17 09:31:40,315] Trial 16 finished with value: 0.9169321198021304 and parameters: {'max_depth': 26, 'min_samples_split': 9, 'max_leaf_nodes': 551, 'max_features': 'sqrt'}. Best is trial 10 with value: 0.9190949415423347.\n",
      "[I 2025-10-17 09:31:46,098] Trial 17 finished with value: 0.9164571091065035 and parameters: {'max_depth': 30, 'min_samples_split': 14, 'max_leaf_nodes': 689, 'max_features': 'sqrt'}. Best is trial 10 with value: 0.9190949415423347.\n",
      "[I 2025-10-17 09:31:52,904] Trial 18 finished with value: 0.9182657509358989 and parameters: {'max_depth': 21, 'min_samples_split': 10, 'max_leaf_nodes': 823, 'max_features': 'log2'}. Best is trial 10 with value: 0.9190949415423347.\n",
      "[I 2025-10-17 09:32:02,265] Trial 19 finished with value: 0.9132521319335056 and parameters: {'max_depth': 43, 'min_samples_split': 8, 'max_leaf_nodes': 425, 'max_features': 'sqrt'}. Best is trial 10 with value: 0.9190949415423347.\n",
      "[I 2025-10-17 09:32:08,825] Trial 20 finished with value: 0.9052528606856146 and parameters: {'max_depth': 12, 'min_samples_split': 12, 'max_leaf_nodes': 565, 'max_features': 'sqrt'}. Best is trial 10 with value: 0.9190949415423347.\n",
      "[I 2025-10-17 09:32:17,644] Trial 21 finished with value: 0.9190676495527578 and parameters: {'max_depth': 27, 'min_samples_split': 11, 'max_leaf_nodes': 687, 'max_features': 'sqrt'}. Best is trial 10 with value: 0.9190949415423347.\n",
      "[I 2025-10-17 09:32:24,911] Trial 22 finished with value: 0.9188563355112735 and parameters: {'max_depth': 21, 'min_samples_split': 10, 'max_leaf_nodes': 685, 'max_features': 'sqrt'}. Best is trial 10 with value: 0.9190949415423347.\n",
      "[I 2025-10-17 09:32:32,759] Trial 23 finished with value: 0.9190957224912776 and parameters: {'max_depth': 30, 'min_samples_split': 11, 'max_leaf_nodes': 771, 'max_features': 'sqrt'}. Best is trial 23 with value: 0.9190957224912776.\n",
      "[I 2025-10-17 09:32:39,786] Trial 24 finished with value: 0.9168595525026241 and parameters: {'max_depth': 32, 'min_samples_split': 13, 'max_leaf_nodes': 764, 'max_features': 'sqrt'}. Best is trial 23 with value: 0.9190957224912776.\n",
      "[I 2025-10-17 09:32:47,828] Trial 25 finished with value: 0.9208474288780399 and parameters: {'max_depth': 28, 'min_samples_split': 8, 'max_leaf_nodes': 881, 'max_features': 'sqrt'}. Best is trial 25 with value: 0.9208474288780399.\n",
      "[I 2025-10-17 09:32:54,660] Trial 26 finished with value: 0.9195253973723785 and parameters: {'max_depth': 29, 'min_samples_split': 7, 'max_leaf_nodes': 884, 'max_features': 'log2'}. Best is trial 25 with value: 0.9208474288780399.\n",
      "[I 2025-10-17 09:33:02,020] Trial 27 finished with value: 0.9204655783408834 and parameters: {'max_depth': 29, 'min_samples_split': 7, 'max_leaf_nodes': 987, 'max_features': 'log2'}. Best is trial 25 with value: 0.9208474288780399.\n",
      "[I 2025-10-17 09:33:09,328] Trial 28 finished with value: 0.9204933279768776 and parameters: {'max_depth': 38, 'min_samples_split': 7, 'max_leaf_nodes': 990, 'max_features': 'log2'}. Best is trial 25 with value: 0.9208474288780399.\n",
      "[I 2025-10-17 09:33:20,838] Trial 29 finished with value: 0.9191601428994913 and parameters: {'max_depth': 42, 'min_samples_split': 4, 'max_leaf_nodes': 990, 'max_features': 'log2'}. Best is trial 25 with value: 0.9208474288780399.\n",
      "[I 2025-10-17 09:33:35,114] Trial 30 finished with value: 0.9192576911190633 and parameters: {'max_depth': 38, 'min_samples_split': 6, 'max_leaf_nodes': 957, 'max_features': 'log2'}. Best is trial 25 with value: 0.9208474288780399.\n",
      "[I 2025-10-17 09:33:45,122] Trial 31 finished with value: 0.9194590422345709 and parameters: {'max_depth': 28, 'min_samples_split': 7, 'max_leaf_nodes': 883, 'max_features': 'log2'}. Best is trial 25 with value: 0.9208474288780399.\n",
      "[I 2025-10-17 09:33:58,220] Trial 32 finished with value: 0.919248387096431 and parameters: {'max_depth': 34, 'min_samples_split': 5, 'max_leaf_nodes': 998, 'max_features': 'log2'}. Best is trial 25 with value: 0.9208474288780399.\n",
      "[I 2025-10-17 09:34:08,743] Trial 33 finished with value: 0.9195795845162884 and parameters: {'max_depth': 31, 'min_samples_split': 7, 'max_leaf_nodes': 896, 'max_features': 'log2'}. Best is trial 25 with value: 0.9208474288780399.\n",
      "[I 2025-10-17 09:34:18,224] Trial 34 finished with value: 0.9195182427540397 and parameters: {'max_depth': 33, 'min_samples_split': 7, 'max_leaf_nodes': 887, 'max_features': 'log2'}. Best is trial 25 with value: 0.9208474288780399.\n",
      "[I 2025-10-17 09:34:27,792] Trial 35 finished with value: 0.9196347366821209 and parameters: {'max_depth': 38, 'min_samples_split': 8, 'max_leaf_nodes': 919, 'max_features': 'log2'}. Best is trial 25 with value: 0.9208474288780399.\n",
      "[I 2025-10-17 09:34:37,505] Trial 36 finished with value: 0.9196315757044251 and parameters: {'max_depth': 50, 'min_samples_split': 8, 'max_leaf_nodes': 950, 'max_features': 'log2'}. Best is trial 25 with value: 0.9208474288780399.\n",
      "[I 2025-10-17 09:34:45,465] Trial 37 finished with value: 0.9177856348020106 and parameters: {'max_depth': 39, 'min_samples_split': 5, 'max_leaf_nodes': 855, 'max_features': 'log2'}. Best is trial 25 with value: 0.9208474288780399.\n",
      "[I 2025-10-17 09:34:54,873] Trial 38 finished with value: 0.9190609581108193 and parameters: {'max_depth': 44, 'min_samples_split': 9, 'max_leaf_nodes': 994, 'max_features': 'log2'}. Best is trial 25 with value: 0.9208474288780399.\n",
      "[I 2025-10-17 09:35:06,732] Trial 39 finished with value: 0.9186378816099483 and parameters: {'max_depth': 37, 'min_samples_split': 5, 'max_leaf_nodes': 935, 'max_features': 'log2'}. Best is trial 25 with value: 0.9208474288780399.\n",
      "[I 2025-10-17 09:35:17,530] Trial 40 finished with value: 0.9189421444878996 and parameters: {'max_depth': 41, 'min_samples_split': 8, 'max_leaf_nodes': 817, 'max_features': 'log2'}. Best is trial 25 with value: 0.9208474288780399.\n",
      "[I 2025-10-17 09:35:26,865] Trial 41 finished with value: 0.919631575694192 and parameters: {'max_depth': 48, 'min_samples_split': 8, 'max_leaf_nodes': 947, 'max_features': 'log2'}. Best is trial 25 with value: 0.9208474288780399.\n",
      "[I 2025-10-17 09:35:36,971] Trial 42 finished with value: 0.9192844849634036 and parameters: {'max_depth': 45, 'min_samples_split': 6, 'max_leaf_nodes': 959, 'max_features': 'log2'}. Best is trial 25 with value: 0.9208474288780399.\n",
      "[I 2025-10-17 09:35:47,094] Trial 43 finished with value: 0.9190609581108193 and parameters: {'max_depth': 49, 'min_samples_split': 9, 'max_leaf_nodes': 916, 'max_features': 'log2'}. Best is trial 25 with value: 0.9208474288780399.\n",
      "[I 2025-10-17 09:35:55,706] Trial 44 finished with value: 0.9193874668458518 and parameters: {'max_depth': 46, 'min_samples_split': 6, 'max_leaf_nodes': 971, 'max_features': 'log2'}. Best is trial 25 with value: 0.9208474288780399.\n"
     ]
    },
    {
     "name": "stdout",
     "output_type": "stream",
     "text": [
      "\n",
      "\n",
      "Time taken to find the best combination of hyperparameters among the given ones:  403.7101 seconds\n",
      "\n",
      "\n",
      "The best combination of hyperparameters found was:  {'max_depth': 28, 'min_samples_split': 8, 'max_leaf_nodes': 881, 'max_features': 'sqrt'}\n",
      "The best R2 found was:  0.9208\n"
     ]
    }
   ],
   "source": [
    "confidence_level = 0.95\n",
    "folds = 10\n",
    "\n",
    "start_time = time.time()\n",
    "study = optuna.create_study(direction=\"maximize\") # We want to have the maximum values for the R2 scores\n",
    "study.optimize(lambda trial: objective(trial, confidence_level, folds), n_trials=45)\n",
    "#study.optimize(objective(**settings), n_trials=45) # n_trials is the number of combinations of hyperparameters to test.\n",
    "end_time = time.time()\n",
    "\n",
    "print(\"\\n\")\n",
    "print(f\"Time taken to find the best combination of hyperparameters among the given ones: {end_time - start_time: .4f} seconds\")\n",
    "print(\"\\n\")\n",
    "print(\"The best combination of hyperparameters found was: \", study.best_params)\n",
    "print(f\"The best R2 found was: {study.best_value: .4f}\")\n"
   ]
  },
  {
   "cell_type": "markdown",
   "id": "73dadb07-09f1-4174-bb6f-9071585c80d9",
   "metadata": {},
   "source": [
    "###Comparison\n",
    "\n",
    "***GRID***\n",
    "\n",
    "Time taken to find the best combination of hyperparameters among the given ones:  98.3092 seconds\n",
    "\n",
    "\n",
    "The best combination of hyperparameters has been: {'max_depth': 50, 'max_features': 'sqrt', 'max_leaf_nodes': 250, 'min_samples_split': 16}\n",
    "The R2 is:  0.9055\n",
    "The R2 confidence interval for the best combination of hyperparameters is:     ( 0.9005,  0.9055,  0.9104) \n",
    "\n",
    "\n",
    "Test MAE:  0.0412\n",
    "Test MSE:  0.0031\n",
    "Test RMSE:  0.0555\n",
    "Test R2 score:   0.9162\n",
    "\n",
    "\n",
    "***Random***\n",
    "\n",
    "Time taken to find the best combination of hyperparameters among the given ones:  79.9290 seconds\n",
    "\n",
    "\n",
    "The best combination of hyperparameters has been: {'max_leaf_nodes': 30, 'max_depth': 11}\n",
    "The R2 is:  0.8669\n",
    "The R2 confidence interval for the best combination of hyperparameters is:     ( 0.8619,  0.8669,  0.8718) \n",
    "\n",
    "\n",
    "Test MAE:  0.0498\n",
    "Test MSE:  0.0042\n",
    "Test RMSE:  0.0651\n",
    "Test R2 score:   0.8845\n",
    "\n",
    "***Bayesian search***\n",
    "\n",
    "Time taken to find the best combination of hyperparameters among the given ones:  403.7101 seconds\n",
    "\n",
    "\n",
    "The best combination of hyperparameters found was:  {'max_depth': 28, 'min_samples_split': 8, 'max_leaf_nodes': 881, 'max_features': 'sqrt'}\n",
    "The best R2 found was:  0.9208"
   ]
  },
  {
   "cell_type": "code",
   "execution_count": 26,
   "id": "a15c76cc-fc9c-4cf4-b146-e247ca73ae68",
   "metadata": {},
   "outputs": [
    {
     "name": "stdout",
     "output_type": "stream",
     "text": [
      "The R2 confidence interval for the best combination of hyperparameters is: (np.float64(0.9157), np.float64(0.9208), np.float64(0.926))\n"
     ]
    }
   ],
   "source": [
    "#study.trials[-1].user_attrs\n",
    "results = sorted([(index,\n",
    "  trial.user_attrs['CV_score_summary'][0],\n",
    "  trial.user_attrs['CV_score_summary'][1],\n",
    "  trial.user_attrs['CV_score_summary'][2]) for index, trial in enumerate(study.trials)], key=lambda x: x[2], reverse=True)\n",
    "\n",
    "print(f\"The R2 confidence interval for the best combination of hyperparameters is: {results[0][1:]}\")\n",
    "#len(study.trials)"
   ]
  },
  {
   "cell_type": "markdown",
   "id": "2d883f27-a05e-49f6-907d-ae437ae53fc4",
   "metadata": {},
   "source": [
    "The central value 0.8701 is the expected mean of R² — that is, the model explains about 87.01% of the variance in the validation data.\n",
    "\n",
    "The minimum (0.861) and maximum (0.8792) values make up the confidence interval, indicating that with high confidence the true R² lies between 86.1% and 87.92%"
   ]
  },
  {
   "cell_type": "code",
   "execution_count": 34,
   "id": "5bb1745a-8d15-444e-8315-43d0869f4f9a",
   "metadata": {},
   "outputs": [
    {
     "data": {
      "application/vnd.plotly.v1+json": {
       "config": {
        "plotlyServerURL": "https://plot.ly"
       },
       "data": [
        {
         "mode": "markers",
         "name": "Objective Value",
         "type": "scatter",
         "x": [
          0,
          1,
          2,
          3,
          4,
          5,
          6,
          7,
          8,
          9,
          10,
          11,
          12,
          13,
          14,
          15,
          16,
          17,
          18,
          19,
          20,
          21,
          22,
          23,
          24,
          25,
          26,
          27,
          28,
          29,
          30,
          31,
          32,
          33,
          34,
          35,
          36,
          37,
          38,
          39,
          40,
          41,
          42,
          43,
          44
         ],
         "y": [
          0.9189892557803354,
          0.9093698031637076,
          0.9105531675128846,
          0.9157055213657296,
          0.9037133385845879,
          0.9064976172989647,
          0.9138641484798024,
          0.9154464694672898,
          0.9176569968033308,
          0.9104625666968472,
          0.9190949415423347,
          0.9190704261209405,
          0.9190886077199814,
          0.9168044986359491,
          0.8920442965904719,
          0.9179707655239449,
          0.9169321198021304,
          0.9164571091065035,
          0.9182657509358989,
          0.9132521319335056,
          0.9052528606856146,
          0.9190676495527578,
          0.9188563355112735,
          0.9190957224912776,
          0.9168595525026241,
          0.9208474288780399,
          0.9195253973723785,
          0.9204655783408834,
          0.9204933279768776,
          0.9191601428994913,
          0.9192576911190633,
          0.9194590422345709,
          0.919248387096431,
          0.9195795845162884,
          0.9195182427540397,
          0.9196347366821209,
          0.9196315757044251,
          0.9177856348020106,
          0.9190609581108193,
          0.9186378816099483,
          0.9189421444878996,
          0.919631575694192,
          0.9192844849634036,
          0.9190609581108193,
          0.9193874668458518
         ]
        },
        {
         "mode": "lines",
         "name": "Best Value",
         "type": "scatter",
         "x": [
          0,
          1,
          2,
          3,
          4,
          5,
          6,
          7,
          8,
          9,
          10,
          11,
          12,
          13,
          14,
          15,
          16,
          17,
          18,
          19,
          20,
          21,
          22,
          23,
          24,
          25,
          26,
          27,
          28,
          29,
          30,
          31,
          32,
          33,
          34,
          35,
          36,
          37,
          38,
          39,
          40,
          41,
          42,
          43,
          44
         ],
         "y": [
          0.9189892557803354,
          0.9189892557803354,
          0.9189892557803354,
          0.9189892557803354,
          0.9189892557803354,
          0.9189892557803354,
          0.9189892557803354,
          0.9189892557803354,
          0.9189892557803354,
          0.9189892557803354,
          0.9190949415423347,
          0.9190949415423347,
          0.9190949415423347,
          0.9190949415423347,
          0.9190949415423347,
          0.9190949415423347,
          0.9190949415423347,
          0.9190949415423347,
          0.9190949415423347,
          0.9190949415423347,
          0.9190949415423347,
          0.9190949415423347,
          0.9190949415423347,
          0.9190957224912776,
          0.9190957224912776,
          0.9208474288780399,
          0.9208474288780399,
          0.9208474288780399,
          0.9208474288780399,
          0.9208474288780399,
          0.9208474288780399,
          0.9208474288780399,
          0.9208474288780399,
          0.9208474288780399,
          0.9208474288780399,
          0.9208474288780399,
          0.9208474288780399,
          0.9208474288780399,
          0.9208474288780399,
          0.9208474288780399,
          0.9208474288780399,
          0.9208474288780399,
          0.9208474288780399,
          0.9208474288780399,
          0.9208474288780399
         ]
        },
        {
         "marker": {
          "color": "#cccccc"
         },
         "mode": "markers",
         "name": "Infeasible Trial",
         "showlegend": false,
         "type": "scatter",
         "x": [],
         "y": []
        }
       ],
       "layout": {
        "template": {
         "data": {
          "bar": [
           {
            "error_x": {
             "color": "#2a3f5f"
            },
            "error_y": {
             "color": "#2a3f5f"
            },
            "marker": {
             "line": {
              "color": "#E5ECF6",
              "width": 0.5
             },
             "pattern": {
              "fillmode": "overlay",
              "size": 10,
              "solidity": 0.2
             }
            },
            "type": "bar"
           }
          ],
          "barpolar": [
           {
            "marker": {
             "line": {
              "color": "#E5ECF6",
              "width": 0.5
             },
             "pattern": {
              "fillmode": "overlay",
              "size": 10,
              "solidity": 0.2
             }
            },
            "type": "barpolar"
           }
          ],
          "carpet": [
           {
            "aaxis": {
             "endlinecolor": "#2a3f5f",
             "gridcolor": "white",
             "linecolor": "white",
             "minorgridcolor": "white",
             "startlinecolor": "#2a3f5f"
            },
            "baxis": {
             "endlinecolor": "#2a3f5f",
             "gridcolor": "white",
             "linecolor": "white",
             "minorgridcolor": "white",
             "startlinecolor": "#2a3f5f"
            },
            "type": "carpet"
           }
          ],
          "choropleth": [
           {
            "colorbar": {
             "outlinewidth": 0,
             "ticks": ""
            },
            "type": "choropleth"
           }
          ],
          "contour": [
           {
            "colorbar": {
             "outlinewidth": 0,
             "ticks": ""
            },
            "colorscale": [
             [
              0,
              "#0d0887"
             ],
             [
              0.1111111111111111,
              "#46039f"
             ],
             [
              0.2222222222222222,
              "#7201a8"
             ],
             [
              0.3333333333333333,
              "#9c179e"
             ],
             [
              0.4444444444444444,
              "#bd3786"
             ],
             [
              0.5555555555555556,
              "#d8576b"
             ],
             [
              0.6666666666666666,
              "#ed7953"
             ],
             [
              0.7777777777777778,
              "#fb9f3a"
             ],
             [
              0.8888888888888888,
              "#fdca26"
             ],
             [
              1,
              "#f0f921"
             ]
            ],
            "type": "contour"
           }
          ],
          "contourcarpet": [
           {
            "colorbar": {
             "outlinewidth": 0,
             "ticks": ""
            },
            "type": "contourcarpet"
           }
          ],
          "heatmap": [
           {
            "colorbar": {
             "outlinewidth": 0,
             "ticks": ""
            },
            "colorscale": [
             [
              0,
              "#0d0887"
             ],
             [
              0.1111111111111111,
              "#46039f"
             ],
             [
              0.2222222222222222,
              "#7201a8"
             ],
             [
              0.3333333333333333,
              "#9c179e"
             ],
             [
              0.4444444444444444,
              "#bd3786"
             ],
             [
              0.5555555555555556,
              "#d8576b"
             ],
             [
              0.6666666666666666,
              "#ed7953"
             ],
             [
              0.7777777777777778,
              "#fb9f3a"
             ],
             [
              0.8888888888888888,
              "#fdca26"
             ],
             [
              1,
              "#f0f921"
             ]
            ],
            "type": "heatmap"
           }
          ],
          "heatmapgl": [
           {
            "colorbar": {
             "outlinewidth": 0,
             "ticks": ""
            },
            "colorscale": [
             [
              0,
              "#0d0887"
             ],
             [
              0.1111111111111111,
              "#46039f"
             ],
             [
              0.2222222222222222,
              "#7201a8"
             ],
             [
              0.3333333333333333,
              "#9c179e"
             ],
             [
              0.4444444444444444,
              "#bd3786"
             ],
             [
              0.5555555555555556,
              "#d8576b"
             ],
             [
              0.6666666666666666,
              "#ed7953"
             ],
             [
              0.7777777777777778,
              "#fb9f3a"
             ],
             [
              0.8888888888888888,
              "#fdca26"
             ],
             [
              1,
              "#f0f921"
             ]
            ],
            "type": "heatmapgl"
           }
          ],
          "histogram": [
           {
            "marker": {
             "pattern": {
              "fillmode": "overlay",
              "size": 10,
              "solidity": 0.2
             }
            },
            "type": "histogram"
           }
          ],
          "histogram2d": [
           {
            "colorbar": {
             "outlinewidth": 0,
             "ticks": ""
            },
            "colorscale": [
             [
              0,
              "#0d0887"
             ],
             [
              0.1111111111111111,
              "#46039f"
             ],
             [
              0.2222222222222222,
              "#7201a8"
             ],
             [
              0.3333333333333333,
              "#9c179e"
             ],
             [
              0.4444444444444444,
              "#bd3786"
             ],
             [
              0.5555555555555556,
              "#d8576b"
             ],
             [
              0.6666666666666666,
              "#ed7953"
             ],
             [
              0.7777777777777778,
              "#fb9f3a"
             ],
             [
              0.8888888888888888,
              "#fdca26"
             ],
             [
              1,
              "#f0f921"
             ]
            ],
            "type": "histogram2d"
           }
          ],
          "histogram2dcontour": [
           {
            "colorbar": {
             "outlinewidth": 0,
             "ticks": ""
            },
            "colorscale": [
             [
              0,
              "#0d0887"
             ],
             [
              0.1111111111111111,
              "#46039f"
             ],
             [
              0.2222222222222222,
              "#7201a8"
             ],
             [
              0.3333333333333333,
              "#9c179e"
             ],
             [
              0.4444444444444444,
              "#bd3786"
             ],
             [
              0.5555555555555556,
              "#d8576b"
             ],
             [
              0.6666666666666666,
              "#ed7953"
             ],
             [
              0.7777777777777778,
              "#fb9f3a"
             ],
             [
              0.8888888888888888,
              "#fdca26"
             ],
             [
              1,
              "#f0f921"
             ]
            ],
            "type": "histogram2dcontour"
           }
          ],
          "mesh3d": [
           {
            "colorbar": {
             "outlinewidth": 0,
             "ticks": ""
            },
            "type": "mesh3d"
           }
          ],
          "parcoords": [
           {
            "line": {
             "colorbar": {
              "outlinewidth": 0,
              "ticks": ""
             }
            },
            "type": "parcoords"
           }
          ],
          "pie": [
           {
            "automargin": true,
            "type": "pie"
           }
          ],
          "scatter": [
           {
            "fillpattern": {
             "fillmode": "overlay",
             "size": 10,
             "solidity": 0.2
            },
            "type": "scatter"
           }
          ],
          "scatter3d": [
           {
            "line": {
             "colorbar": {
              "outlinewidth": 0,
              "ticks": ""
             }
            },
            "marker": {
             "colorbar": {
              "outlinewidth": 0,
              "ticks": ""
             }
            },
            "type": "scatter3d"
           }
          ],
          "scattercarpet": [
           {
            "marker": {
             "colorbar": {
              "outlinewidth": 0,
              "ticks": ""
             }
            },
            "type": "scattercarpet"
           }
          ],
          "scattergeo": [
           {
            "marker": {
             "colorbar": {
              "outlinewidth": 0,
              "ticks": ""
             }
            },
            "type": "scattergeo"
           }
          ],
          "scattergl": [
           {
            "marker": {
             "colorbar": {
              "outlinewidth": 0,
              "ticks": ""
             }
            },
            "type": "scattergl"
           }
          ],
          "scattermapbox": [
           {
            "marker": {
             "colorbar": {
              "outlinewidth": 0,
              "ticks": ""
             }
            },
            "type": "scattermapbox"
           }
          ],
          "scatterpolar": [
           {
            "marker": {
             "colorbar": {
              "outlinewidth": 0,
              "ticks": ""
             }
            },
            "type": "scatterpolar"
           }
          ],
          "scatterpolargl": [
           {
            "marker": {
             "colorbar": {
              "outlinewidth": 0,
              "ticks": ""
             }
            },
            "type": "scatterpolargl"
           }
          ],
          "scatterternary": [
           {
            "marker": {
             "colorbar": {
              "outlinewidth": 0,
              "ticks": ""
             }
            },
            "type": "scatterternary"
           }
          ],
          "surface": [
           {
            "colorbar": {
             "outlinewidth": 0,
             "ticks": ""
            },
            "colorscale": [
             [
              0,
              "#0d0887"
             ],
             [
              0.1111111111111111,
              "#46039f"
             ],
             [
              0.2222222222222222,
              "#7201a8"
             ],
             [
              0.3333333333333333,
              "#9c179e"
             ],
             [
              0.4444444444444444,
              "#bd3786"
             ],
             [
              0.5555555555555556,
              "#d8576b"
             ],
             [
              0.6666666666666666,
              "#ed7953"
             ],
             [
              0.7777777777777778,
              "#fb9f3a"
             ],
             [
              0.8888888888888888,
              "#fdca26"
             ],
             [
              1,
              "#f0f921"
             ]
            ],
            "type": "surface"
           }
          ],
          "table": [
           {
            "cells": {
             "fill": {
              "color": "#EBF0F8"
             },
             "line": {
              "color": "white"
             }
            },
            "header": {
             "fill": {
              "color": "#C8D4E3"
             },
             "line": {
              "color": "white"
             }
            },
            "type": "table"
           }
          ]
         },
         "layout": {
          "annotationdefaults": {
           "arrowcolor": "#2a3f5f",
           "arrowhead": 0,
           "arrowwidth": 1
          },
          "autotypenumbers": "strict",
          "coloraxis": {
           "colorbar": {
            "outlinewidth": 0,
            "ticks": ""
           }
          },
          "colorscale": {
           "diverging": [
            [
             0,
             "#8e0152"
            ],
            [
             0.1,
             "#c51b7d"
            ],
            [
             0.2,
             "#de77ae"
            ],
            [
             0.3,
             "#f1b6da"
            ],
            [
             0.4,
             "#fde0ef"
            ],
            [
             0.5,
             "#f7f7f7"
            ],
            [
             0.6,
             "#e6f5d0"
            ],
            [
             0.7,
             "#b8e186"
            ],
            [
             0.8,
             "#7fbc41"
            ],
            [
             0.9,
             "#4d9221"
            ],
            [
             1,
             "#276419"
            ]
           ],
           "sequential": [
            [
             0,
             "#0d0887"
            ],
            [
             0.1111111111111111,
             "#46039f"
            ],
            [
             0.2222222222222222,
             "#7201a8"
            ],
            [
             0.3333333333333333,
             "#9c179e"
            ],
            [
             0.4444444444444444,
             "#bd3786"
            ],
            [
             0.5555555555555556,
             "#d8576b"
            ],
            [
             0.6666666666666666,
             "#ed7953"
            ],
            [
             0.7777777777777778,
             "#fb9f3a"
            ],
            [
             0.8888888888888888,
             "#fdca26"
            ],
            [
             1,
             "#f0f921"
            ]
           ],
           "sequentialminus": [
            [
             0,
             "#0d0887"
            ],
            [
             0.1111111111111111,
             "#46039f"
            ],
            [
             0.2222222222222222,
             "#7201a8"
            ],
            [
             0.3333333333333333,
             "#9c179e"
            ],
            [
             0.4444444444444444,
             "#bd3786"
            ],
            [
             0.5555555555555556,
             "#d8576b"
            ],
            [
             0.6666666666666666,
             "#ed7953"
            ],
            [
             0.7777777777777778,
             "#fb9f3a"
            ],
            [
             0.8888888888888888,
             "#fdca26"
            ],
            [
             1,
             "#f0f921"
            ]
           ]
          },
          "colorway": [
           "#636efa",
           "#EF553B",
           "#00cc96",
           "#ab63fa",
           "#FFA15A",
           "#19d3f3",
           "#FF6692",
           "#B6E880",
           "#FF97FF",
           "#FECB52"
          ],
          "font": {
           "color": "#2a3f5f"
          },
          "geo": {
           "bgcolor": "white",
           "lakecolor": "white",
           "landcolor": "#E5ECF6",
           "showlakes": true,
           "showland": true,
           "subunitcolor": "white"
          },
          "hoverlabel": {
           "align": "left"
          },
          "hovermode": "closest",
          "mapbox": {
           "style": "light"
          },
          "paper_bgcolor": "white",
          "plot_bgcolor": "#E5ECF6",
          "polar": {
           "angularaxis": {
            "gridcolor": "white",
            "linecolor": "white",
            "ticks": ""
           },
           "bgcolor": "#E5ECF6",
           "radialaxis": {
            "gridcolor": "white",
            "linecolor": "white",
            "ticks": ""
           }
          },
          "scene": {
           "xaxis": {
            "backgroundcolor": "#E5ECF6",
            "gridcolor": "white",
            "gridwidth": 2,
            "linecolor": "white",
            "showbackground": true,
            "ticks": "",
            "zerolinecolor": "white"
           },
           "yaxis": {
            "backgroundcolor": "#E5ECF6",
            "gridcolor": "white",
            "gridwidth": 2,
            "linecolor": "white",
            "showbackground": true,
            "ticks": "",
            "zerolinecolor": "white"
           },
           "zaxis": {
            "backgroundcolor": "#E5ECF6",
            "gridcolor": "white",
            "gridwidth": 2,
            "linecolor": "white",
            "showbackground": true,
            "ticks": "",
            "zerolinecolor": "white"
           }
          },
          "shapedefaults": {
           "line": {
            "color": "#2a3f5f"
           }
          },
          "ternary": {
           "aaxis": {
            "gridcolor": "white",
            "linecolor": "white",
            "ticks": ""
           },
           "baxis": {
            "gridcolor": "white",
            "linecolor": "white",
            "ticks": ""
           },
           "bgcolor": "#E5ECF6",
           "caxis": {
            "gridcolor": "white",
            "linecolor": "white",
            "ticks": ""
           }
          },
          "title": {
           "x": 0.05
          },
          "xaxis": {
           "automargin": true,
           "gridcolor": "white",
           "linecolor": "white",
           "ticks": "",
           "title": {
            "standoff": 15
           },
           "zerolinecolor": "white",
           "zerolinewidth": 2
          },
          "yaxis": {
           "automargin": true,
           "gridcolor": "white",
           "linecolor": "white",
           "ticks": "",
           "title": {
            "standoff": 15
           },
           "zerolinecolor": "white",
           "zerolinewidth": 2
          }
         }
        },
        "title": {
         "text": "Optimization History Plot"
        },
        "xaxis": {
         "title": {
          "text": "Trial"
         }
        },
        "yaxis": {
         "title": {
          "text": "Objective Value"
         }
        }
       }
      },
      "image/png": "[encoded data removed]",
      "text/html": [
       "<div>                            <div id=\"2123ecda-2237-43b0-a21a-5a9f7d4b8a38\" class=\"plotly-graph-div\" style=\"height:525px; width:100%;\"></div>            <script type=\"text/javascript\">                require([\"plotly\"], function(Plotly) {                    window.PLOTLYENV=window.PLOTLYENV || {};                                    if (document.getElementById(\"2123ecda-2237-43b0-a21a-5a9f7d4b8a38\")) {                    Plotly.newPlot(                        \"2123ecda-2237-43b0-a21a-5a9f7d4b8a38\",                        [{\"mode\":\"markers\",\"name\":\"Objective Value\",\"x\":[0,1,2,3,4,5,6,7,8,9,10,11,12,13,14,15,16,17,18,19,20,21,22,23,24,25,26,27,28,29,30,31,32,33,34,35,36,37,38,39,40,41,42,43,44],\"y\":[0.9189892557803354,0.9093698031637076,0.9105531675128846,0.9157055213657296,0.9037133385845879,0.9064976172989647,0.9138641484798024,0.9154464694672898,0.9176569968033308,0.9104625666968472,0.9190949415423347,0.9190704261209405,0.9190886077199814,0.9168044986359491,0.8920442965904719,0.9179707655239449,0.9169321198021304,0.9164571091065035,0.9182657509358989,0.9132521319335056,0.9052528606856146,0.9190676495527578,0.9188563355112735,0.9190957224912776,0.9168595525026241,0.9208474288780399,0.9195253973723785,0.9204655783408834,0.9204933279768776,0.9191601428994913,0.9192576911190633,0.9194590422345709,0.919248387096431,0.9195795845162884,0.9195182427540397,0.9196347366821209,0.9196315757044251,0.9177856348020106,0.9190609581108193,0.9186378816099483,0.9189421444878996,0.919631575694192,0.9192844849634036,0.9190609581108193,0.9193874668458518],\"type\":\"scatter\"},{\"mode\":\"lines\",\"name\":\"Best Value\",\"x\":[0,1,2,3,4,5,6,7,8,9,10,11,12,13,14,15,16,17,18,19,20,21,22,23,24,25,26,27,28,29,30,31,32,33,34,35,36,37,38,39,40,41,42,43,44],\"y\":[0.9189892557803354,0.9189892557803354,0.9189892557803354,0.9189892557803354,0.9189892557803354,0.9189892557803354,0.9189892557803354,0.9189892557803354,0.9189892557803354,0.9189892557803354,0.9190949415423347,0.9190949415423347,0.9190949415423347,0.9190949415423347,0.9190949415423347,0.9190949415423347,0.9190949415423347,0.9190949415423347,0.9190949415423347,0.9190949415423347,0.9190949415423347,0.9190949415423347,0.9190949415423347,0.9190957224912776,0.9190957224912776,0.9208474288780399,0.9208474288780399,0.9208474288780399,0.9208474288780399,0.9208474288780399,0.9208474288780399,0.9208474288780399,0.9208474288780399,0.9208474288780399,0.9208474288780399,0.9208474288780399,0.9208474288780399,0.9208474288780399,0.9208474288780399,0.9208474288780399,0.9208474288780399,0.9208474288780399,0.9208474288780399,0.9208474288780399,0.9208474288780399],\"type\":\"scatter\"},{\"marker\":{\"color\":\"#cccccc\"},\"mode\":\"markers\",\"name\":\"Infeasible Trial\",\"showlegend\":false,\"x\":[],\"y\":[],\"type\":\"scatter\"}],                        {\"title\":{\"text\":\"Optimization History Plot\"},\"xaxis\":{\"title\":{\"text\":\"Trial\"}},\"yaxis\":{\"title\":{\"text\":\"Objective Value\"}},\"template\":{\"data\":{\"histogram2dcontour\":[{\"type\":\"histogram2dcontour\",\"colorbar\":{\"outlinewidth\":0,\"ticks\":\"\"},\"colorscale\":[[0.0,\"#0d0887\"],[0.1111111111111111,\"#46039f\"],[0.2222222222222222,\"#7201a8\"],[0.3333333333333333,\"#9c179e\"],[0.4444444444444444,\"#bd3786\"],[0.5555555555555556,\"#d8576b\"],[0.6666666666666666,\"#ed7953\"],[0.7777777777777778,\"#fb9f3a\"],[0.8888888888888888,\"#fdca26\"],[1.0,\"#f0f921\"]]}],\"choropleth\":[{\"type\":\"choropleth\",\"colorbar\":{\"outlinewidth\":0,\"ticks\":\"\"}}],\"histogram2d\":[{\"type\":\"histogram2d\",\"colorbar\":{\"outlinewidth\":0,\"ticks\":\"\"},\"colorscale\":[[0.0,\"#0d0887\"],[0.1111111111111111,\"#46039f\"],[0.2222222222222222,\"#7201a8\"],[0.3333333333333333,\"#9c179e\"],[0.4444444444444444,\"#bd3786\"],[0.5555555555555556,\"#d8576b\"],[0.6666666666666666,\"#ed7953\"],[0.7777777777777778,\"#fb9f3a\"],[0.8888888888888888,\"#fdca26\"],[1.0,\"#f0f921\"]]}],\"heatmap\":[{\"type\":\"heatmap\",\"colorbar\":{\"outlinewidth\":0,\"ticks\":\"\"},\"colorscale\":[[0.0,\"#0d0887\"],[0.1111111111111111,\"#46039f\"],[0.2222222222222222,\"#7201a8\"],[0.3333333333333333,\"#9c179e\"],[0.4444444444444444,\"#bd3786\"],[0.5555555555555556,\"#d8576b\"],[0.6666666666666666,\"#ed7953\"],[0.7777777777777778,\"#fb9f3a\"],[0.8888888888888888,\"#fdca26\"],[1.0,\"#f0f921\"]]}],\"heatmapgl\":[{\"type\":\"heatmapgl\",\"colorbar\":{\"outlinewidth\":0,\"ticks\":\"\"},\"colorscale\":[[0.0,\"#0d0887\"],[0.1111111111111111,\"#46039f\"],[0.2222222222222222,\"#7201a8\"],[0.3333333333333333,\"#9c179e\"],[0.4444444444444444,\"#bd3786\"],[0.5555555555555556,\"#d8576b\"],[0.6666666666666666,\"#ed7953\"],[0.7777777777777778,\"#fb9f3a\"],[0.8888888888888888,\"#fdca26\"],[1.0,\"#f0f921\"]]}],\"contourcarpet\":[{\"type\":\"contourcarpet\",\"colorbar\":{\"outlinewidth\":0,\"ticks\":\"\"}}],\"contour\":[{\"type\":\"contour\",\"colorbar\":{\"outlinewidth\":0,\"ticks\":\"\"},\"colorscale\":[[0.0,\"#0d0887\"],[0.1111111111111111,\"#46039f\"],[0.2222222222222222,\"#7201a8\"],[0.3333333333333333,\"#9c179e\"],[0.4444444444444444,\"#bd3786\"],[0.5555555555555556,\"#d8576b\"],[0.6666666666666666,\"#ed7953\"],[0.7777777777777778,\"#fb9f3a\"],[0.8888888888888888,\"#fdca26\"],[1.0,\"#f0f921\"]]}],\"surface\":[{\"type\":\"surface\",\"colorbar\":{\"outlinewidth\":0,\"ticks\":\"\"},\"colorscale\":[[0.0,\"#0d0887\"],[0.1111111111111111,\"#46039f\"],[0.2222222222222222,\"#7201a8\"],[0.3333333333333333,\"#9c179e\"],[0.4444444444444444,\"#bd3786\"],[0.5555555555555556,\"#d8576b\"],[0.6666666666666666,\"#ed7953\"],[0.7777777777777778,\"#fb9f3a\"],[0.8888888888888888,\"#fdca26\"],[1.0,\"#f0f921\"]]}],\"mesh3d\":[{\"type\":\"mesh3d\",\"colorbar\":{\"outlinewidth\":0,\"ticks\":\"\"}}],\"scatter\":[{\"fillpattern\":{\"fillmode\":\"overlay\",\"size\":10,\"solidity\":0.2},\"type\":\"scatter\"}],\"parcoords\":[{\"type\":\"parcoords\",\"line\":{\"colorbar\":{\"outlinewidth\":0,\"ticks\":\"\"}}}],\"scatterpolargl\":[{\"type\":\"scatterpolargl\",\"marker\":{\"colorbar\":{\"outlinewidth\":0,\"ticks\":\"\"}}}],\"bar\":[{\"error_x\":{\"color\":\"#2a3f5f\"},\"error_y\":{\"color\":\"#2a3f5f\"},\"marker\":{\"line\":{\"color\":\"#E5ECF6\",\"width\":0.5},\"pattern\":{\"fillmode\":\"overlay\",\"size\":10,\"solidity\":0.2}},\"type\":\"bar\"}],\"scattergeo\":[{\"type\":\"scattergeo\",\"marker\":{\"colorbar\":{\"outlinewidth\":0,\"ticks\":\"\"}}}],\"scatterpolar\":[{\"type\":\"scatterpolar\",\"marker\":{\"colorbar\":{\"outlinewidth\":0,\"ticks\":\"\"}}}],\"histogram\":[{\"marker\":{\"pattern\":{\"fillmode\":\"overlay\",\"size\":10,\"solidity\":0.2}},\"type\":\"histogram\"}],\"scattergl\":[{\"type\":\"scattergl\",\"marker\":{\"colorbar\":{\"outlinewidth\":0,\"ticks\":\"\"}}}],\"scatter3d\":[{\"type\":\"scatter3d\",\"line\":{\"colorbar\":{\"outlinewidth\":0,\"ticks\":\"\"}},\"marker\":{\"colorbar\":{\"outlinewidth\":0,\"ticks\":\"\"}}}],\"scattermapbox\":[{\"type\":\"scattermapbox\",\"marker\":{\"colorbar\":{\"outlinewidth\":0,\"ticks\":\"\"}}}],\"scatterternary\":[{\"type\":\"scatterternary\",\"marker\":{\"colorbar\":{\"outlinewidth\":0,\"ticks\":\"\"}}}],\"scattercarpet\":[{\"type\":\"scattercarpet\",\"marker\":{\"colorbar\":{\"outlinewidth\":0,\"ticks\":\"\"}}}],\"carpet\":[{\"aaxis\":{\"endlinecolor\":\"#2a3f5f\",\"gridcolor\":\"white\",\"linecolor\":\"white\",\"minorgridcolor\":\"white\",\"startlinecolor\":\"#2a3f5f\"},\"baxis\":{\"endlinecolor\":\"#2a3f5f\",\"gridcolor\":\"white\",\"linecolor\":\"white\",\"minorgridcolor\":\"white\",\"startlinecolor\":\"#2a3f5f\"},\"type\":\"carpet\"}],\"table\":[{\"cells\":{\"fill\":{\"color\":\"#EBF0F8\"},\"line\":{\"color\":\"white\"}},\"header\":{\"fill\":{\"color\":\"#C8D4E3\"},\"line\":{\"color\":\"white\"}},\"type\":\"table\"}],\"barpolar\":[{\"marker\":{\"line\":{\"color\":\"#E5ECF6\",\"width\":0.5},\"pattern\":{\"fillmode\":\"overlay\",\"size\":10,\"solidity\":0.2}},\"type\":\"barpolar\"}],\"pie\":[{\"automargin\":true,\"type\":\"pie\"}]},\"layout\":{\"autotypenumbers\":\"strict\",\"colorway\":[\"#636efa\",\"#EF553B\",\"#00cc96\",\"#ab63fa\",\"#FFA15A\",\"#19d3f3\",\"#FF6692\",\"#B6E880\",\"#FF97FF\",\"#FECB52\"],\"font\":{\"color\":\"#2a3f5f\"},\"hovermode\":\"closest\",\"hoverlabel\":{\"align\":\"left\"},\"paper_bgcolor\":\"white\",\"plot_bgcolor\":\"#E5ECF6\",\"polar\":{\"bgcolor\":\"#E5ECF6\",\"angularaxis\":{\"gridcolor\":\"white\",\"linecolor\":\"white\",\"ticks\":\"\"},\"radialaxis\":{\"gridcolor\":\"white\",\"linecolor\":\"white\",\"ticks\":\"\"}},\"ternary\":{\"bgcolor\":\"#E5ECF6\",\"aaxis\":{\"gridcolor\":\"white\",\"linecolor\":\"white\",\"ticks\":\"\"},\"baxis\":{\"gridcolor\":\"white\",\"linecolor\":\"white\",\"ticks\":\"\"},\"caxis\":{\"gridcolor\":\"white\",\"linecolor\":\"white\",\"ticks\":\"\"}},\"coloraxis\":{\"colorbar\":{\"outlinewidth\":0,\"ticks\":\"\"}},\"colorscale\":{\"sequential\":[[0.0,\"#0d0887\"],[0.1111111111111111,\"#46039f\"],[0.2222222222222222,\"#7201a8\"],[0.3333333333333333,\"#9c179e\"],[0.4444444444444444,\"#bd3786\"],[0.5555555555555556,\"#d8576b\"],[0.6666666666666666,\"#ed7953\"],[0.7777777777777778,\"#fb9f3a\"],[0.8888888888888888,\"#fdca26\"],[1.0,\"#f0f921\"]],\"sequentialminus\":[[0.0,\"#0d0887\"],[0.1111111111111111,\"#46039f\"],[0.2222222222222222,\"#7201a8\"],[0.3333333333333333,\"#9c179e\"],[0.4444444444444444,\"#bd3786\"],[0.5555555555555556,\"#d8576b\"],[0.6666666666666666,\"#ed7953\"],[0.7777777777777778,\"#fb9f3a\"],[0.8888888888888888,\"#fdca26\"],[1.0,\"#f0f921\"]],\"diverging\":[[0,\"#8e0152\"],[0.1,\"#c51b7d\"],[0.2,\"#de77ae\"],[0.3,\"#f1b6da\"],[0.4,\"#fde0ef\"],[0.5,\"#f7f7f7\"],[0.6,\"#e6f5d0\"],[0.7,\"#b8e186\"],[0.8,\"#7fbc41\"],[0.9,\"#4d9221\"],[1,\"#276419\"]]},\"xaxis\":{\"gridcolor\":\"white\",\"linecolor\":\"white\",\"ticks\":\"\",\"title\":{\"standoff\":15},\"zerolinecolor\":\"white\",\"automargin\":true,\"zerolinewidth\":2},\"yaxis\":{\"gridcolor\":\"white\",\"linecolor\":\"white\",\"ticks\":\"\",\"title\":{\"standoff\":15},\"zerolinecolor\":\"white\",\"automargin\":true,\"zerolinewidth\":2},\"scene\":{\"xaxis\":{\"backgroundcolor\":\"#E5ECF6\",\"gridcolor\":\"white\",\"linecolor\":\"white\",\"showbackground\":true,\"ticks\":\"\",\"zerolinecolor\":\"white\",\"gridwidth\":2},\"yaxis\":{\"backgroundcolor\":\"#E5ECF6\",\"gridcolor\":\"white\",\"linecolor\":\"white\",\"showbackground\":true,\"ticks\":\"\",\"zerolinecolor\":\"white\",\"gridwidth\":2},\"zaxis\":{\"backgroundcolor\":\"#E5ECF6\",\"gridcolor\":\"white\",\"linecolor\":\"white\",\"showbackground\":true,\"ticks\":\"\",\"zerolinecolor\":\"white\",\"gridwidth\":2}},\"shapedefaults\":{\"line\":{\"color\":\"#2a3f5f\"}},\"annotationdefaults\":{\"arrowcolor\":\"#2a3f5f\",\"arrowhead\":0,\"arrowwidth\":1},\"geo\":{\"bgcolor\":\"white\",\"landcolor\":\"#E5ECF6\",\"subunitcolor\":\"white\",\"showland\":true,\"showlakes\":true,\"lakecolor\":\"white\"},\"title\":{\"x\":0.05},\"mapbox\":{\"style\":\"light\"}}}},                        {\"responsive\": true}                    ).then(function(){\n",
       "                            \n",
       "var gd = document.getElementById('2123ecda-2237-43b0-a21a-5a9f7d4b8a38');\n",
       "var x = new MutationObserver(function (mutations, observer) {{\n",
       "        var display = window.getComputedStyle(gd).display;\n",
       "        if (!display || display === 'none') {{\n",
       "            console.log([gd, 'removed!']);\n",
       "            Plotly.purge(gd);\n",
       "            observer.disconnect();\n",
       "        }}\n",
       "}});\n",
       "\n",
       "// Listen for the removal of the full notebook cells\n",
       "var notebookContainer = gd.closest('#notebook-container');\n",
       "if (notebookContainer) {{\n",
       "    x.observe(notebookContainer, {childList: true});\n",
       "}}\n",
       "\n",
       "// Listen for the clearing of the current output cell\n",
       "var outputEl = gd.closest('.output');\n",
       "if (outputEl) {{\n",
       "    x.observe(outputEl, {childList: true});\n",
       "}}\n",
       "\n",
       "                        })                };                });            </script>        </div>"
      ]
     },
     "metadata": {},
     "output_type": "display_data"
    }
   ],
   "source": [
    "# Plot optimization history\n",
    "vis.plot_optimization_history(study)\n",
    "#The more trials, closer is the objective value to the best value\n",
    "\n"
   ]
  },
  {
   "cell_type": "code",
   "execution_count": 28,
   "id": "fcda69bc-04b9-4b64-9e08-6ccf35019149",
   "metadata": {},
   "outputs": [
    {
     "data": {
      "application/vnd.plotly.v1+json": {
       "config": {
        "plotlyServerURL": "https://plot.ly"
       },
       "data": [
        {
         "marker": {
          "color": [
           0,
           1,
           2,
           3,
           4,
           5,
           6,
           7,
           8,
           9,
           10,
           11,
           12,
           13,
           14,
           15,
           16,
           17,
           18,
           19,
           20,
           21,
           22,
           23,
           24,
           25,
           26,
           27,
           28,
           29,
           30,
           31,
           32,
           33,
           34,
           35,
           36,
           37,
           38,
           39,
           40,
           41,
           42,
           43,
           44
          ],
          "colorbar": {
           "title": {
            "text": "Trial"
           },
           "x": 1,
           "xpad": 40
          },
          "colorscale": [
           [
            0,
            "rgb(247,251,255)"
           ],
           [
            0.125,
            "rgb(222,235,247)"
           ],
           [
            0.25,
            "rgb(198,219,239)"
           ],
           [
            0.375,
            "rgb(158,202,225)"
           ],
           [
            0.5,
            "rgb(107,174,214)"
           ],
           [
            0.625,
            "rgb(66,146,198)"
           ],
           [
            0.75,
            "rgb(33,113,181)"
           ],
           [
            0.875,
            "rgb(8,81,156)"
           ],
           [
            1,
            "rgb(8,48,107)"
           ]
          ],
          "line": {
           "color": "Grey",
           "width": 0.5
          },
          "showscale": true
         },
         "mode": "markers",
         "name": "Feasible Trial",
         "showlegend": false,
         "type": "scatter",
         "x": [
          30,
          19,
          14,
          18,
          40,
          36,
          34,
          47,
          36,
          16,
          25,
          25,
          24,
          24,
          10,
          24,
          26,
          30,
          21,
          43,
          12,
          27,
          21,
          30,
          32,
          28,
          29,
          29,
          38,
          42,
          38,
          28,
          34,
          31,
          33,
          38,
          50,
          39,
          44,
          37,
          41,
          48,
          45,
          49,
          46
         ],
         "xaxis": "x",
         "y": [
          0.9189892557803354,
          0.9093698031637076,
          0.9105531675128846,
          0.9157055213657296,
          0.9037133385845879,
          0.9064976172989647,
          0.9138641484798024,
          0.9154464694672898,
          0.9176569968033308,
          0.9104625666968472,
          0.9190949415423347,
          0.9190704261209405,
          0.9190886077199814,
          0.9168044986359491,
          0.8920442965904719,
          0.9179707655239449,
          0.9169321198021304,
          0.9164571091065035,
          0.9182657509358989,
          0.9132521319335056,
          0.9052528606856146,
          0.9190676495527578,
          0.9188563355112735,
          0.9190957224912776,
          0.9168595525026241,
          0.9208474288780399,
          0.9195253973723785,
          0.9204655783408834,
          0.9204933279768776,
          0.9191601428994913,
          0.9192576911190633,
          0.9194590422345709,
          0.919248387096431,
          0.9195795845162884,
          0.9195182427540397,
          0.9196347366821209,
          0.9196315757044251,
          0.9177856348020106,
          0.9190609581108193,
          0.9186378816099483,
          0.9189421444878996,
          0.919631575694192,
          0.9192844849634036,
          0.9190609581108193,
          0.9193874668458518
         ],
         "yaxis": "y"
        },
        {
         "marker": {
          "color": [
           0,
           1,
           2,
           3,
           4,
           5,
           6,
           7,
           8,
           9,
           10,
           11,
           12,
           13,
           14,
           15,
           16,
           17,
           18,
           19,
           20,
           21,
           22,
           23,
           24,
           25,
           26,
           27,
           28,
           29,
           30,
           31,
           32,
           33,
           34,
           35,
           36,
           37,
           38,
           39,
           40,
           41,
           42,
           43,
           44
          ],
          "colorbar": {
           "title": {
            "text": "Trial"
           },
           "x": 1,
           "xpad": 40
          },
          "colorscale": [
           [
            0,
            "rgb(247,251,255)"
           ],
           [
            0.125,
            "rgb(222,235,247)"
           ],
           [
            0.25,
            "rgb(198,219,239)"
           ],
           [
            0.375,
            "rgb(158,202,225)"
           ],
           [
            0.5,
            "rgb(107,174,214)"
           ],
           [
            0.625,
            "rgb(66,146,198)"
           ],
           [
            0.75,
            "rgb(33,113,181)"
           ],
           [
            0.875,
            "rgb(8,81,156)"
           ],
           [
            1,
            "rgb(8,48,107)"
           ]
          ],
          "line": {
           "color": "Grey",
           "width": 0.5
          },
          "showscale": false
         },
         "mode": "markers",
         "name": "Feasible Trial",
         "showlegend": false,
         "type": "scatter",
         "x": [
          "sqrt",
          "log2",
          "sqrt",
          "sqrt",
          "log2",
          "sqrt",
          "sqrt",
          "sqrt",
          "log2",
          "log2",
          "sqrt",
          "sqrt",
          "sqrt",
          "sqrt",
          "sqrt",
          "sqrt",
          "sqrt",
          "sqrt",
          "log2",
          "sqrt",
          "sqrt",
          "sqrt",
          "sqrt",
          "sqrt",
          "sqrt",
          "sqrt",
          "log2",
          "log2",
          "log2",
          "log2",
          "log2",
          "log2",
          "log2",
          "log2",
          "log2",
          "log2",
          "log2",
          "log2",
          "log2",
          "log2",
          "log2",
          "log2",
          "log2",
          "log2",
          "log2"
         ],
         "xaxis": "x2",
         "y": [
          0.9189892557803354,
          0.9093698031637076,
          0.9105531675128846,
          0.9157055213657296,
          0.9037133385845879,
          0.9064976172989647,
          0.9138641484798024,
          0.9154464694672898,
          0.9176569968033308,
          0.9104625666968472,
          0.9190949415423347,
          0.9190704261209405,
          0.9190886077199814,
          0.9168044986359491,
          0.8920442965904719,
          0.9179707655239449,
          0.9169321198021304,
          0.9164571091065035,
          0.9182657509358989,
          0.9132521319335056,
          0.9052528606856146,
          0.9190676495527578,
          0.9188563355112735,
          0.9190957224912776,
          0.9168595525026241,
          0.9208474288780399,
          0.9195253973723785,
          0.9204655783408834,
          0.9204933279768776,
          0.9191601428994913,
          0.9192576911190633,
          0.9194590422345709,
          0.919248387096431,
          0.9195795845162884,
          0.9195182427540397,
          0.9196347366821209,
          0.9196315757044251,
          0.9177856348020106,
          0.9190609581108193,
          0.9186378816099483,
          0.9189421444878996,
          0.919631575694192,
          0.9192844849634036,
          0.9190609581108193,
          0.9193874668458518
         ],
         "yaxis": "y2"
        },
        {
         "marker": {
          "color": [
           0,
           1,
           2,
           3,
           4,
           5,
           6,
           7,
           8,
           9,
           10,
           11,
           12,
           13,
           14,
           15,
           16,
           17,
           18,
           19,
           20,
           21,
           22,
           23,
           24,
           25,
           26,
           27,
           28,
           29,
           30,
           31,
           32,
           33,
           34,
           35,
           36,
           37,
           38,
           39,
           40,
           41,
           42,
           43,
           44
          ],
          "colorbar": {
           "title": {
            "text": "Trial"
           },
           "x": 1,
           "xpad": 40
          },
          "colorscale": [
           [
            0,
            "rgb(247,251,255)"
           ],
           [
            0.125,
            "rgb(222,235,247)"
           ],
           [
            0.25,
            "rgb(198,219,239)"
           ],
           [
            0.375,
            "rgb(158,202,225)"
           ],
           [
            0.5,
            "rgb(107,174,214)"
           ],
           [
            0.625,
            "rgb(66,146,198)"
           ],
           [
            0.75,
            "rgb(33,113,181)"
           ],
           [
            0.875,
            "rgb(8,81,156)"
           ],
           [
            1,
            "rgb(8,48,107)"
           ]
          ],
          "line": {
           "color": "Grey",
           "width": 0.5
          },
          "showscale": false
         },
         "mode": "markers",
         "name": "Feasible Trial",
         "showlegend": false,
         "type": "scatter",
         "x": [
          737,
          457,
          844,
          519,
          336,
          273,
          457,
          942,
          920,
          820,
          690,
          692,
          678,
          605,
          620,
          747,
          551,
          689,
          823,
          425,
          565,
          687,
          685,
          771,
          764,
          881,
          884,
          987,
          990,
          990,
          957,
          883,
          998,
          896,
          887,
          919,
          950,
          855,
          994,
          935,
          817,
          947,
          959,
          916,
          971
         ],
         "xaxis": "x3",
         "y": [
          0.9189892557803354,
          0.9093698031637076,
          0.9105531675128846,
          0.9157055213657296,
          0.9037133385845879,
          0.9064976172989647,
          0.9138641484798024,
          0.9154464694672898,
          0.9176569968033308,
          0.9104625666968472,
          0.9190949415423347,
          0.9190704261209405,
          0.9190886077199814,
          0.9168044986359491,
          0.8920442965904719,
          0.9179707655239449,
          0.9169321198021304,
          0.9164571091065035,
          0.9182657509358989,
          0.9132521319335056,
          0.9052528606856146,
          0.9190676495527578,
          0.9188563355112735,
          0.9190957224912776,
          0.9168595525026241,
          0.9208474288780399,
          0.9195253973723785,
          0.9204655783408834,
          0.9204933279768776,
          0.9191601428994913,
          0.9192576911190633,
          0.9194590422345709,
          0.919248387096431,
          0.9195795845162884,
          0.9195182427540397,
          0.9196347366821209,
          0.9196315757044251,
          0.9177856348020106,
          0.9190609581108193,
          0.9186378816099483,
          0.9189421444878996,
          0.919631575694192,
          0.9192844849634036,
          0.9190609581108193,
          0.9193874668458518
         ],
         "yaxis": "y3"
        },
        {
         "marker": {
          "color": [
           0,
           1,
           2,
           3,
           4,
           5,
           6,
           7,
           8,
           9,
           10,
           11,
           12,
           13,
           14,
           15,
           16,
           17,
           18,
           19,
           20,
           21,
           22,
           23,
           24,
           25,
           26,
           27,
           28,
           29,
           30,
           31,
           32,
           33,
           34,
           35,
           36,
           37,
           38,
           39,
           40,
           41,
           42,
           43,
           44
          ],
          "colorbar": {
           "title": {
            "text": "Trial"
           },
           "x": 1,
           "xpad": 40
          },
          "colorscale": [
           [
            0,
            "rgb(247,251,255)"
           ],
           [
            0.125,
            "rgb(222,235,247)"
           ],
           [
            0.25,
            "rgb(198,219,239)"
           ],
           [
            0.375,
            "rgb(158,202,225)"
           ],
           [
            0.5,
            "rgb(107,174,214)"
           ],
           [
            0.625,
            "rgb(66,146,198)"
           ],
           [
            0.75,
            "rgb(33,113,181)"
           ],
           [
            0.875,
            "rgb(8,81,156)"
           ],
           [
            1,
            "rgb(8,48,107)"
           ]
          ],
          "line": {
           "color": "Grey",
           "width": 0.5
          },
          "showscale": false
         },
         "mode": "markers",
         "name": "Feasible Trial",
         "showlegend": false,
         "type": "scatter",
         "x": [
          6,
          6,
          16,
          8,
          4,
          14,
          6,
          16,
          11,
          16,
          10,
          11,
          11,
          13,
          9,
          12,
          9,
          14,
          10,
          8,
          12,
          11,
          10,
          11,
          13,
          8,
          7,
          7,
          7,
          4,
          6,
          7,
          5,
          7,
          7,
          8,
          8,
          5,
          9,
          5,
          8,
          8,
          6,
          9,
          6
         ],
         "xaxis": "x4",
         "y": [
          0.9189892557803354,
          0.9093698031637076,
          0.9105531675128846,
          0.9157055213657296,
          0.9037133385845879,
          0.9064976172989647,
          0.9138641484798024,
          0.9154464694672898,
          0.9176569968033308,
          0.9104625666968472,
          0.9190949415423347,
          0.9190704261209405,
          0.9190886077199814,
          0.9168044986359491,
          0.8920442965904719,
          0.9179707655239449,
          0.9169321198021304,
          0.9164571091065035,
          0.9182657509358989,
          0.9132521319335056,
          0.9052528606856146,
          0.9190676495527578,
          0.9188563355112735,
          0.9190957224912776,
          0.9168595525026241,
          0.9208474288780399,
          0.9195253973723785,
          0.9204655783408834,
          0.9204933279768776,
          0.9191601428994913,
          0.9192576911190633,
          0.9194590422345709,
          0.919248387096431,
          0.9195795845162884,
          0.9195182427540397,
          0.9196347366821209,
          0.9196315757044251,
          0.9177856348020106,
          0.9190609581108193,
          0.9186378816099483,
          0.9189421444878996,
          0.919631575694192,
          0.9192844849634036,
          0.9190609581108193,
          0.9193874668458518
         ],
         "yaxis": "y4"
        }
       ],
       "layout": {
        "template": {
         "data": {
          "bar": [
           {
            "error_x": {
             "color": "#2a3f5f"
            },
            "error_y": {
             "color": "#2a3f5f"
            },
            "marker": {
             "line": {
              "color": "#E5ECF6",
              "width": 0.5
             },
             "pattern": {
              "fillmode": "overlay",
              "size": 10,
              "solidity": 0.2
             }
            },
            "type": "bar"
           }
          ],
          "barpolar": [
           {
            "marker": {
             "line": {
              "color": "#E5ECF6",
              "width": 0.5
             },
             "pattern": {
              "fillmode": "overlay",
              "size": 10,
              "solidity": 0.2
             }
            },
            "type": "barpolar"
           }
          ],
          "carpet": [
           {
            "aaxis": {
             "endlinecolor": "#2a3f5f",
             "gridcolor": "white",
             "linecolor": "white",
             "minorgridcolor": "white",
             "startlinecolor": "#2a3f5f"
            },
            "baxis": {
             "endlinecolor": "#2a3f5f",
             "gridcolor": "white",
             "linecolor": "white",
             "minorgridcolor": "white",
             "startlinecolor": "#2a3f5f"
            },
            "type": "carpet"
           }
          ],
          "choropleth": [
           {
            "colorbar": {
             "outlinewidth": 0,
             "ticks": ""
            },
            "type": "choropleth"
           }
          ],
          "contour": [
           {
            "colorbar": {
             "outlinewidth": 0,
             "ticks": ""
            },
            "colorscale": [
             [
              0,
              "#0d0887"
             ],
             [
              0.1111111111111111,
              "#46039f"
             ],
             [
              0.2222222222222222,
              "#7201a8"
             ],
             [
              0.3333333333333333,
              "#9c179e"
             ],
             [
              0.4444444444444444,
              "#bd3786"
             ],
             [
              0.5555555555555556,
              "#d8576b"
             ],
             [
              0.6666666666666666,
              "#ed7953"
             ],
             [
              0.7777777777777778,
              "#fb9f3a"
             ],
             [
              0.8888888888888888,
              "#fdca26"
             ],
             [
              1,
              "#f0f921"
             ]
            ],
            "type": "contour"
           }
          ],
          "contourcarpet": [
           {
            "colorbar": {
             "outlinewidth": 0,
             "ticks": ""
            },
            "type": "contourcarpet"
           }
          ],
          "heatmap": [
           {
            "colorbar": {
             "outlinewidth": 0,
             "ticks": ""
            },
            "colorscale": [
             [
              0,
              "#0d0887"
             ],
             [
              0.1111111111111111,
              "#46039f"
             ],
             [
              0.2222222222222222,
              "#7201a8"
             ],
             [
              0.3333333333333333,
              "#9c179e"
             ],
             [
              0.4444444444444444,
              "#bd3786"
             ],
             [
              0.5555555555555556,
              "#d8576b"
             ],
             [
              0.6666666666666666,
              "#ed7953"
             ],
             [
              0.7777777777777778,
              "#fb9f3a"
             ],
             [
              0.8888888888888888,
              "#fdca26"
             ],
             [
              1,
              "#f0f921"
             ]
            ],
            "type": "heatmap"
           }
          ],
          "heatmapgl": [
           {
            "colorbar": {
             "outlinewidth": 0,
             "ticks": ""
            },
            "colorscale": [
             [
              0,
              "#0d0887"
             ],
             [
              0.1111111111111111,
              "#46039f"
             ],
             [
              0.2222222222222222,
              "#7201a8"
             ],
             [
              0.3333333333333333,
              "#9c179e"
             ],
             [
              0.4444444444444444,
              "#bd3786"
             ],
             [
              0.5555555555555556,
              "#d8576b"
             ],
             [
              0.6666666666666666,
              "#ed7953"
             ],
             [
              0.7777777777777778,
              "#fb9f3a"
             ],
             [
              0.8888888888888888,
              "#fdca26"
             ],
             [
              1,
              "#f0f921"
             ]
            ],
            "type": "heatmapgl"
           }
          ],
          "histogram": [
           {
            "marker": {
             "pattern": {
              "fillmode": "overlay",
              "size": 10,
              "solidity": 0.2
             }
            },
            "type": "histogram"
           }
          ],
          "histogram2d": [
           {
            "colorbar": {
             "outlinewidth": 0,
             "ticks": ""
            },
            "colorscale": [
             [
              0,
              "#0d0887"
             ],
             [
              0.1111111111111111,
              "#46039f"
             ],
             [
              0.2222222222222222,
              "#7201a8"
             ],
             [
              0.3333333333333333,
              "#9c179e"
             ],
             [
              0.4444444444444444,
              "#bd3786"
             ],
             [
              0.5555555555555556,
              "#d8576b"
             ],
             [
              0.6666666666666666,
              "#ed7953"
             ],
             [
              0.7777777777777778,
              "#fb9f3a"
             ],
             [
              0.8888888888888888,
              "#fdca26"
             ],
             [
              1,
              "#f0f921"
             ]
            ],
            "type": "histogram2d"
           }
          ],
          "histogram2dcontour": [
           {
            "colorbar": {
             "outlinewidth": 0,
             "ticks": ""
            },
            "colorscale": [
             [
              0,
              "#0d0887"
             ],
             [
              0.1111111111111111,
              "#46039f"
             ],
             [
              0.2222222222222222,
              "#7201a8"
             ],
             [
              0.3333333333333333,
              "#9c179e"
             ],
             [
              0.4444444444444444,
              "#bd3786"
             ],
             [
              0.5555555555555556,
              "#d8576b"
             ],
             [
              0.6666666666666666,
              "#ed7953"
             ],
             [
              0.7777777777777778,
              "#fb9f3a"
             ],
             [
              0.8888888888888888,
              "#fdca26"
             ],
             [
              1,
              "#f0f921"
             ]
            ],
            "type": "histogram2dcontour"
           }
          ],
          "mesh3d": [
           {
            "colorbar": {
             "outlinewidth": 0,
             "ticks": ""
            },
            "type": "mesh3d"
           }
          ],
          "parcoords": [
           {
            "line": {
             "colorbar": {
              "outlinewidth": 0,
              "ticks": ""
             }
            },
            "type": "parcoords"
           }
          ],
          "pie": [
           {
            "automargin": true,
            "type": "pie"
           }
          ],
          "scatter": [
           {
            "fillpattern": {
             "fillmode": "overlay",
             "size": 10,
             "solidity": 0.2
            },
            "type": "scatter"
           }
          ],
          "scatter3d": [
           {
            "line": {
             "colorbar": {
              "outlinewidth": 0,
              "ticks": ""
             }
            },
            "marker": {
             "colorbar": {
              "outlinewidth": 0,
              "ticks": ""
             }
            },
            "type": "scatter3d"
           }
          ],
          "scattercarpet": [
           {
            "marker": {
             "colorbar": {
              "outlinewidth": 0,
              "ticks": ""
             }
            },
            "type": "scattercarpet"
           }
          ],
          "scattergeo": [
           {
            "marker": {
             "colorbar": {
              "outlinewidth": 0,
              "ticks": ""
             }
            },
            "type": "scattergeo"
           }
          ],
          "scattergl": [
           {
            "marker": {
             "colorbar": {
              "outlinewidth": 0,
              "ticks": ""
             }
            },
            "type": "scattergl"
           }
          ],
          "scattermapbox": [
           {
            "marker": {
             "colorbar": {
              "outlinewidth": 0,
              "ticks": ""
             }
            },
            "type": "scattermapbox"
           }
          ],
          "scatterpolar": [
           {
            "marker": {
             "colorbar": {
              "outlinewidth": 0,
              "ticks": ""
             }
            },
            "type": "scatterpolar"
           }
          ],
          "scatterpolargl": [
           {
            "marker": {
             "colorbar": {
              "outlinewidth": 0,
              "ticks": ""
             }
            },
            "type": "scatterpolargl"
           }
          ],
          "scatterternary": [
           {
            "marker": {
             "colorbar": {
              "outlinewidth": 0,
              "ticks": ""
             }
            },
            "type": "scatterternary"
           }
          ],
          "surface": [
           {
            "colorbar": {
             "outlinewidth": 0,
             "ticks": ""
            },
            "colorscale": [
             [
              0,
              "#0d0887"
             ],
             [
              0.1111111111111111,
              "#46039f"
             ],
             [
              0.2222222222222222,
              "#7201a8"
             ],
             [
              0.3333333333333333,
              "#9c179e"
             ],
             [
              0.4444444444444444,
              "#bd3786"
             ],
             [
              0.5555555555555556,
              "#d8576b"
             ],
             [
              0.6666666666666666,
              "#ed7953"
             ],
             [
              0.7777777777777778,
              "#fb9f3a"
             ],
             [
              0.8888888888888888,
              "#fdca26"
             ],
             [
              1,
              "#f0f921"
             ]
            ],
            "type": "surface"
           }
          ],
          "table": [
           {
            "cells": {
             "fill": {
              "color": "#EBF0F8"
             },
             "line": {
              "color": "white"
             }
            },
            "header": {
             "fill": {
              "color": "#C8D4E3"
             },
             "line": {
              "color": "white"
             }
            },
            "type": "table"
           }
          ]
         },
         "layout": {
          "annotationdefaults": {
           "arrowcolor": "#2a3f5f",
           "arrowhead": 0,
           "arrowwidth": 1
          },
          "autotypenumbers": "strict",
          "coloraxis": {
           "colorbar": {
            "outlinewidth": 0,
            "ticks": ""
           }
          },
          "colorscale": {
           "diverging": [
            [
             0,
             "#8e0152"
            ],
            [
             0.1,
             "#c51b7d"
            ],
            [
             0.2,
             "#de77ae"
            ],
            [
             0.3,
             "#f1b6da"
            ],
            [
             0.4,
             "#fde0ef"
            ],
            [
             0.5,
             "#f7f7f7"
            ],
            [
             0.6,
             "#e6f5d0"
            ],
            [
             0.7,
             "#b8e186"
            ],
            [
             0.8,
             "#7fbc41"
            ],
            [
             0.9,
             "#4d9221"
            ],
            [
             1,
             "#276419"
            ]
           ],
           "sequential": [
            [
             0,
             "#0d0887"
            ],
            [
             0.1111111111111111,
             "#46039f"
            ],
            [
             0.2222222222222222,
             "#7201a8"
            ],
            [
             0.3333333333333333,
             "#9c179e"
            ],
            [
             0.4444444444444444,
             "#bd3786"
            ],
            [
             0.5555555555555556,
             "#d8576b"
            ],
            [
             0.6666666666666666,
             "#ed7953"
            ],
            [
             0.7777777777777778,
             "#fb9f3a"
            ],
            [
             0.8888888888888888,
             "#fdca26"
            ],
            [
             1,
             "#f0f921"
            ]
           ],
           "sequentialminus": [
            [
             0,
             "#0d0887"
            ],
            [
             0.1111111111111111,
             "#46039f"
            ],
            [
             0.2222222222222222,
             "#7201a8"
            ],
            [
             0.3333333333333333,
             "#9c179e"
            ],
            [
             0.4444444444444444,
             "#bd3786"
            ],
            [
             0.5555555555555556,
             "#d8576b"
            ],
            [
             0.6666666666666666,
             "#ed7953"
            ],
            [
             0.7777777777777778,
             "#fb9f3a"
            ],
            [
             0.8888888888888888,
             "#fdca26"
            ],
            [
             1,
             "#f0f921"
            ]
           ]
          },
          "colorway": [
           "#636efa",
           "#EF553B",
           "#00cc96",
           "#ab63fa",
           "#FFA15A",
           "#19d3f3",
           "#FF6692",
           "#B6E880",
           "#FF97FF",
           "#FECB52"
          ],
          "font": {
           "color": "#2a3f5f"
          },
          "geo": {
           "bgcolor": "white",
           "lakecolor": "white",
           "landcolor": "#E5ECF6",
           "showlakes": true,
           "showland": true,
           "subunitcolor": "white"
          },
          "hoverlabel": {
           "align": "left"
          },
          "hovermode": "closest",
          "mapbox": {
           "style": "light"
          },
          "paper_bgcolor": "white",
          "plot_bgcolor": "#E5ECF6",
          "polar": {
           "angularaxis": {
            "gridcolor": "white",
            "linecolor": "white",
            "ticks": ""
           },
           "bgcolor": "#E5ECF6",
           "radialaxis": {
            "gridcolor": "white",
            "linecolor": "white",
            "ticks": ""
           }
          },
          "scene": {
           "xaxis": {
            "backgroundcolor": "#E5ECF6",
            "gridcolor": "white",
            "gridwidth": 2,
            "linecolor": "white",
            "showbackground": true,
            "ticks": "",
            "zerolinecolor": "white"
           },
           "yaxis": {
            "backgroundcolor": "#E5ECF6",
            "gridcolor": "white",
            "gridwidth": 2,
            "linecolor": "white",
            "showbackground": true,
            "ticks": "",
            "zerolinecolor": "white"
           },
           "zaxis": {
            "backgroundcolor": "#E5ECF6",
            "gridcolor": "white",
            "gridwidth": 2,
            "linecolor": "white",
            "showbackground": true,
            "ticks": "",
            "zerolinecolor": "white"
           }
          },
          "shapedefaults": {
           "line": {
            "color": "#2a3f5f"
           }
          },
          "ternary": {
           "aaxis": {
            "gridcolor": "white",
            "linecolor": "white",
            "ticks": ""
           },
           "baxis": {
            "gridcolor": "white",
            "linecolor": "white",
            "ticks": ""
           },
           "bgcolor": "#E5ECF6",
           "caxis": {
            "gridcolor": "white",
            "linecolor": "white",
            "ticks": ""
           }
          },
          "title": {
           "x": 0.05
          },
          "xaxis": {
           "automargin": true,
           "gridcolor": "white",
           "linecolor": "white",
           "ticks": "",
           "title": {
            "standoff": 15
           },
           "zerolinecolor": "white",
           "zerolinewidth": 2
          },
          "yaxis": {
           "automargin": true,
           "gridcolor": "white",
           "linecolor": "white",
           "ticks": "",
           "title": {
            "standoff": 15
           },
           "zerolinecolor": "white",
           "zerolinewidth": 2
          }
         }
        },
        "title": {
         "text": "Slice Plot"
        },
        "width": 1200,
        "xaxis": {
         "anchor": "y",
         "domain": [
          0,
          0.2125
         ],
         "title": {
          "text": "max_depth"
         }
        },
        "xaxis2": {
         "anchor": "y2",
         "categoryarray": [
          "sqrt",
          "log2"
         ],
         "categoryorder": "array",
         "domain": [
          0.2625,
          0.475
         ],
         "title": {
          "text": "max_features"
         },
         "type": "category"
        },
        "xaxis3": {
         "anchor": "y3",
         "domain": [
          0.525,
          0.7375
         ],
         "title": {
          "text": "max_leaf_nodes"
         }
        },
        "xaxis4": {
         "anchor": "y4",
         "domain": [
          0.7875,
          1
         ],
         "title": {
          "text": "min_samples_split"
         }
        },
        "yaxis": {
         "anchor": "x",
         "domain": [
          0,
          1
         ],
         "title": {
          "text": "Objective Value"
         }
        },
        "yaxis2": {
         "anchor": "x2",
         "domain": [
          0,
          1
         ],
         "matches": "y",
         "showticklabels": false
        },
        "yaxis3": {
         "anchor": "x3",
         "domain": [
          0,
          1
         ],
         "matches": "y",
         "showticklabels": false
        },
        "yaxis4": {
         "anchor": "x4",
         "domain": [
          0,
          1
         ],
         "matches": "y",
         "showticklabels": false
        }
       }
      },
      "image/png": "[encoded data removed]",
      "text/html": [
       "<div>                            <div id=\"1207b5f6-05bc-4b28-b328-875d1b389222\" class=\"plotly-graph-div\" style=\"height:525px; width:1200px;\"></div>            <script type=\"text/javascript\">                require([\"plotly\"], function(Plotly) {                    window.PLOTLYENV=window.PLOTLYENV || {};                                    if (document.getElementById(\"1207b5f6-05bc-4b28-b328-875d1b389222\")) {                    Plotly.newPlot(                        \"1207b5f6-05bc-4b28-b328-875d1b389222\",                        [{\"marker\":{\"color\":[0,1,2,3,4,5,6,7,8,9,10,11,12,13,14,15,16,17,18,19,20,21,22,23,24,25,26,27,28,29,30,31,32,33,34,35,36,37,38,39,40,41,42,43,44],\"colorbar\":{\"title\":{\"text\":\"Trial\"},\"x\":1.0,\"xpad\":40},\"colorscale\":[[0.0,\"rgb(247,251,255)\"],[0.125,\"rgb(222,235,247)\"],[0.25,\"rgb(198,219,239)\"],[0.375,\"rgb(158,202,225)\"],[0.5,\"rgb(107,174,214)\"],[0.625,\"rgb(66,146,198)\"],[0.75,\"rgb(33,113,181)\"],[0.875,\"rgb(8,81,156)\"],[1.0,\"rgb(8,48,107)\"]],\"line\":{\"color\":\"Grey\",\"width\":0.5},\"showscale\":true},\"mode\":\"markers\",\"name\":\"Feasible Trial\",\"showlegend\":false,\"x\":[30,19,14,18,40,36,34,47,36,16,25,25,24,24,10,24,26,30,21,43,12,27,21,30,32,28,29,29,38,42,38,28,34,31,33,38,50,39,44,37,41,48,45,49,46],\"y\":[0.9189892557803354,0.9093698031637076,0.9105531675128846,0.9157055213657296,0.9037133385845879,0.9064976172989647,0.9138641484798024,0.9154464694672898,0.9176569968033308,0.9104625666968472,0.9190949415423347,0.9190704261209405,0.9190886077199814,0.9168044986359491,0.8920442965904719,0.9179707655239449,0.9169321198021304,0.9164571091065035,0.9182657509358989,0.9132521319335056,0.9052528606856146,0.9190676495527578,0.9188563355112735,0.9190957224912776,0.9168595525026241,0.9208474288780399,0.9195253973723785,0.9204655783408834,0.9204933279768776,0.9191601428994913,0.9192576911190633,0.9194590422345709,0.919248387096431,0.9195795845162884,0.9195182427540397,0.9196347366821209,0.9196315757044251,0.9177856348020106,0.9190609581108193,0.9186378816099483,0.9189421444878996,0.919631575694192,0.9192844849634036,0.9190609581108193,0.9193874668458518],\"type\":\"scatter\",\"xaxis\":\"x\",\"yaxis\":\"y\"},{\"marker\":{\"color\":[0,1,2,3,4,5,6,7,8,9,10,11,12,13,14,15,16,17,18,19,20,21,22,23,24,25,26,27,28,29,30,31,32,33,34,35,36,37,38,39,40,41,42,43,44],\"colorbar\":{\"title\":{\"text\":\"Trial\"},\"x\":1.0,\"xpad\":40},\"colorscale\":[[0.0,\"rgb(247,251,255)\"],[0.125,\"rgb(222,235,247)\"],[0.25,\"rgb(198,219,239)\"],[0.375,\"rgb(158,202,225)\"],[0.5,\"rgb(107,174,214)\"],[0.625,\"rgb(66,146,198)\"],[0.75,\"rgb(33,113,181)\"],[0.875,\"rgb(8,81,156)\"],[1.0,\"rgb(8,48,107)\"]],\"line\":{\"color\":\"Grey\",\"width\":0.5},\"showscale\":false},\"mode\":\"markers\",\"name\":\"Feasible Trial\",\"showlegend\":false,\"x\":[\"sqrt\",\"log2\",\"sqrt\",\"sqrt\",\"log2\",\"sqrt\",\"sqrt\",\"sqrt\",\"log2\",\"log2\",\"sqrt\",\"sqrt\",\"sqrt\",\"sqrt\",\"sqrt\",\"sqrt\",\"sqrt\",\"sqrt\",\"log2\",\"sqrt\",\"sqrt\",\"sqrt\",\"sqrt\",\"sqrt\",\"sqrt\",\"sqrt\",\"log2\",\"log2\",\"log2\",\"log2\",\"log2\",\"log2\",\"log2\",\"log2\",\"log2\",\"log2\",\"log2\",\"log2\",\"log2\",\"log2\",\"log2\",\"log2\",\"log2\",\"log2\",\"log2\"],\"y\":[0.9189892557803354,0.9093698031637076,0.9105531675128846,0.9157055213657296,0.9037133385845879,0.9064976172989647,0.9138641484798024,0.9154464694672898,0.9176569968033308,0.9104625666968472,0.9190949415423347,0.9190704261209405,0.9190886077199814,0.9168044986359491,0.8920442965904719,0.9179707655239449,0.9169321198021304,0.9164571091065035,0.9182657509358989,0.9132521319335056,0.9052528606856146,0.9190676495527578,0.9188563355112735,0.9190957224912776,0.9168595525026241,0.9208474288780399,0.9195253973723785,0.9204655783408834,0.9204933279768776,0.9191601428994913,0.9192576911190633,0.9194590422345709,0.919248387096431,0.9195795845162884,0.9195182427540397,0.9196347366821209,0.9196315757044251,0.9177856348020106,0.9190609581108193,0.9186378816099483,0.9189421444878996,0.919631575694192,0.9192844849634036,0.9190609581108193,0.9193874668458518],\"type\":\"scatter\",\"xaxis\":\"x2\",\"yaxis\":\"y2\"},{\"marker\":{\"color\":[0,1,2,3,4,5,6,7,8,9,10,11,12,13,14,15,16,17,18,19,20,21,22,23,24,25,26,27,28,29,30,31,32,33,34,35,36,37,38,39,40,41,42,43,44],\"colorbar\":{\"title\":{\"text\":\"Trial\"},\"x\":1.0,\"xpad\":40},\"colorscale\":[[0.0,\"rgb(247,251,255)\"],[0.125,\"rgb(222,235,247)\"],[0.25,\"rgb(198,219,239)\"],[0.375,\"rgb(158,202,225)\"],[0.5,\"rgb(107,174,214)\"],[0.625,\"rgb(66,146,198)\"],[0.75,\"rgb(33,113,181)\"],[0.875,\"rgb(8,81,156)\"],[1.0,\"rgb(8,48,107)\"]],\"line\":{\"color\":\"Grey\",\"width\":0.5},\"showscale\":false},\"mode\":\"markers\",\"name\":\"Feasible Trial\",\"showlegend\":false,\"x\":[737,457,844,519,336,273,457,942,920,820,690,692,678,605,620,747,551,689,823,425,565,687,685,771,764,881,884,987,990,990,957,883,998,896,887,919,950,855,994,935,817,947,959,916,971],\"y\":[0.9189892557803354,0.9093698031637076,0.9105531675128846,0.9157055213657296,0.9037133385845879,0.9064976172989647,0.9138641484798024,0.9154464694672898,0.9176569968033308,0.9104625666968472,0.9190949415423347,0.9190704261209405,0.9190886077199814,0.9168044986359491,0.8920442965904719,0.9179707655239449,0.9169321198021304,0.9164571091065035,0.9182657509358989,0.9132521319335056,0.9052528606856146,0.9190676495527578,0.9188563355112735,0.9190957224912776,0.9168595525026241,0.9208474288780399,0.9195253973723785,0.9204655783408834,0.9204933279768776,0.9191601428994913,0.9192576911190633,0.9194590422345709,0.919248387096431,0.9195795845162884,0.9195182427540397,0.9196347366821209,0.9196315757044251,0.9177856348020106,0.9190609581108193,0.9186378816099483,0.9189421444878996,0.919631575694192,0.9192844849634036,0.9190609581108193,0.9193874668458518],\"type\":\"scatter\",\"xaxis\":\"x3\",\"yaxis\":\"y3\"},{\"marker\":{\"color\":[0,1,2,3,4,5,6,7,8,9,10,11,12,13,14,15,16,17,18,19,20,21,22,23,24,25,26,27,28,29,30,31,32,33,34,35,36,37,38,39,40,41,42,43,44],\"colorbar\":{\"title\":{\"text\":\"Trial\"},\"x\":1.0,\"xpad\":40},\"colorscale\":[[0.0,\"rgb(247,251,255)\"],[0.125,\"rgb(222,235,247)\"],[0.25,\"rgb(198,219,239)\"],[0.375,\"rgb(158,202,225)\"],[0.5,\"rgb(107,174,214)\"],[0.625,\"rgb(66,146,198)\"],[0.75,\"rgb(33,113,181)\"],[0.875,\"rgb(8,81,156)\"],[1.0,\"rgb(8,48,107)\"]],\"line\":{\"color\":\"Grey\",\"width\":0.5},\"showscale\":false},\"mode\":\"markers\",\"name\":\"Feasible Trial\",\"showlegend\":false,\"x\":[6,6,16,8,4,14,6,16,11,16,10,11,11,13,9,12,9,14,10,8,12,11,10,11,13,8,7,7,7,4,6,7,5,7,7,8,8,5,9,5,8,8,6,9,6],\"y\":[0.9189892557803354,0.9093698031637076,0.9105531675128846,0.9157055213657296,0.9037133385845879,0.9064976172989647,0.9138641484798024,0.9154464694672898,0.9176569968033308,0.9104625666968472,0.9190949415423347,0.9190704261209405,0.9190886077199814,0.9168044986359491,0.8920442965904719,0.9179707655239449,0.9169321198021304,0.9164571091065035,0.9182657509358989,0.9132521319335056,0.9052528606856146,0.9190676495527578,0.9188563355112735,0.9190957224912776,0.9168595525026241,0.9208474288780399,0.9195253973723785,0.9204655783408834,0.9204933279768776,0.9191601428994913,0.9192576911190633,0.9194590422345709,0.919248387096431,0.9195795845162884,0.9195182427540397,0.9196347366821209,0.9196315757044251,0.9177856348020106,0.9190609581108193,0.9186378816099483,0.9189421444878996,0.919631575694192,0.9192844849634036,0.9190609581108193,0.9193874668458518],\"type\":\"scatter\",\"xaxis\":\"x4\",\"yaxis\":\"y4\"}],                        {\"template\":{\"data\":{\"histogram2dcontour\":[{\"type\":\"histogram2dcontour\",\"colorbar\":{\"outlinewidth\":0,\"ticks\":\"\"},\"colorscale\":[[0.0,\"#0d0887\"],[0.1111111111111111,\"#46039f\"],[0.2222222222222222,\"#7201a8\"],[0.3333333333333333,\"#9c179e\"],[0.4444444444444444,\"#bd3786\"],[0.5555555555555556,\"#d8576b\"],[0.6666666666666666,\"#ed7953\"],[0.7777777777777778,\"#fb9f3a\"],[0.8888888888888888,\"#fdca26\"],[1.0,\"#f0f921\"]]}],\"choropleth\":[{\"type\":\"choropleth\",\"colorbar\":{\"outlinewidth\":0,\"ticks\":\"\"}}],\"histogram2d\":[{\"type\":\"histogram2d\",\"colorbar\":{\"outlinewidth\":0,\"ticks\":\"\"},\"colorscale\":[[0.0,\"#0d0887\"],[0.1111111111111111,\"#46039f\"],[0.2222222222222222,\"#7201a8\"],[0.3333333333333333,\"#9c179e\"],[0.4444444444444444,\"#bd3786\"],[0.5555555555555556,\"#d8576b\"],[0.6666666666666666,\"#ed7953\"],[0.7777777777777778,\"#fb9f3a\"],[0.8888888888888888,\"#fdca26\"],[1.0,\"#f0f921\"]]}],\"heatmap\":[{\"type\":\"heatmap\",\"colorbar\":{\"outlinewidth\":0,\"ticks\":\"\"},\"colorscale\":[[0.0,\"#0d0887\"],[0.1111111111111111,\"#46039f\"],[0.2222222222222222,\"#7201a8\"],[0.3333333333333333,\"#9c179e\"],[0.4444444444444444,\"#bd3786\"],[0.5555555555555556,\"#d8576b\"],[0.6666666666666666,\"#ed7953\"],[0.7777777777777778,\"#fb9f3a\"],[0.8888888888888888,\"#fdca26\"],[1.0,\"#f0f921\"]]}],\"heatmapgl\":[{\"type\":\"heatmapgl\",\"colorbar\":{\"outlinewidth\":0,\"ticks\":\"\"},\"colorscale\":[[0.0,\"#0d0887\"],[0.1111111111111111,\"#46039f\"],[0.2222222222222222,\"#7201a8\"],[0.3333333333333333,\"#9c179e\"],[0.4444444444444444,\"#bd3786\"],[0.5555555555555556,\"#d8576b\"],[0.6666666666666666,\"#ed7953\"],[0.7777777777777778,\"#fb9f3a\"],[0.8888888888888888,\"#fdca26\"],[1.0,\"#f0f921\"]]}],\"contourcarpet\":[{\"type\":\"contourcarpet\",\"colorbar\":{\"outlinewidth\":0,\"ticks\":\"\"}}],\"contour\":[{\"type\":\"contour\",\"colorbar\":{\"outlinewidth\":0,\"ticks\":\"\"},\"colorscale\":[[0.0,\"#0d0887\"],[0.1111111111111111,\"#46039f\"],[0.2222222222222222,\"#7201a8\"],[0.3333333333333333,\"#9c179e\"],[0.4444444444444444,\"#bd3786\"],[0.5555555555555556,\"#d8576b\"],[0.6666666666666666,\"#ed7953\"],[0.7777777777777778,\"#fb9f3a\"],[0.8888888888888888,\"#fdca26\"],[1.0,\"#f0f921\"]]}],\"surface\":[{\"type\":\"surface\",\"colorbar\":{\"outlinewidth\":0,\"ticks\":\"\"},\"colorscale\":[[0.0,\"#0d0887\"],[0.1111111111111111,\"#46039f\"],[0.2222222222222222,\"#7201a8\"],[0.3333333333333333,\"#9c179e\"],[0.4444444444444444,\"#bd3786\"],[0.5555555555555556,\"#d8576b\"],[0.6666666666666666,\"#ed7953\"],[0.7777777777777778,\"#fb9f3a\"],[0.8888888888888888,\"#fdca26\"],[1.0,\"#f0f921\"]]}],\"mesh3d\":[{\"type\":\"mesh3d\",\"colorbar\":{\"outlinewidth\":0,\"ticks\":\"\"}}],\"scatter\":[{\"fillpattern\":{\"fillmode\":\"overlay\",\"size\":10,\"solidity\":0.2},\"type\":\"scatter\"}],\"parcoords\":[{\"type\":\"parcoords\",\"line\":{\"colorbar\":{\"outlinewidth\":0,\"ticks\":\"\"}}}],\"scatterpolargl\":[{\"type\":\"scatterpolargl\",\"marker\":{\"colorbar\":{\"outlinewidth\":0,\"ticks\":\"\"}}}],\"bar\":[{\"error_x\":{\"color\":\"#2a3f5f\"},\"error_y\":{\"color\":\"#2a3f5f\"},\"marker\":{\"line\":{\"color\":\"#E5ECF6\",\"width\":0.5},\"pattern\":{\"fillmode\":\"overlay\",\"size\":10,\"solidity\":0.2}},\"type\":\"bar\"}],\"scattergeo\":[{\"type\":\"scattergeo\",\"marker\":{\"colorbar\":{\"outlinewidth\":0,\"ticks\":\"\"}}}],\"scatterpolar\":[{\"type\":\"scatterpolar\",\"marker\":{\"colorbar\":{\"outlinewidth\":0,\"ticks\":\"\"}}}],\"histogram\":[{\"marker\":{\"pattern\":{\"fillmode\":\"overlay\",\"size\":10,\"solidity\":0.2}},\"type\":\"histogram\"}],\"scattergl\":[{\"type\":\"scattergl\",\"marker\":{\"colorbar\":{\"outlinewidth\":0,\"ticks\":\"\"}}}],\"scatter3d\":[{\"type\":\"scatter3d\",\"line\":{\"colorbar\":{\"outlinewidth\":0,\"ticks\":\"\"}},\"marker\":{\"colorbar\":{\"outlinewidth\":0,\"ticks\":\"\"}}}],\"scattermapbox\":[{\"type\":\"scattermapbox\",\"marker\":{\"colorbar\":{\"outlinewidth\":0,\"ticks\":\"\"}}}],\"scatterternary\":[{\"type\":\"scatterternary\",\"marker\":{\"colorbar\":{\"outlinewidth\":0,\"ticks\":\"\"}}}],\"scattercarpet\":[{\"type\":\"scattercarpet\",\"marker\":{\"colorbar\":{\"outlinewidth\":0,\"ticks\":\"\"}}}],\"carpet\":[{\"aaxis\":{\"endlinecolor\":\"#2a3f5f\",\"gridcolor\":\"white\",\"linecolor\":\"white\",\"minorgridcolor\":\"white\",\"startlinecolor\":\"#2a3f5f\"},\"baxis\":{\"endlinecolor\":\"#2a3f5f\",\"gridcolor\":\"white\",\"linecolor\":\"white\",\"minorgridcolor\":\"white\",\"startlinecolor\":\"#2a3f5f\"},\"type\":\"carpet\"}],\"table\":[{\"cells\":{\"fill\":{\"color\":\"#EBF0F8\"},\"line\":{\"color\":\"white\"}},\"header\":{\"fill\":{\"color\":\"#C8D4E3\"},\"line\":{\"color\":\"white\"}},\"type\":\"table\"}],\"barpolar\":[{\"marker\":{\"line\":{\"color\":\"#E5ECF6\",\"width\":0.5},\"pattern\":{\"fillmode\":\"overlay\",\"size\":10,\"solidity\":0.2}},\"type\":\"barpolar\"}],\"pie\":[{\"automargin\":true,\"type\":\"pie\"}]},\"layout\":{\"autotypenumbers\":\"strict\",\"colorway\":[\"#636efa\",\"#EF553B\",\"#00cc96\",\"#ab63fa\",\"#FFA15A\",\"#19d3f3\",\"#FF6692\",\"#B6E880\",\"#FF97FF\",\"#FECB52\"],\"font\":{\"color\":\"#2a3f5f\"},\"hovermode\":\"closest\",\"hoverlabel\":{\"align\":\"left\"},\"paper_bgcolor\":\"white\",\"plot_bgcolor\":\"#E5ECF6\",\"polar\":{\"bgcolor\":\"#E5ECF6\",\"angularaxis\":{\"gridcolor\":\"white\",\"linecolor\":\"white\",\"ticks\":\"\"},\"radialaxis\":{\"gridcolor\":\"white\",\"linecolor\":\"white\",\"ticks\":\"\"}},\"ternary\":{\"bgcolor\":\"#E5ECF6\",\"aaxis\":{\"gridcolor\":\"white\",\"linecolor\":\"white\",\"ticks\":\"\"},\"baxis\":{\"gridcolor\":\"white\",\"linecolor\":\"white\",\"ticks\":\"\"},\"caxis\":{\"gridcolor\":\"white\",\"linecolor\":\"white\",\"ticks\":\"\"}},\"coloraxis\":{\"colorbar\":{\"outlinewidth\":0,\"ticks\":\"\"}},\"colorscale\":{\"sequential\":[[0.0,\"#0d0887\"],[0.1111111111111111,\"#46039f\"],[0.2222222222222222,\"#7201a8\"],[0.3333333333333333,\"#9c179e\"],[0.4444444444444444,\"#bd3786\"],[0.5555555555555556,\"#d8576b\"],[0.6666666666666666,\"#ed7953\"],[0.7777777777777778,\"#fb9f3a\"],[0.8888888888888888,\"#fdca26\"],[1.0,\"#f0f921\"]],\"sequentialminus\":[[0.0,\"#0d0887\"],[0.1111111111111111,\"#46039f\"],[0.2222222222222222,\"#7201a8\"],[0.3333333333333333,\"#9c179e\"],[0.4444444444444444,\"#bd3786\"],[0.5555555555555556,\"#d8576b\"],[0.6666666666666666,\"#ed7953\"],[0.7777777777777778,\"#fb9f3a\"],[0.8888888888888888,\"#fdca26\"],[1.0,\"#f0f921\"]],\"diverging\":[[0,\"#8e0152\"],[0.1,\"#c51b7d\"],[0.2,\"#de77ae\"],[0.3,\"#f1b6da\"],[0.4,\"#fde0ef\"],[0.5,\"#f7f7f7\"],[0.6,\"#e6f5d0\"],[0.7,\"#b8e186\"],[0.8,\"#7fbc41\"],[0.9,\"#4d9221\"],[1,\"#276419\"]]},\"xaxis\":{\"gridcolor\":\"white\",\"linecolor\":\"white\",\"ticks\":\"\",\"title\":{\"standoff\":15},\"zerolinecolor\":\"white\",\"automargin\":true,\"zerolinewidth\":2},\"yaxis\":{\"gridcolor\":\"white\",\"linecolor\":\"white\",\"ticks\":\"\",\"title\":{\"standoff\":15},\"zerolinecolor\":\"white\",\"automargin\":true,\"zerolinewidth\":2},\"scene\":{\"xaxis\":{\"backgroundcolor\":\"#E5ECF6\",\"gridcolor\":\"white\",\"linecolor\":\"white\",\"showbackground\":true,\"ticks\":\"\",\"zerolinecolor\":\"white\",\"gridwidth\":2},\"yaxis\":{\"backgroundcolor\":\"#E5ECF6\",\"gridcolor\":\"white\",\"linecolor\":\"white\",\"showbackground\":true,\"ticks\":\"\",\"zerolinecolor\":\"white\",\"gridwidth\":2},\"zaxis\":{\"backgroundcolor\":\"#E5ECF6\",\"gridcolor\":\"white\",\"linecolor\":\"white\",\"showbackground\":true,\"ticks\":\"\",\"zerolinecolor\":\"white\",\"gridwidth\":2}},\"shapedefaults\":{\"line\":{\"color\":\"#2a3f5f\"}},\"annotationdefaults\":{\"arrowcolor\":\"#2a3f5f\",\"arrowhead\":0,\"arrowwidth\":1},\"geo\":{\"bgcolor\":\"white\",\"landcolor\":\"#E5ECF6\",\"subunitcolor\":\"white\",\"showland\":true,\"showlakes\":true,\"lakecolor\":\"white\"},\"title\":{\"x\":0.05},\"mapbox\":{\"style\":\"light\"}}},\"xaxis\":{\"anchor\":\"y\",\"domain\":[0.0,0.2125],\"title\":{\"text\":\"max_depth\"}},\"yaxis\":{\"anchor\":\"x\",\"domain\":[0.0,1.0],\"title\":{\"text\":\"Objective Value\"}},\"xaxis2\":{\"anchor\":\"y2\",\"domain\":[0.2625,0.475],\"title\":{\"text\":\"max_features\"},\"type\":\"category\",\"categoryorder\":\"array\",\"categoryarray\":[\"sqrt\",\"log2\"]},\"yaxis2\":{\"anchor\":\"x2\",\"domain\":[0.0,1.0],\"matches\":\"y\",\"showticklabels\":false},\"xaxis3\":{\"anchor\":\"y3\",\"domain\":[0.525,0.7375],\"title\":{\"text\":\"max_leaf_nodes\"}},\"yaxis3\":{\"anchor\":\"x3\",\"domain\":[0.0,1.0],\"matches\":\"y\",\"showticklabels\":false},\"xaxis4\":{\"anchor\":\"y4\",\"domain\":[0.7875,1.0],\"title\":{\"text\":\"min_samples_split\"}},\"yaxis4\":{\"anchor\":\"x4\",\"domain\":[0.0,1.0],\"matches\":\"y\",\"showticklabels\":false},\"title\":{\"text\":\"Slice Plot\"},\"width\":1200},                        {\"responsive\": true}                    ).then(function(){\n",
       "                            \n",
       "var gd = document.getElementById('1207b5f6-05bc-4b28-b328-875d1b389222');\n",
       "var x = new MutationObserver(function (mutations, observer) {{\n",
       "        var display = window.getComputedStyle(gd).display;\n",
       "        if (!display || display === 'none') {{\n",
       "            console.log([gd, 'removed!']);\n",
       "            Plotly.purge(gd);\n",
       "            observer.disconnect();\n",
       "        }}\n",
       "}});\n",
       "\n",
       "// Listen for the removal of the full notebook cells\n",
       "var notebookContainer = gd.closest('#notebook-container');\n",
       "if (notebookContainer) {{\n",
       "    x.observe(notebookContainer, {childList: true});\n",
       "}}\n",
       "\n",
       "// Listen for the clearing of the current output cell\n",
       "var outputEl = gd.closest('.output');\n",
       "if (outputEl) {{\n",
       "    x.observe(outputEl, {childList: true});\n",
       "}}\n",
       "\n",
       "                        })                };                });            </script>        </div>"
      ]
     },
     "metadata": {},
     "output_type": "display_data"
    }
   ],
   "source": [
    "slice_plot = vis.plot_slice(study)\n",
    "slice_plot.show()"
   ]
  },
  {
   "cell_type": "code",
   "execution_count": 36,
   "id": "51e2ab52-97b1-46f3-97c5-6eafb7f24533",
   "metadata": {},
   "outputs": [
    {
     "name": "stdout",
     "output_type": "stream",
     "text": [
      "Test MAE:  0.036\n",
      "Test MSE:  0.003\n",
      "Test RMSE:  0.051\n",
      "Test R2 score:   0.930\n"
     ]
    }
   ],
   "source": [
    "# Create the model Random forest with the best hyper parametrs and test it.\n",
    "best_model = RandomForestRegressor(random_state=123, **study.best_params)\n",
    "best_model.fit(X_train_scaled, y_train)\n",
    "\n",
    "# Make prediction\n",
    "y_pred_test_df = best_model.predict(X_test_scaled)\n",
    "\n",
    "from sklearn.metrics import mean_absolute_error, mean_squared_error\n",
    "import numpy as np\n",
    "\n",
    "# Gide us the result\n",
    "rmse = np.sqrt(mean_squared_error(y_test, y_pred_test_df))\n",
    "\n",
    "print(f\"Test MAE: {mean_absolute_error(y_test, y_pred_test_df): .3f}\")\n",
    "print(f\"Test MSE: {mean_squared_error(y_test, y_pred_test_df): .3f}\")\n",
    "print(f\"Test RMSE: {rmse: .3f}\")\n",
    "print(f\"Test R2 score:  {best_model.score(X_test_scaled, y_test): .3f}\")\n"
   ]
  },
  {
   "cell_type": "code",
   "execution_count": null,
   "id": "9c4d9de8-0b22-41a0-a4aa-3d7c7b80dbde",
   "metadata": {},
   "outputs": [],
   "source": []
  }
 ],
 "metadata": {
  "kernelspec": {
   "display_name": "Python [conda env:base] *",
   "language": "python",
   "name": "conda-base-py"
  },
  "language_info": {
   "codemirror_mode": {
    "name": "ipython",
    "version": 3
   },
   "file_extension": ".py",
   "mimetype": "text/x-python",
   "name": "python",
   "nbconvert_exporter": "python",
   "pygments_lexer": "ipython3",
   "version": "3.13.5"
  }
 },
 "nbformat": 4,
 "nbformat_minor": 5
}
